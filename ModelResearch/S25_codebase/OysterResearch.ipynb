{
 "cells": [
  {
   "cell_type": "code",
   "execution_count": 5,
   "id": "ffddb32e-d74c-4701-bc56-8ce068d5c990",
   "metadata": {},
   "outputs": [
    {
     "name": "stdout",
     "output_type": "stream",
     "text": [
      "Done\n"
     ]
    }
   ],
   "source": [
    "#Try running this cell if Jupyter Notebook is acting funny\n",
    "!pip install ipywidgets\n",
    "from IPython import display\n",
    "display.clear_output()\n",
    "print(\"Done\")"
   ]
  },
  {
   "cell_type": "code",
   "execution_count": 6,
   "id": "9da04fc9-1e8b-4c4b-9e97-85bd2a5359a8",
   "metadata": {},
   "outputs": [
    {
     "name": "stdout",
     "output_type": "stream",
     "text": [
      "CUDA is not available. Using CPU.\n"
     ]
    }
   ],
   "source": [
    "import torch\n",
    "\n",
    "# Check if CUDA is available\n",
    "if torch.cuda.is_available():\n",
    "    print(\"CUDA is available. Using GPU:\", torch.cuda.get_device_name(0))\n",
    "else:\n",
    "    print(\"CUDA is not available. Using CPU.\")\n"
   ]
  },
  {
   "cell_type": "code",
   "execution_count": 7,
   "id": "e9e94729-112c-4965-9e54-bef133368d53",
   "metadata": {},
   "outputs": [
    {
     "name": "stdout",
     "output_type": "stream",
     "text": [
      "c:\\Users\\user\\Documents\\GitHub\\Oyster_Detection\\S25_codebase\n"
     ]
    }
   ],
   "source": [
    "import os\n",
    "HOME =  os.getcwd()\n",
    "print(HOME)"
   ]
  },
  {
   "cell_type": "code",
   "execution_count": 2,
   "id": "b71bf1ed-4bc6-404c-af5b-34b6b1b070bb",
   "metadata": {},
   "outputs": [
    {
     "name": "stdout",
     "output_type": "stream",
     "text": [
      "Ultralytics YOLOv8.2.103  Python-3.11.9 torch-2.7.1+cpu CPU (13th Gen Intel Core(TM) i9-13900K)\n",
      "Setup complete  (32 CPUs, 31.7 GB RAM, 561.2/930.6 GB disk)\n"
     ]
    }
   ],
   "source": [
    "#Make the necessary imports\n",
    "!pip install ultralytics==8.2.103 -q\n",
    "!pip install roboflow\n",
    "\n",
    "from IPython import display\n",
    "display.clear_output()\n",
    "\n",
    "import ultralytics\n",
    "ultralytics.checks()"
   ]
  },
  {
   "cell_type": "code",
   "execution_count": 8,
   "id": "6c4d5f9e-5e80-433c-9af5-c5f387cf43fb",
   "metadata": {},
   "outputs": [
    {
     "name": "stdout",
     "output_type": "stream",
     "text": [
      "Finished importing display, Image ✅\n"
     ]
    }
   ],
   "source": [
    "#Import YOLO\n",
    "from ultralytics import YOLO\n",
    "\n",
    "from IPython.display import display, Image\n",
    "print(\"Finished importing display, Image ✅\")"
   ]
  },
  {
   "cell_type": "code",
   "execution_count": null,
   "id": "2e7a9f9c-afdb-432e-8dec-c76746d033b5",
   "metadata": {},
   "outputs": [
    {
     "name": "stdout",
     "output_type": "stream",
     "text": [
      "loading Roboflow workspace...\n",
      "loading Roboflow project...\n"
     ]
    },
    {
     "ename": "RuntimeError",
     "evalue": "{'error': 'yolov11-obb is an invalid format for project type object-detection. Please use one of: clip, coco, coco-mmdetection, createml, darknet, multiclass, tensorflow, tfrecord, voc, yolokeras, yolov4pytorch, yolov4scaled, yolov5-obb, yolov5pytorch, yolov7pytorch, yolov8, yolov8-obb, yolov9, yolov11, yolov12, mt-yolov6, retinanet, benchmarker, paligemma, paligemma-txt, florence2-od, openai.'}",
     "output_type": "error",
     "traceback": [
      "\u001b[1;31m---------------------------------------------------------------------------\u001b[0m",
      "\u001b[1;31mRuntimeError\u001b[0m                              Traceback (most recent call last)",
      "Cell \u001b[1;32mIn[11], line 7\u001b[0m\n\u001b[0;32m      5\u001b[0m project \u001b[38;5;241m=\u001b[39m rf\u001b[38;5;241m.\u001b[39mworkspace(\u001b[38;5;124m\"\u001b[39m\u001b[38;5;124moyster-classification\u001b[39m\u001b[38;5;124m\"\u001b[39m)\u001b[38;5;241m.\u001b[39mproject(\u001b[38;5;124m\"\u001b[39m\u001b[38;5;124mreu_oyster_2024_improved-e5wxs\u001b[39m\u001b[38;5;124m\"\u001b[39m)\n\u001b[0;32m      6\u001b[0m version \u001b[38;5;241m=\u001b[39m project\u001b[38;5;241m.\u001b[39mversion(\u001b[38;5;241m2\u001b[39m)\n\u001b[1;32m----> 7\u001b[0m dataset \u001b[38;5;241m=\u001b[39m \u001b[43mversion\u001b[49m\u001b[38;5;241;43m.\u001b[39;49m\u001b[43mdownload\u001b[49m\u001b[43m(\u001b[49m\u001b[38;5;124;43m\"\u001b[39;49m\u001b[38;5;124;43myolov11-obb\u001b[39;49m\u001b[38;5;124;43m\"\u001b[39;49m\u001b[43m)\u001b[49m\n\u001b[0;32m      8\u001b[0m \u001b[38;5;28;01mfrom\u001b[39;00m \u001b[38;5;21;01mIPython\u001b[39;00m \u001b[38;5;28;01mimport\u001b[39;00m display\n\u001b[0;32m      9\u001b[0m display\u001b[38;5;241m.\u001b[39mclear_output()\n",
      "File \u001b[1;32m~\\AppData\\Local\\Packages\\PythonSoftwareFoundation.Python.3.11_qbz5n2kfra8p0\\LocalCache\\local-packages\\Python311\\site-packages\\roboflow\\core\\version.py:210\u001b[0m, in \u001b[0;36mVersion.download\u001b[1;34m(self, model_format, location, overwrite)\u001b[0m\n\u001b[0;32m    207\u001b[0m model_format \u001b[38;5;241m=\u001b[39m \u001b[38;5;28mself\u001b[39m\u001b[38;5;241m.\u001b[39m__get_format_identifier(model_format)\n\u001b[0;32m    209\u001b[0m \u001b[38;5;28;01mif\u001b[39;00m model_format \u001b[38;5;129;01mnot\u001b[39;00m \u001b[38;5;129;01min\u001b[39;00m \u001b[38;5;28mself\u001b[39m\u001b[38;5;241m.\u001b[39mexports:\n\u001b[1;32m--> 210\u001b[0m     \u001b[38;5;28;43mself\u001b[39;49m\u001b[38;5;241;43m.\u001b[39;49m\u001b[43mexport\u001b[49m\u001b[43m(\u001b[49m\u001b[43mmodel_format\u001b[49m\u001b[43m)\u001b[49m\n\u001b[0;32m    212\u001b[0m \u001b[38;5;66;03m# if model_format is not in\u001b[39;00m\n\u001b[0;32m    214\u001b[0m \u001b[38;5;28;01mif\u001b[39;00m location \u001b[38;5;129;01mis\u001b[39;00m \u001b[38;5;28;01mNone\u001b[39;00m:\n",
      "File \u001b[1;32m~\\AppData\\Local\\Packages\\PythonSoftwareFoundation.Python.3.11_qbz5n2kfra8p0\\LocalCache\\local-packages\\Python311\\site-packages\\roboflow\\core\\version.py:263\u001b[0m, in \u001b[0;36mVersion.export\u001b[1;34m(self, model_format)\u001b[0m\n\u001b[0;32m    261\u001b[0m \u001b[38;5;28;01mif\u001b[39;00m \u001b[38;5;129;01mnot\u001b[39;00m response\u001b[38;5;241m.\u001b[39mok:\n\u001b[0;32m    262\u001b[0m     \u001b[38;5;28;01mtry\u001b[39;00m:\n\u001b[1;32m--> 263\u001b[0m         \u001b[38;5;28;01mraise\u001b[39;00m \u001b[38;5;167;01mRuntimeError\u001b[39;00m(response\u001b[38;5;241m.\u001b[39mjson())\n\u001b[0;32m    264\u001b[0m     \u001b[38;5;28;01mexcept\u001b[39;00m json\u001b[38;5;241m.\u001b[39mJSONDecodeError:\n\u001b[0;32m    265\u001b[0m         response\u001b[38;5;241m.\u001b[39mraise_for_status()\n",
      "\u001b[1;31mRuntimeError\u001b[0m: {'error': 'yolov11-obb is an invalid format for project type object-detection. Please use one of: clip, coco, coco-mmdetection, createml, darknet, multiclass, tensorflow, tfrecord, voc, yolokeras, yolov4pytorch, yolov4scaled, yolov5-obb, yolov5pytorch, yolov7pytorch, yolov8, yolov8-obb, yolov9, yolov11, yolov12, mt-yolov6, retinanet, benchmarker, paligemma, paligemma-txt, florence2-od, openai.'}"
     ]
    }
   ],
   "source": [
    "from roboflow import Roboflow\n",
    "rf = Roboflow(api_key=\"exampleaipkeyhere\") #add your own api key. Free to get from Roboflow.com\n",
    "\n",
    "project = rf.workspace(\"oyster-classification\").project(\"reu_oyster_2024_improved-e5wxs\")\n",
    "version = project.version(2)\n",
    "dataset = version.download(\"yolov8-obb\")\n",
    "from IPython import display\n",
    "display.clear_output()\n",
    "print(\"\\nDone extracting files! ✅\")"
   ]
  },
  {
   "cell_type": "code",
   "execution_count": 8,
   "id": "64f297cd-70b8-42c1-8870-f65b386ad74a",
   "metadata": {},
   "outputs": [
    {
     "name": "stdout",
     "output_type": "stream",
     "text": [
      "Traceback (most recent call last):\n",
      "  File \"/mnt/linuxlab/home/ncorcoran1/Oyster_Orientation_Model/OysterResearch.ipynb\", line 181, in <module>\n",
      "    \"execution_count\": null,\n",
      "NameError: name 'null' is not defined\n",
      "Allocated Memory: 5000.24 MB\n",
      "New https://pypi.org/project/ultralytics/8.3.115 available 😃 Update with 'pip install -U ultralytics'\n",
      "Ultralytics YOLOv8.2.103 🚀 Python-3.9.2 torch-1.10.1+cu113 CUDA:0 (NVIDIA GeForce RTX 4080, 16071MiB)\n",
      "WARNING ⚠️ Upgrade to torch>=2.0.0 for deterministic training.\n",
      "\u001b[34m\u001b[1mengine/trainer: \u001b[0mtask=detect, mode=train, model=yolov8m.pt, data=/mnt/linuxlab/home/ncorcoran1/Oyster_Orientation_Model/REU_Oyster_2024_Improved-2/data.yaml, epochs=200, time=None, patience=20, batch=16, imgsz=640, save=True, save_period=-1, cache=False, device=None, workers=8, project=oyster_logs, name=model_yolov8m, exist_ok=True, pretrained=True, optimizer=auto, verbose=True, seed=0, deterministic=True, single_cls=False, rect=False, cos_lr=False, close_mosaic=10, resume=False, amp=True, fraction=1.0, profile=False, freeze=None, multi_scale=False, overlap_mask=True, mask_ratio=4, dropout=0.0, val=True, split=val, save_json=False, save_hybrid=False, conf=None, iou=0.7, max_det=300, half=False, dnn=False, plots=True, source=None, vid_stride=1, stream_buffer=False, visualize=False, augment=False, agnostic_nms=False, classes=None, retina_masks=False, embed=None, show=False, save_frames=False, save_txt=False, save_conf=False, save_crop=False, show_labels=True, show_conf=True, show_boxes=True, line_width=None, format=torchscript, keras=False, optimize=True, int8=False, dynamic=False, simplify=True, opset=None, workspace=4, nms=False, lr0=0.01, lrf=0.01, momentum=0.937, weight_decay=0.0005, warmup_epochs=3.0, warmup_momentum=0.8, warmup_bias_lr=0.1, box=7.5, cls=0.5, dfl=1.5, pose=12.0, kobj=1.0, label_smoothing=0.0, nbs=64, hsv_h=0.015, hsv_s=0.7, hsv_v=0.4, degrees=0.0, translate=0.1, scale=0.5, shear=0.0, perspective=0.0, flipud=0.0, fliplr=0.5, bgr=0.0, mosaic=1.0, mixup=0.0, copy_paste=0.0, auto_augment=randaugment, erasing=0.4, crop_fraction=1.0, cfg=None, tracker=botsort.yaml, save_dir=oyster_logs/model_yolov8m\n",
      "Overriding model.yaml nc=80 with nc=3\n",
      "\n",
      "                   from  n    params  module                                       arguments                     \n",
      "  0                  -1  1      1392  ultralytics.nn.modules.conv.Conv             [3, 48, 3, 2]                 \n",
      "  1                  -1  1     41664  ultralytics.nn.modules.conv.Conv             [48, 96, 3, 2]                \n",
      "  2                  -1  2    111360  ultralytics.nn.modules.block.C2f             [96, 96, 2, True]             \n",
      "  3                  -1  1    166272  ultralytics.nn.modules.conv.Conv             [96, 192, 3, 2]               \n",
      "  4                  -1  4    813312  ultralytics.nn.modules.block.C2f             [192, 192, 4, True]           \n",
      "  5                  -1  1    664320  ultralytics.nn.modules.conv.Conv             [192, 384, 3, 2]              \n",
      "  6                  -1  4   3248640  ultralytics.nn.modules.block.C2f             [384, 384, 4, True]           \n",
      "  7                  -1  1   1991808  ultralytics.nn.modules.conv.Conv             [384, 576, 3, 2]              \n",
      "  8                  -1  2   3985920  ultralytics.nn.modules.block.C2f             [576, 576, 2, True]           \n",
      "  9                  -1  1    831168  ultralytics.nn.modules.block.SPPF            [576, 576, 5]                 \n",
      " 10                  -1  1         0  torch.nn.modules.upsampling.Upsample         [None, 2, 'nearest']          \n",
      " 11             [-1, 6]  1         0  ultralytics.nn.modules.conv.Concat           [1]                           \n",
      " 12                  -1  2   1993728  ultralytics.nn.modules.block.C2f             [960, 384, 2]                 \n",
      " 13                  -1  1         0  torch.nn.modules.upsampling.Upsample         [None, 2, 'nearest']          \n",
      " 14             [-1, 4]  1         0  ultralytics.nn.modules.conv.Concat           [1]                           \n",
      " 15                  -1  2    517632  ultralytics.nn.modules.block.C2f             [576, 192, 2]                 \n",
      " 16                  -1  1    332160  ultralytics.nn.modules.conv.Conv             [192, 192, 3, 2]              \n",
      " 17            [-1, 12]  1         0  ultralytics.nn.modules.conv.Concat           [1]                           \n",
      " 18                  -1  2   1846272  ultralytics.nn.modules.block.C2f             [576, 384, 2]                 \n",
      " 19                  -1  1   1327872  ultralytics.nn.modules.conv.Conv             [384, 384, 3, 2]              \n",
      " 20             [-1, 9]  1         0  ultralytics.nn.modules.conv.Concat           [1]                           \n",
      " 21                  -1  2   4207104  ultralytics.nn.modules.block.C2f             [960, 576, 2]                 \n",
      " 22        [15, 18, 21]  1   3777433  ultralytics.nn.modules.head.Detect           [3, [192, 384, 576]]          \n",
      "Model summary: 295 layers, 25,858,057 parameters, 25,858,041 gradients, 79.1 GFLOPs\n",
      "\n",
      "Transferred 469/475 items from pretrained weights\n",
      "\u001b[34m\u001b[1mTensorBoard: \u001b[0mStart with 'tensorboard --logdir oyster_logs/model_yolov8m', view at http://localhost:6006/\n",
      "Freezing layer 'model.22.dfl.conv.weight'\n",
      "\u001b[34m\u001b[1mAMP: \u001b[0mrunning Automatic Mixed Precision (AMP) checks with YOLOv8n...\n",
      "\u001b[34m\u001b[1mAMP: \u001b[0mchecks passed ✅\n"
     ]
    },
    {
     "name": "stderr",
     "output_type": "stream",
     "text": [
      "\u001b[34m\u001b[1mtrain: \u001b[0mScanning /mnt/linuxlab/home/ncorcoran1/Oyster_Orientation_Model/REU_Oyster_2024_Improved-2/train/labels.cache... 7916 images, 2415 backgrounds, 127 corrupt: 100%|██████████| 7916/7916 [00:00<?, ?it/s]\u001b[0m"
     ]
    },
    {
     "name": "stdout",
     "output_type": "stream",
     "text": [
      "\u001b[34m\u001b[1mtrain: \u001b[0mWARNING ⚠️ /mnt/linuxlab/home/ncorcoran1/Oyster_Orientation_Model/REU_Oyster_2024_Improved-2/train/images/02d690e1d96d45e09858b46e75c9ca49_jpg.rf.27f5e0499787429b624843bb8752d2ca.jpg: ignoring corrupt image/label: non-normalized or out of bounds coordinates [     1.0618]\n",
      "\u001b[34m\u001b[1mtrain: \u001b[0mWARNING ⚠️ /mnt/linuxlab/home/ncorcoran1/Oyster_Orientation_Model/REU_Oyster_2024_Improved-2/train/images/02d690e1d96d45e09858b46e75c9ca49_jpg.rf.7375414da8dee3cf7b983ef524864cff.jpg: ignoring corrupt image/label: non-normalized or out of bounds coordinates [     1.1041]\n",
      "\u001b[34m\u001b[1mtrain: \u001b[0mWARNING ⚠️ /mnt/linuxlab/home/ncorcoran1/Oyster_Orientation_Model/REU_Oyster_2024_Improved-2/train/images/02d690e1d96d45e09858b46e75c9ca49_jpg.rf.73a3e4db6201888a72febf8f30393c06.jpg: ignoring corrupt image/label: non-normalized or out of bounds coordinates [     1.0618]\n",
      "\u001b[34m\u001b[1mtrain: \u001b[0mWARNING ⚠️ /mnt/linuxlab/home/ncorcoran1/Oyster_Orientation_Model/REU_Oyster_2024_Improved-2/train/images/02d690e1d96d45e09858b46e75c9ca49_jpg.rf.a441fccf03d45fc9105c49aa1635ba54.jpg: ignoring corrupt image/label: non-normalized or out of bounds coordinates [     1.0618]\n",
      "\u001b[34m\u001b[1mtrain: \u001b[0mWARNING ⚠️ /mnt/linuxlab/home/ncorcoran1/Oyster_Orientation_Model/REU_Oyster_2024_Improved-2/train/images/02d690e1d96d45e09858b46e75c9ca49_jpg.rf.e6cc90062654d9e2c58937cabd69a03a.jpg: ignoring corrupt image/label: non-normalized or out of bounds coordinates [     1.1041]\n",
      "\u001b[34m\u001b[1mtrain: \u001b[0mWARNING ⚠️ /mnt/linuxlab/home/ncorcoran1/Oyster_Orientation_Model/REU_Oyster_2024_Improved-2/train/images/0b5b368145c74d1884fd5322c497ad99_jpg.rf.3df67fe0427f6033fc6b9e989f4fd9d8.jpg: ignoring corrupt image/label: non-normalized or out of bounds coordinates [     1.0638]\n",
      "\u001b[34m\u001b[1mtrain: \u001b[0mWARNING ⚠️ /mnt/linuxlab/home/ncorcoran1/Oyster_Orientation_Model/REU_Oyster_2024_Improved-2/train/images/0b5b368145c74d1884fd5322c497ad99_jpg.rf.46bee49870a1eb81759fdd4322093afe.jpg: ignoring corrupt image/label: non-normalized or out of bounds coordinates [     1.0638]\n",
      "\u001b[34m\u001b[1mtrain: \u001b[0mWARNING ⚠️ /mnt/linuxlab/home/ncorcoran1/Oyster_Orientation_Model/REU_Oyster_2024_Improved-2/train/images/0b5b368145c74d1884fd5322c497ad99_jpg.rf.750a8be1c7d4d2854136823012d90428.jpg: ignoring corrupt image/label: non-normalized or out of bounds coordinates [     1.0638]\n",
      "\u001b[34m\u001b[1mtrain: \u001b[0mWARNING ⚠️ /mnt/linuxlab/home/ncorcoran1/Oyster_Orientation_Model/REU_Oyster_2024_Improved-2/train/images/0b5b368145c74d1884fd5322c497ad99_jpg.rf.8d44cddf17416aa892583995d705ad46.jpg: ignoring corrupt image/label: non-normalized or out of bounds coordinates [      1.004      1.0747]\n",
      "\u001b[34m\u001b[1mtrain: \u001b[0mWARNING ⚠️ /mnt/linuxlab/home/ncorcoran1/Oyster_Orientation_Model/REU_Oyster_2024_Improved-2/train/images/0b5b368145c74d1884fd5322c497ad99_jpg.rf.e1a50cc91ca7961c4c21f090d0f1bb61.jpg: ignoring corrupt image/label: non-normalized or out of bounds coordinates [      1.004      1.0747]\n",
      "\u001b[34m\u001b[1mtrain: \u001b[0mWARNING ⚠️ /mnt/linuxlab/home/ncorcoran1/Oyster_Orientation_Model/REU_Oyster_2024_Improved-2/train/images/0bfa263257cf4ae5bd21e8b560e1f1de_jpg.rf.066d4ea9a420b005c1a343bae93104ce.jpg: ignoring corrupt image/label: non-normalized or out of bounds coordinates [     1.0168      1.0343]\n",
      "\u001b[34m\u001b[1mtrain: \u001b[0mWARNING ⚠️ /mnt/linuxlab/home/ncorcoran1/Oyster_Orientation_Model/REU_Oyster_2024_Improved-2/train/images/0bfa263257cf4ae5bd21e8b560e1f1de_jpg.rf.1bfd11478ff6854c4d19e0493d299339.jpg: ignoring corrupt image/label: non-normalized or out of bounds coordinates [     1.0635]\n",
      "\u001b[34m\u001b[1mtrain: \u001b[0mWARNING ⚠️ /mnt/linuxlab/home/ncorcoran1/Oyster_Orientation_Model/REU_Oyster_2024_Improved-2/train/images/0bfa263257cf4ae5bd21e8b560e1f1de_jpg.rf.3104a77ca7a8833e67a50227dcea1800.jpg: ignoring corrupt image/label: non-normalized or out of bounds coordinates [     1.0635]\n",
      "\u001b[34m\u001b[1mtrain: \u001b[0mWARNING ⚠️ /mnt/linuxlab/home/ncorcoran1/Oyster_Orientation_Model/REU_Oyster_2024_Improved-2/train/images/0bfa263257cf4ae5bd21e8b560e1f1de_jpg.rf.4a57fc3b064de81e8137f651b754686f.jpg: ignoring corrupt image/label: non-normalized or out of bounds coordinates [     1.0426]\n",
      "\u001b[34m\u001b[1mtrain: \u001b[0mWARNING ⚠️ /mnt/linuxlab/home/ncorcoran1/Oyster_Orientation_Model/REU_Oyster_2024_Improved-2/train/images/0bfa263257cf4ae5bd21e8b560e1f1de_jpg.rf.9030b79f06b3943845aa172396c6b2c3.jpg: ignoring corrupt image/label: non-normalized or out of bounds coordinates [     1.0168      1.0343]\n",
      "\u001b[34m\u001b[1mtrain: \u001b[0mWARNING ⚠️ /mnt/linuxlab/home/ncorcoran1/Oyster_Orientation_Model/REU_Oyster_2024_Improved-2/train/images/0bfa263257cf4ae5bd21e8b560e1f1de_jpg.rf.b09cfacf343f7e9f2addcc2d907a9e4e.jpg: ignoring corrupt image/label: non-normalized or out of bounds coordinates [     1.0635]\n",
      "\u001b[34m\u001b[1mtrain: \u001b[0mWARNING ⚠️ /mnt/linuxlab/home/ncorcoran1/Oyster_Orientation_Model/REU_Oyster_2024_Improved-2/train/images/0bfa263257cf4ae5bd21e8b560e1f1de_jpg.rf.f378bc320504721e1cd709417f7e2f4c.jpg: ignoring corrupt image/label: non-normalized or out of bounds coordinates [     1.0426]\n",
      "\u001b[34m\u001b[1mtrain: \u001b[0mWARNING ⚠️ /mnt/linuxlab/home/ncorcoran1/Oyster_Orientation_Model/REU_Oyster_2024_Improved-2/train/images/0bfa263257cf4ae5bd21e8b560e1f1de_jpg.rf.fbba7b4be2fe1576bdf03148ea1a74ae.jpg: ignoring corrupt image/label: non-normalized or out of bounds coordinates [     1.0168      1.0343]\n",
      "\u001b[34m\u001b[1mtrain: \u001b[0mWARNING ⚠️ /mnt/linuxlab/home/ncorcoran1/Oyster_Orientation_Model/REU_Oyster_2024_Improved-2/train/images/0c77acfc41ca49fd835290893a76076a_jpg.rf.054ffa629e6c10ecd52ef93db98be5db.jpg: ignoring corrupt image/label: non-normalized or out of bounds coordinates [     1.0758]\n",
      "\u001b[34m\u001b[1mtrain: \u001b[0mWARNING ⚠️ /mnt/linuxlab/home/ncorcoran1/Oyster_Orientation_Model/REU_Oyster_2024_Improved-2/train/images/0c77acfc41ca49fd835290893a76076a_jpg.rf.3c1bfbffa1459177514efd18dec239ae.jpg: ignoring corrupt image/label: non-normalized or out of bounds coordinates [     1.0547      1.0513]\n",
      "\u001b[34m\u001b[1mtrain: \u001b[0mWARNING ⚠️ /mnt/linuxlab/home/ncorcoran1/Oyster_Orientation_Model/REU_Oyster_2024_Improved-2/train/images/0c77acfc41ca49fd835290893a76076a_jpg.rf.5126692840b01a6f90907fdc8bbd593a.jpg: ignoring corrupt image/label: non-normalized or out of bounds coordinates [     1.0758]\n",
      "\u001b[34m\u001b[1mtrain: \u001b[0mWARNING ⚠️ /mnt/linuxlab/home/ncorcoran1/Oyster_Orientation_Model/REU_Oyster_2024_Improved-2/train/images/0c77acfc41ca49fd835290893a76076a_jpg.rf.5236389452392c97cb561853ca9f3857.jpg: ignoring corrupt image/label: non-normalized or out of bounds coordinates [     1.0547      1.0513]\n",
      "\u001b[34m\u001b[1mtrain: \u001b[0mWARNING ⚠️ /mnt/linuxlab/home/ncorcoran1/Oyster_Orientation_Model/REU_Oyster_2024_Improved-2/train/images/0c77acfc41ca49fd835290893a76076a_jpg.rf.65d5f526f65e85959faaae418ac0543a.jpg: ignoring corrupt image/label: non-normalized or out of bounds coordinates [     1.0758]\n",
      "\u001b[34m\u001b[1mtrain: \u001b[0mWARNING ⚠️ /mnt/linuxlab/home/ncorcoran1/Oyster_Orientation_Model/REU_Oyster_2024_Improved-2/train/images/0c77acfc41ca49fd835290893a76076a_jpg.rf.6f1c96d0f3cbd42f7c74aae0c5519f43.jpg: ignoring corrupt image/label: non-normalized or out of bounds coordinates [     1.0707]\n",
      "\u001b[34m\u001b[1mtrain: \u001b[0mWARNING ⚠️ /mnt/linuxlab/home/ncorcoran1/Oyster_Orientation_Model/REU_Oyster_2024_Improved-2/train/images/0c77acfc41ca49fd835290893a76076a_jpg.rf.9b0747c4cebc8f7877e8bd52962becce.jpg: ignoring corrupt image/label: non-normalized or out of bounds coordinates [     1.0707]\n",
      "\u001b[34m\u001b[1mtrain: \u001b[0mWARNING ⚠️ /mnt/linuxlab/home/ncorcoran1/Oyster_Orientation_Model/REU_Oyster_2024_Improved-2/train/images/0df040b0d9d043d7ad33c41a93f62d32_jpg.rf.2b33440b6abe154ae7a0b186f23d1b44.jpg: ignoring corrupt image/label: non-normalized or out of bounds coordinates [     1.0867]\n",
      "\u001b[34m\u001b[1mtrain: \u001b[0mWARNING ⚠️ /mnt/linuxlab/home/ncorcoran1/Oyster_Orientation_Model/REU_Oyster_2024_Improved-2/train/images/0df040b0d9d043d7ad33c41a93f62d32_jpg.rf.41c900cd5cc6d3d0a3f0903422f18bfd.jpg: ignoring corrupt image/label: non-normalized or out of bounds coordinates [     1.3012      1.1768]\n",
      "\u001b[34m\u001b[1mtrain: \u001b[0mWARNING ⚠️ /mnt/linuxlab/home/ncorcoran1/Oyster_Orientation_Model/REU_Oyster_2024_Improved-2/train/images/0df040b0d9d043d7ad33c41a93f62d32_jpg.rf.68e318a81b447c417a5fb014aedf4cac.jpg: ignoring corrupt image/label: non-normalized or out of bounds coordinates [     1.3002      1.1645]\n",
      "\u001b[34m\u001b[1mtrain: \u001b[0mWARNING ⚠️ /mnt/linuxlab/home/ncorcoran1/Oyster_Orientation_Model/REU_Oyster_2024_Improved-2/train/images/0df040b0d9d043d7ad33c41a93f62d32_jpg.rf.79ddcd9c6f0026d1bc7b304de56b16da.jpg: ignoring corrupt image/label: non-normalized or out of bounds coordinates [     1.3002      1.1645]\n",
      "\u001b[34m\u001b[1mtrain: \u001b[0mWARNING ⚠️ /mnt/linuxlab/home/ncorcoran1/Oyster_Orientation_Model/REU_Oyster_2024_Improved-2/train/images/0df040b0d9d043d7ad33c41a93f62d32_jpg.rf.981b708eae05319ac8f907e6dda69cfb.jpg: ignoring corrupt image/label: non-normalized or out of bounds coordinates [     1.3002      1.1645]\n",
      "\u001b[34m\u001b[1mtrain: \u001b[0mWARNING ⚠️ /mnt/linuxlab/home/ncorcoran1/Oyster_Orientation_Model/REU_Oyster_2024_Improved-2/train/images/0df040b0d9d043d7ad33c41a93f62d32_jpg.rf.c47a0f725de36d18660dbf038a359e41.jpg: ignoring corrupt image/label: non-normalized or out of bounds coordinates [     1.3012      1.1768]\n",
      "\u001b[34m\u001b[1mtrain: \u001b[0mWARNING ⚠️ /mnt/linuxlab/home/ncorcoran1/Oyster_Orientation_Model/REU_Oyster_2024_Improved-2/train/images/0df040b0d9d043d7ad33c41a93f62d32_jpg.rf.e4c641f9eae08fc60796feef40be0929.jpg: ignoring corrupt image/label: non-normalized or out of bounds coordinates [     1.0867]\n",
      "\u001b[34m\u001b[1mtrain: \u001b[0mWARNING ⚠️ /mnt/linuxlab/home/ncorcoran1/Oyster_Orientation_Model/REU_Oyster_2024_Improved-2/train/images/0df040b0d9d043d7ad33c41a93f62d32_jpg.rf.f55b61734561a960f45f0235f93b5f5b.jpg: ignoring corrupt image/label: non-normalized or out of bounds coordinates [     1.0867]\n",
      "\u001b[34m\u001b[1mtrain: \u001b[0mWARNING ⚠️ /mnt/linuxlab/home/ncorcoran1/Oyster_Orientation_Model/REU_Oyster_2024_Improved-2/train/images/17_jpg.rf.04a3832cec6f02dd8c8ebc3d660a08b1.jpg: ignoring corrupt image/label: non-normalized or out of bounds coordinates [     1.0298]\n",
      "\u001b[34m\u001b[1mtrain: \u001b[0mWARNING ⚠️ /mnt/linuxlab/home/ncorcoran1/Oyster_Orientation_Model/REU_Oyster_2024_Improved-2/train/images/17_jpg.rf.12dfaf941017fa23fcd38f916a75d57e.jpg: ignoring corrupt image/label: non-normalized or out of bounds coordinates [     1.0212]\n",
      "\u001b[34m\u001b[1mtrain: \u001b[0mWARNING ⚠️ /mnt/linuxlab/home/ncorcoran1/Oyster_Orientation_Model/REU_Oyster_2024_Improved-2/train/images/17_jpg.rf.2c741ca4c05263a2f9406bc0444bf072.jpg: ignoring corrupt image/label: non-normalized or out of bounds coordinates [     1.0212]\n",
      "\u001b[34m\u001b[1mtrain: \u001b[0mWARNING ⚠️ /mnt/linuxlab/home/ncorcoran1/Oyster_Orientation_Model/REU_Oyster_2024_Improved-2/train/images/17_jpg.rf.b02081af397faf47a1d882ede0cfaac4.jpg: ignoring corrupt image/label: non-normalized or out of bounds coordinates [     1.0212]\n",
      "\u001b[34m\u001b[1mtrain: \u001b[0mWARNING ⚠️ /mnt/linuxlab/home/ncorcoran1/Oyster_Orientation_Model/REU_Oyster_2024_Improved-2/train/images/17_jpg.rf.dba2c2a715e92b09ef376071ad93379c.jpg: ignoring corrupt image/label: non-normalized or out of bounds coordinates [     1.0298]\n",
      "\u001b[34m\u001b[1mtrain: \u001b[0mWARNING ⚠️ /mnt/linuxlab/home/ncorcoran1/Oyster_Orientation_Model/REU_Oyster_2024_Improved-2/train/images/17_jpg.rf.dc31ffa23a416146ace69ab1601f352b.jpg: ignoring corrupt image/label: non-normalized or out of bounds coordinates [     1.0298]\n",
      "\u001b[34m\u001b[1mtrain: \u001b[0mWARNING ⚠️ /mnt/linuxlab/home/ncorcoran1/Oyster_Orientation_Model/REU_Oyster_2024_Improved-2/train/images/18_jpg.rf.4b0619c8c583c26148dea3aada5cf215.jpg: ignoring corrupt image/label: non-normalized or out of bounds coordinates [     1.0714      1.0517]\n",
      "\u001b[34m\u001b[1mtrain: \u001b[0mWARNING ⚠️ /mnt/linuxlab/home/ncorcoran1/Oyster_Orientation_Model/REU_Oyster_2024_Improved-2/train/images/18_jpg.rf.8cb4adf8029876cd6fdbb3ebaf0515f6.jpg: ignoring corrupt image/label: non-normalized or out of bounds coordinates [     1.0714      1.0517]\n",
      "\u001b[34m\u001b[1mtrain: \u001b[0mWARNING ⚠️ /mnt/linuxlab/home/ncorcoran1/Oyster_Orientation_Model/REU_Oyster_2024_Improved-2/train/images/18_jpg.rf.b9ff5ad9f0478df3aabcb9556f0855ad.jpg: ignoring corrupt image/label: non-normalized or out of bounds coordinates [     1.0714      1.0517]\n",
      "\u001b[34m\u001b[1mtrain: \u001b[0mWARNING ⚠️ /mnt/linuxlab/home/ncorcoran1/Oyster_Orientation_Model/REU_Oyster_2024_Improved-2/train/images/19_jpg.rf.2c1d99a6158adf529880137c836872eb.jpg: ignoring corrupt image/label: non-normalized or out of bounds coordinates [     1.0325       1.051]\n",
      "\u001b[34m\u001b[1mtrain: \u001b[0mWARNING ⚠️ /mnt/linuxlab/home/ncorcoran1/Oyster_Orientation_Model/REU_Oyster_2024_Improved-2/train/images/19_jpg.rf.450d935a05856b3fc9f13e334dffea43.jpg: ignoring corrupt image/label: non-normalized or out of bounds coordinates [     1.0325       1.051]\n",
      "\u001b[34m\u001b[1mtrain: \u001b[0mWARNING ⚠️ /mnt/linuxlab/home/ncorcoran1/Oyster_Orientation_Model/REU_Oyster_2024_Improved-2/train/images/19_jpg.rf.a93156bdb26ffc3f7d6510d3f8ce75ca.jpg: ignoring corrupt image/label: non-normalized or out of bounds coordinates [     1.0325       1.051]\n",
      "\u001b[34m\u001b[1mtrain: \u001b[0mWARNING ⚠️ /mnt/linuxlab/home/ncorcoran1/Oyster_Orientation_Model/REU_Oyster_2024_Improved-2/train/images/1_jpg.rf.29e95c57b95ce23943950355beb76285.jpg: ignoring corrupt image/label: non-normalized or out of bounds coordinates [     1.0266]\n",
      "\u001b[34m\u001b[1mtrain: \u001b[0mWARNING ⚠️ /mnt/linuxlab/home/ncorcoran1/Oyster_Orientation_Model/REU_Oyster_2024_Improved-2/train/images/1_jpg.rf.fa14782c5cabf529a302626f63f80681.jpg: ignoring corrupt image/label: non-normalized or out of bounds coordinates [     1.0266]\n",
      "\u001b[34m\u001b[1mtrain: \u001b[0mWARNING ⚠️ /mnt/linuxlab/home/ncorcoran1/Oyster_Orientation_Model/REU_Oyster_2024_Improved-2/train/images/1b1df3e8568844b08d1472fbb3ef1459_jpg.rf.123f911aba12981d3e2cca411308331e.jpg: ignoring corrupt image/label: non-normalized or out of bounds coordinates [     1.0232      1.0947]\n",
      "\u001b[34m\u001b[1mtrain: \u001b[0mWARNING ⚠️ /mnt/linuxlab/home/ncorcoran1/Oyster_Orientation_Model/REU_Oyster_2024_Improved-2/train/images/1b1df3e8568844b08d1472fbb3ef1459_jpg.rf.2bedc4ef123c500c8420cef0f3297a84.jpg: ignoring corrupt image/label: non-normalized or out of bounds coordinates [     1.0032]\n",
      "\u001b[34m\u001b[1mtrain: \u001b[0mWARNING ⚠️ /mnt/linuxlab/home/ncorcoran1/Oyster_Orientation_Model/REU_Oyster_2024_Improved-2/train/images/1b1df3e8568844b08d1472fbb3ef1459_jpg.rf.3016a240a2c223d70b25536c1ff1eada.jpg: ignoring corrupt image/label: non-normalized or out of bounds coordinates [     1.0232      1.0947]\n",
      "\u001b[34m\u001b[1mtrain: \u001b[0mWARNING ⚠️ /mnt/linuxlab/home/ncorcoran1/Oyster_Orientation_Model/REU_Oyster_2024_Improved-2/train/images/1b1df3e8568844b08d1472fbb3ef1459_jpg.rf.3084eba169a8d9b15c0ce342faf61602.jpg: ignoring corrupt image/label: non-normalized or out of bounds coordinates [      1.082]\n",
      "\u001b[34m\u001b[1mtrain: \u001b[0mWARNING ⚠️ /mnt/linuxlab/home/ncorcoran1/Oyster_Orientation_Model/REU_Oyster_2024_Improved-2/train/images/1b1df3e8568844b08d1472fbb3ef1459_jpg.rf.cb9226629363709c5f3ca687763521b3.jpg: ignoring corrupt image/label: non-normalized or out of bounds coordinates [     1.0032]\n",
      "\u001b[34m\u001b[1mtrain: \u001b[0mWARNING ⚠️ /mnt/linuxlab/home/ncorcoran1/Oyster_Orientation_Model/REU_Oyster_2024_Improved-2/train/images/1b1df3e8568844b08d1472fbb3ef1459_jpg.rf.ebc8463ad10cff33a8ed1d52553313de.jpg: ignoring corrupt image/label: non-normalized or out of bounds coordinates [      1.082]\n",
      "\u001b[34m\u001b[1mtrain: \u001b[0mWARNING ⚠️ /mnt/linuxlab/home/ncorcoran1/Oyster_Orientation_Model/REU_Oyster_2024_Improved-2/train/images/1b1df3e8568844b08d1472fbb3ef1459_jpg.rf.feb8f421f93d8ee221e4dc6a3bbcd38e.jpg: ignoring corrupt image/label: non-normalized or out of bounds coordinates [     1.0232      1.0947]\n",
      "\u001b[34m\u001b[1mtrain: \u001b[0mWARNING ⚠️ /mnt/linuxlab/home/ncorcoran1/Oyster_Orientation_Model/REU_Oyster_2024_Improved-2/train/images/21_jpg.rf.55b2f2d83da0fc9cb9ba5c0f23469590.jpg: ignoring corrupt image/label: non-normalized or out of bounds coordinates [      1.025]\n",
      "\u001b[34m\u001b[1mtrain: \u001b[0mWARNING ⚠️ /mnt/linuxlab/home/ncorcoran1/Oyster_Orientation_Model/REU_Oyster_2024_Improved-2/train/images/21_jpg.rf.a6cd8b53eb5940758ad853db74f86c4e.jpg: ignoring corrupt image/label: non-normalized or out of bounds coordinates [      1.025]\n",
      "\u001b[34m\u001b[1mtrain: \u001b[0mWARNING ⚠️ /mnt/linuxlab/home/ncorcoran1/Oyster_Orientation_Model/REU_Oyster_2024_Improved-2/train/images/38_jpg.rf.a9de0f8fb52c02162ec59cc46ba0f8d1.jpg: ignoring corrupt image/label: non-normalized or out of bounds coordinates [     1.0145]\n",
      "\u001b[34m\u001b[1mtrain: \u001b[0mWARNING ⚠️ /mnt/linuxlab/home/ncorcoran1/Oyster_Orientation_Model/REU_Oyster_2024_Improved-2/train/images/38_jpg.rf.cd92ebd4bd80edb0bf065ef72bb34043.jpg: ignoring corrupt image/label: non-normalized or out of bounds coordinates [     1.0145]\n",
      "\u001b[34m\u001b[1mtrain: \u001b[0mWARNING ⚠️ /mnt/linuxlab/home/ncorcoran1/Oyster_Orientation_Model/REU_Oyster_2024_Improved-2/train/images/3d15d4307446432ea163f399aa44601b_jpg.rf.258ccfb8d243a0a942afbddfeff79956.jpg: ignoring corrupt image/label: non-normalized or out of bounds coordinates [     1.0901]\n",
      "\u001b[34m\u001b[1mtrain: \u001b[0mWARNING ⚠️ /mnt/linuxlab/home/ncorcoran1/Oyster_Orientation_Model/REU_Oyster_2024_Improved-2/train/images/3d15d4307446432ea163f399aa44601b_jpg.rf.6b5b6a9b0e722d7f4b2af6fe390a8949.jpg: ignoring corrupt image/label: non-normalized or out of bounds coordinates [     1.0306      1.1137]\n",
      "\u001b[34m\u001b[1mtrain: \u001b[0mWARNING ⚠️ /mnt/linuxlab/home/ncorcoran1/Oyster_Orientation_Model/REU_Oyster_2024_Improved-2/train/images/3d15d4307446432ea163f399aa44601b_jpg.rf.6d087a235b2ba7330b790b425b84f723.jpg: ignoring corrupt image/label: non-normalized or out of bounds coordinates [     1.1331]\n",
      "\u001b[34m\u001b[1mtrain: \u001b[0mWARNING ⚠️ /mnt/linuxlab/home/ncorcoran1/Oyster_Orientation_Model/REU_Oyster_2024_Improved-2/train/images/3d15d4307446432ea163f399aa44601b_jpg.rf.a773874c359bd7cebf619c667ab46945.jpg: ignoring corrupt image/label: non-normalized or out of bounds coordinates [     1.0901]\n",
      "\u001b[34m\u001b[1mtrain: \u001b[0mWARNING ⚠️ /mnt/linuxlab/home/ncorcoran1/Oyster_Orientation_Model/REU_Oyster_2024_Improved-2/train/images/3d15d4307446432ea163f399aa44601b_jpg.rf.c1e140f9c34b8038d77ad489995b0628.jpg: ignoring corrupt image/label: non-normalized or out of bounds coordinates [     1.0901]\n",
      "\u001b[34m\u001b[1mtrain: \u001b[0mWARNING ⚠️ /mnt/linuxlab/home/ncorcoran1/Oyster_Orientation_Model/REU_Oyster_2024_Improved-2/train/images/3d15d4307446432ea163f399aa44601b_jpg.rf.d4831c202a620d35737879dddc54297c.jpg: ignoring corrupt image/label: non-normalized or out of bounds coordinates [     1.0306      1.1137]\n",
      "\u001b[34m\u001b[1mtrain: \u001b[0mWARNING ⚠️ /mnt/linuxlab/home/ncorcoran1/Oyster_Orientation_Model/REU_Oyster_2024_Improved-2/train/images/3d15d4307446432ea163f399aa44601b_jpg.rf.e210fbf7da4ae9ace360702021b3269e.jpg: ignoring corrupt image/label: non-normalized or out of bounds coordinates [     1.1331]\n",
      "\u001b[34m\u001b[1mtrain: \u001b[0mWARNING ⚠️ /mnt/linuxlab/home/ncorcoran1/Oyster_Orientation_Model/REU_Oyster_2024_Improved-2/train/images/3d15d4307446432ea163f399aa44601b_jpg.rf.f27f4aac66357778d2e6d7c428fef7d8.jpg: ignoring corrupt image/label: non-normalized or out of bounds coordinates [     1.1331]\n",
      "\u001b[34m\u001b[1mtrain: \u001b[0mWARNING ⚠️ /mnt/linuxlab/home/ncorcoran1/Oyster_Orientation_Model/REU_Oyster_2024_Improved-2/train/images/3d15d4307446432ea163f399aa44601b_jpg.rf.f305e084ec91674ed137ed4b99016549.jpg: ignoring corrupt image/label: non-normalized or out of bounds coordinates [     1.0306      1.1137]\n",
      "\u001b[34m\u001b[1mtrain: \u001b[0mWARNING ⚠️ /mnt/linuxlab/home/ncorcoran1/Oyster_Orientation_Model/REU_Oyster_2024_Improved-2/train/images/4600-36-_png_jpg.rf.116b8468bf31877add10a64d613e0661.jpg: ignoring corrupt image/label: non-normalized or out of bounds coordinates [     1.1462      1.0609]\n",
      "\u001b[34m\u001b[1mtrain: \u001b[0mWARNING ⚠️ /mnt/linuxlab/home/ncorcoran1/Oyster_Orientation_Model/REU_Oyster_2024_Improved-2/train/images/4600-36-_png_jpg.rf.63b6bc7bed470c2e8cee85b168a0ab68.jpg: ignoring corrupt image/label: non-normalized or out of bounds coordinates [     1.1462      1.0609]\n",
      "\u001b[34m\u001b[1mtrain: \u001b[0mWARNING ⚠️ /mnt/linuxlab/home/ncorcoran1/Oyster_Orientation_Model/REU_Oyster_2024_Improved-2/train/images/4600-36-_png_jpg.rf.a0c8d918ecdbd07032eae2328addeaf6.jpg: ignoring corrupt image/label: non-normalized or out of bounds coordinates [     1.1462      1.0609]\n",
      "\u001b[34m\u001b[1mtrain: \u001b[0mWARNING ⚠️ /mnt/linuxlab/home/ncorcoran1/Oyster_Orientation_Model/REU_Oyster_2024_Improved-2/train/images/52_jpg.rf.167e9ee5da7a285a8abd114d861300e2.jpg: ignoring corrupt image/label: non-normalized or out of bounds coordinates [     1.0781      1.0781]\n",
      "\u001b[34m\u001b[1mtrain: \u001b[0mWARNING ⚠️ /mnt/linuxlab/home/ncorcoran1/Oyster_Orientation_Model/REU_Oyster_2024_Improved-2/train/images/52_jpg.rf.243853f872a06c4c7fe8136b3aaaba51.jpg: ignoring corrupt image/label: non-normalized or out of bounds coordinates [     1.0781      1.0781]\n",
      "\u001b[34m\u001b[1mtrain: \u001b[0mWARNING ⚠️ /mnt/linuxlab/home/ncorcoran1/Oyster_Orientation_Model/REU_Oyster_2024_Improved-2/train/images/6d0c722001b0481d9e3a0232956d7804_jpg.rf.07ac4e7cc96c34a1805dc604a90034a2.jpg: ignoring corrupt image/label: non-normalized or out of bounds coordinates [     1.0321]\n",
      "\u001b[34m\u001b[1mtrain: \u001b[0mWARNING ⚠️ /mnt/linuxlab/home/ncorcoran1/Oyster_Orientation_Model/REU_Oyster_2024_Improved-2/train/images/6d0c722001b0481d9e3a0232956d7804_jpg.rf.41fab43316557b184ec522e5d84996b2.jpg: ignoring corrupt image/label: non-normalized or out of bounds coordinates [     1.0321]\n",
      "\u001b[34m\u001b[1mtrain: \u001b[0mWARNING ⚠️ /mnt/linuxlab/home/ncorcoran1/Oyster_Orientation_Model/REU_Oyster_2024_Improved-2/train/images/6d0c722001b0481d9e3a0232956d7804_jpg.rf.90a47602faf280fd9f830eff40203478.jpg: ignoring corrupt image/label: non-normalized or out of bounds coordinates [     1.0321]\n",
      "\u001b[34m\u001b[1mtrain: \u001b[0mWARNING ⚠️ /mnt/linuxlab/home/ncorcoran1/Oyster_Orientation_Model/REU_Oyster_2024_Improved-2/train/images/77_jpg.rf.41c5dc7c6c0dd980fe2c98cd6c2cda21.jpg: ignoring corrupt image/label: non-normalized or out of bounds coordinates [     1.0734]\n",
      "\u001b[34m\u001b[1mtrain: \u001b[0mWARNING ⚠️ /mnt/linuxlab/home/ncorcoran1/Oyster_Orientation_Model/REU_Oyster_2024_Improved-2/train/images/77_jpg.rf.bebedf049120083a32743549846013df.jpg: ignoring corrupt image/label: non-normalized or out of bounds coordinates [     1.0734]\n",
      "\u001b[34m\u001b[1mtrain: \u001b[0mWARNING ⚠️ /mnt/linuxlab/home/ncorcoran1/Oyster_Orientation_Model/REU_Oyster_2024_Improved-2/train/images/77_jpg.rf.f2387a44f872cec13e2fee0baed562a0.jpg: ignoring corrupt image/label: non-normalized or out of bounds coordinates [     1.0734]\n",
      "\u001b[34m\u001b[1mtrain: \u001b[0mWARNING ⚠️ /mnt/linuxlab/home/ncorcoran1/Oyster_Orientation_Model/REU_Oyster_2024_Improved-2/train/images/Oyster_jpg.rf.29e43bc721400495399e893663975dc5.jpg: ignoring corrupt image/label: non-normalized or out of bounds coordinates [     1.0606]\n",
      "\u001b[34m\u001b[1mtrain: \u001b[0mWARNING ⚠️ /mnt/linuxlab/home/ncorcoran1/Oyster_Orientation_Model/REU_Oyster_2024_Improved-2/train/images/Oyster_jpg.rf.30725fd82f889db167860e4eea56a300.jpg: ignoring corrupt image/label: non-normalized or out of bounds coordinates [     1.0606]\n",
      "\u001b[34m\u001b[1mtrain: \u001b[0mWARNING ⚠️ /mnt/linuxlab/home/ncorcoran1/Oyster_Orientation_Model/REU_Oyster_2024_Improved-2/train/images/Oyster_jpg.rf.f91a6a3e8bb915b1d91fb6dac41a022f.jpg: ignoring corrupt image/label: non-normalized or out of bounds coordinates [     1.0606]\n",
      "\u001b[34m\u001b[1mtrain: \u001b[0mWARNING ⚠️ /mnt/linuxlab/home/ncorcoran1/Oyster_Orientation_Model/REU_Oyster_2024_Improved-2/train/images/a2c5047d88b84c738c3e9570e9cce6f8_jpg.rf.04e67d7d524ce6c9edab074e91296f05.jpg: ignoring corrupt image/label: non-normalized or out of bounds coordinates [      1.046]\n",
      "\u001b[34m\u001b[1mtrain: \u001b[0mWARNING ⚠️ /mnt/linuxlab/home/ncorcoran1/Oyster_Orientation_Model/REU_Oyster_2024_Improved-2/train/images/a2c5047d88b84c738c3e9570e9cce6f8_jpg.rf.19413114c307fec8fe182cc57a42b42b.jpg: ignoring corrupt image/label: non-normalized or out of bounds coordinates [      1.046]\n",
      "\u001b[34m\u001b[1mtrain: \u001b[0mWARNING ⚠️ /mnt/linuxlab/home/ncorcoran1/Oyster_Orientation_Model/REU_Oyster_2024_Improved-2/train/images/a2c5047d88b84c738c3e9570e9cce6f8_jpg.rf.a2b0c31176283457b432eb7cc8b65d57.jpg: ignoring corrupt image/label: non-normalized or out of bounds coordinates [      1.046]\n",
      "\u001b[34m\u001b[1mtrain: \u001b[0mWARNING ⚠️ /mnt/linuxlab/home/ncorcoran1/Oyster_Orientation_Model/REU_Oyster_2024_Improved-2/train/images/image18_jpeg_jpg.rf.52a041cb5e860fc9963616069f6ae55f.jpg: ignoring corrupt image/label: non-normalized or out of bounds coordinates [     1.0218      1.0532]\n",
      "\u001b[34m\u001b[1mtrain: \u001b[0mWARNING ⚠️ /mnt/linuxlab/home/ncorcoran1/Oyster_Orientation_Model/REU_Oyster_2024_Improved-2/train/images/image18_jpeg_jpg.rf.dd0e9efe90ef269151da6311d762e1ee.jpg: ignoring corrupt image/label: non-normalized or out of bounds coordinates [     1.0218      1.0532]\n",
      "\u001b[34m\u001b[1mtrain: \u001b[0mWARNING ⚠️ /mnt/linuxlab/home/ncorcoran1/Oyster_Orientation_Model/REU_Oyster_2024_Improved-2/train/images/image18_jpeg_jpg.rf.fa58b169d4c0955194577255c3a846c2.jpg: ignoring corrupt image/label: non-normalized or out of bounds coordinates [     1.0218      1.0532]\n",
      "\u001b[34m\u001b[1mtrain: \u001b[0mWARNING ⚠️ /mnt/linuxlab/home/ncorcoran1/Oyster_Orientation_Model/REU_Oyster_2024_Improved-2/train/images/image28_jpeg_jpg.rf.6e749f74b62f5112cebcc4d81ac4274e.jpg: ignoring corrupt image/label: non-normalized or out of bounds coordinates [     1.0227      1.1181]\n",
      "\u001b[34m\u001b[1mtrain: \u001b[0mWARNING ⚠️ /mnt/linuxlab/home/ncorcoran1/Oyster_Orientation_Model/REU_Oyster_2024_Improved-2/train/images/image28_jpeg_jpg.rf.aadd9170e0f442226eaf0d8e220ad636.jpg: ignoring corrupt image/label: non-normalized or out of bounds coordinates [     1.0734      1.0734]\n",
      "\u001b[34m\u001b[1mtrain: \u001b[0mWARNING ⚠️ /mnt/linuxlab/home/ncorcoran1/Oyster_Orientation_Model/REU_Oyster_2024_Improved-2/train/images/image28_jpeg_jpg.rf.b2f83775bcdb3b881351d86b0afaaadb.jpg: ignoring corrupt image/label: non-normalized or out of bounds coordinates [     1.0734      1.0734]\n",
      "\u001b[34m\u001b[1mtrain: \u001b[0mWARNING ⚠️ /mnt/linuxlab/home/ncorcoran1/Oyster_Orientation_Model/REU_Oyster_2024_Improved-2/train/images/image28_jpeg_jpg.rf.d51e447ba3580dd579e323e4313a70b0.jpg: ignoring corrupt image/label: non-normalized or out of bounds coordinates [     1.0227      1.1181]\n",
      "\u001b[34m\u001b[1mtrain: \u001b[0mWARNING ⚠️ /mnt/linuxlab/home/ncorcoran1/Oyster_Orientation_Model/REU_Oyster_2024_Improved-2/train/images/image28_jpeg_jpg.rf.d53fd9606d18ccf528dfb0d2b15e40f1.jpg: ignoring corrupt image/label: non-normalized or out of bounds coordinates [     1.0734      1.0734]\n",
      "\u001b[34m\u001b[1mtrain: \u001b[0mWARNING ⚠️ /mnt/linuxlab/home/ncorcoran1/Oyster_Orientation_Model/REU_Oyster_2024_Improved-2/train/images/image30_jpeg_jpg.rf.226dd6f6b4ab6aae63ce7d1fc39261f7.jpg: ignoring corrupt image/label: non-normalized or out of bounds coordinates [     1.0041      1.0501]\n",
      "\u001b[34m\u001b[1mtrain: \u001b[0mWARNING ⚠️ /mnt/linuxlab/home/ncorcoran1/Oyster_Orientation_Model/REU_Oyster_2024_Improved-2/train/images/image30_jpeg_jpg.rf.2bc69f79f86900cb2ec8ce29d63ecf2e.jpg: ignoring corrupt image/label: non-normalized or out of bounds coordinates [     1.0041      1.0501]\n",
      "\u001b[34m\u001b[1mtrain: \u001b[0mWARNING ⚠️ /mnt/linuxlab/home/ncorcoran1/Oyster_Orientation_Model/REU_Oyster_2024_Improved-2/train/images/image30_jpeg_jpg.rf.b04df799b3929a387c836b88e0da290a.jpg: ignoring corrupt image/label: non-normalized or out of bounds coordinates [     1.0041      1.0501]\n",
      "\u001b[34m\u001b[1mtrain: \u001b[0mWARNING ⚠️ /mnt/linuxlab/home/ncorcoran1/Oyster_Orientation_Model/REU_Oyster_2024_Improved-2/train/images/image7_jpeg_jpg.rf.06e0ed5edcef2084ca1aa6cd5552a6a8.jpg: ignoring corrupt image/label: non-normalized or out of bounds coordinates [     1.0534]\n",
      "\u001b[34m\u001b[1mtrain: \u001b[0mWARNING ⚠️ /mnt/linuxlab/home/ncorcoran1/Oyster_Orientation_Model/REU_Oyster_2024_Improved-2/train/images/image7_jpeg_jpg.rf.5df84deece1fbb6c35b862b6d468fae2.jpg: ignoring corrupt image/label: non-normalized or out of bounds coordinates [     1.0534]\n",
      "\u001b[34m\u001b[1mtrain: \u001b[0mWARNING ⚠️ /mnt/linuxlab/home/ncorcoran1/Oyster_Orientation_Model/REU_Oyster_2024_Improved-2/train/images/image7_jpeg_jpg.rf.99af2dfd8a48819681da769b4610a02b.jpg: ignoring corrupt image/label: non-normalized or out of bounds coordinates [     1.0534]\n",
      "\u001b[34m\u001b[1mtrain: \u001b[0mWARNING ⚠️ /mnt/linuxlab/home/ncorcoran1/Oyster_Orientation_Model/REU_Oyster_2024_Improved-2/train/images/images105_jpg.rf.2cbb9054e99b95f648ebdad21c925715.jpg: ignoring corrupt image/label: non-normalized or out of bounds coordinates [     1.0942]\n",
      "\u001b[34m\u001b[1mtrain: \u001b[0mWARNING ⚠️ /mnt/linuxlab/home/ncorcoran1/Oyster_Orientation_Model/REU_Oyster_2024_Improved-2/train/images/images105_jpg.rf.76898bf2511d0308cec696e4add28548.jpg: ignoring corrupt image/label: non-normalized or out of bounds coordinates [     1.0942]\n",
      "\u001b[34m\u001b[1mtrain: \u001b[0mWARNING ⚠️ /mnt/linuxlab/home/ncorcoran1/Oyster_Orientation_Model/REU_Oyster_2024_Improved-2/train/images/images105_jpg.rf.f726c98689acade1d512f3be52018992.jpg: ignoring corrupt image/label: non-normalized or out of bounds coordinates [     1.0942]\n",
      "\u001b[34m\u001b[1mtrain: \u001b[0mWARNING ⚠️ /mnt/linuxlab/home/ncorcoran1/Oyster_Orientation_Model/REU_Oyster_2024_Improved-2/train/images/images150_jpg.rf.0d37c42360e85279d53d469a76f66856.jpg: ignoring corrupt image/label: non-normalized or out of bounds coordinates [     1.1363]\n",
      "\u001b[34m\u001b[1mtrain: \u001b[0mWARNING ⚠️ /mnt/linuxlab/home/ncorcoran1/Oyster_Orientation_Model/REU_Oyster_2024_Improved-2/train/images/images150_jpg.rf.173bc45743afbb44b6aace441bdf8c92.jpg: ignoring corrupt image/label: non-normalized or out of bounds coordinates [      1.028]\n",
      "\u001b[34m\u001b[1mtrain: \u001b[0mWARNING ⚠️ /mnt/linuxlab/home/ncorcoran1/Oyster_Orientation_Model/REU_Oyster_2024_Improved-2/train/images/images150_jpg.rf.3a81f16289082e97808ac96749b00361.jpg: ignoring corrupt image/label: non-normalized or out of bounds coordinates [     1.1363]\n",
      "\u001b[34m\u001b[1mtrain: \u001b[0mWARNING ⚠️ /mnt/linuxlab/home/ncorcoran1/Oyster_Orientation_Model/REU_Oyster_2024_Improved-2/train/images/images150_jpg.rf.4fd73c2ee334e0feacf612f1754d99ff.jpg: ignoring corrupt image/label: non-normalized or out of bounds coordinates [      1.028]\n",
      "\u001b[34m\u001b[1mtrain: \u001b[0mWARNING ⚠️ /mnt/linuxlab/home/ncorcoran1/Oyster_Orientation_Model/REU_Oyster_2024_Improved-2/train/images/images150_jpg.rf.cba83779219eb5dbb932852ff7561154.jpg: ignoring corrupt image/label: non-normalized or out of bounds coordinates [      1.028]\n",
      "\u001b[34m\u001b[1mtrain: \u001b[0mWARNING ⚠️ /mnt/linuxlab/home/ncorcoran1/Oyster_Orientation_Model/REU_Oyster_2024_Improved-2/train/images/images150_jpg.rf.fc8ab11cc908c5fca16f35f7ab0477ca.jpg: ignoring corrupt image/label: non-normalized or out of bounds coordinates [      1.128]\n",
      "\u001b[34m\u001b[1mtrain: \u001b[0mWARNING ⚠️ /mnt/linuxlab/home/ncorcoran1/Oyster_Orientation_Model/REU_Oyster_2024_Improved-2/train/images/images150_jpg.rf.fd1b5b425e8a53084c428ee0fc3b0943.jpg: ignoring corrupt image/label: non-normalized or out of bounds coordinates [      1.128]\n",
      "\u001b[34m\u001b[1mtrain: \u001b[0mWARNING ⚠️ /mnt/linuxlab/home/ncorcoran1/Oyster_Orientation_Model/REU_Oyster_2024_Improved-2/train/images/images178_jpg.rf.57ff90bf13416ba07f8444fd670f748e.jpg: ignoring corrupt image/label: non-normalized or out of bounds coordinates [      1.043]\n",
      "\u001b[34m\u001b[1mtrain: \u001b[0mWARNING ⚠️ /mnt/linuxlab/home/ncorcoran1/Oyster_Orientation_Model/REU_Oyster_2024_Improved-2/train/images/images178_jpg.rf.993be28dcfd49e14be1bd3de08ad31c8.jpg: ignoring corrupt image/label: non-normalized or out of bounds coordinates [      1.043]\n",
      "\u001b[34m\u001b[1mtrain: \u001b[0mWARNING ⚠️ /mnt/linuxlab/home/ncorcoran1/Oyster_Orientation_Model/REU_Oyster_2024_Improved-2/train/images/images182_jpg.rf.1e209651e477337dd0231be07019f961.jpg: ignoring corrupt image/label: non-normalized or out of bounds coordinates [     1.0858]\n",
      "\u001b[34m\u001b[1mtrain: \u001b[0mWARNING ⚠️ /mnt/linuxlab/home/ncorcoran1/Oyster_Orientation_Model/REU_Oyster_2024_Improved-2/train/images/images182_jpg.rf.645c6519e751e311e6327ab2bc7f4e2d.jpg: ignoring corrupt image/label: non-normalized or out of bounds coordinates [     1.0858]\n",
      "\u001b[34m\u001b[1mtrain: \u001b[0mWARNING ⚠️ /mnt/linuxlab/home/ncorcoran1/Oyster_Orientation_Model/REU_Oyster_2024_Improved-2/train/images/images182_jpg.rf.8fe467a9dc0a6d6923e89994914f2135.jpg: ignoring corrupt image/label: non-normalized or out of bounds coordinates [     1.0257      1.0188]\n",
      "\u001b[34m\u001b[1mtrain: \u001b[0mWARNING ⚠️ /mnt/linuxlab/home/ncorcoran1/Oyster_Orientation_Model/REU_Oyster_2024_Improved-2/train/images/images182_jpg.rf.b439de27aaeb04689387470636ebc839.jpg: ignoring corrupt image/label: non-normalized or out of bounds coordinates [     1.0858]\n",
      "\u001b[34m\u001b[1mtrain: \u001b[0mWARNING ⚠️ /mnt/linuxlab/home/ncorcoran1/Oyster_Orientation_Model/REU_Oyster_2024_Improved-2/train/images/images182_jpg.rf.c18e186c08e65fa1e555c2c67135e396.jpg: ignoring corrupt image/label: non-normalized or out of bounds coordinates [     1.0257      1.0188]\n",
      "\u001b[34m\u001b[1mtrain: \u001b[0mWARNING ⚠️ /mnt/linuxlab/home/ncorcoran1/Oyster_Orientation_Model/REU_Oyster_2024_Improved-2/train/images/images182_jpg.rf.d7cc3b0fa1c045de3bc85a9f63b4f194.jpg: ignoring corrupt image/label: non-normalized or out of bounds coordinates [     1.0257      1.0188]\n",
      "\u001b[34m\u001b[1mtrain: \u001b[0mWARNING ⚠️ /mnt/linuxlab/home/ncorcoran1/Oyster_Orientation_Model/REU_Oyster_2024_Improved-2/train/images/images23_jpg.rf.3632e0c83c497f83ccfa5d6f42c348fa.jpg: ignoring corrupt image/label: non-normalized or out of bounds coordinates [     1.0973      1.0527]\n",
      "\u001b[34m\u001b[1mtrain: \u001b[0mWARNING ⚠️ /mnt/linuxlab/home/ncorcoran1/Oyster_Orientation_Model/REU_Oyster_2024_Improved-2/train/images/images23_jpg.rf.5454708e2e80fe60624ccd97e8780949.jpg: ignoring corrupt image/label: non-normalized or out of bounds coordinates [     1.0973      1.0527]\n",
      "\u001b[34m\u001b[1mtrain: \u001b[0mWARNING ⚠️ /mnt/linuxlab/home/ncorcoran1/Oyster_Orientation_Model/REU_Oyster_2024_Improved-2/train/images/images23_jpg.rf.c97b7db4b474625acac6c05b5d4b5207.jpg: ignoring corrupt image/label: non-normalized or out of bounds coordinates [     1.0973      1.0527]\n",
      "\u001b[34m\u001b[1mtrain: \u001b[0mWARNING ⚠️ /mnt/linuxlab/home/ncorcoran1/Oyster_Orientation_Model/REU_Oyster_2024_Improved-2/train/images/images27_jpg.rf.1d48961e9ed5c165b9fe3cbc1b657e66.jpg: ignoring corrupt image/label: non-normalized or out of bounds coordinates [     1.0763]\n",
      "\u001b[34m\u001b[1mtrain: \u001b[0mWARNING ⚠️ /mnt/linuxlab/home/ncorcoran1/Oyster_Orientation_Model/REU_Oyster_2024_Improved-2/train/images/images27_jpg.rf.22dc8891da8fb0740c3002291afe902e.jpg: ignoring corrupt image/label: non-normalized or out of bounds coordinates [      1.056]\n",
      "\u001b[34m\u001b[1mtrain: \u001b[0mWARNING ⚠️ /mnt/linuxlab/home/ncorcoran1/Oyster_Orientation_Model/REU_Oyster_2024_Improved-2/train/images/images27_jpg.rf.790797a3599900f598f37ac8b46fc01e.jpg: ignoring corrupt image/label: non-normalized or out of bounds coordinates [      1.056]\n",
      "\u001b[34m\u001b[1mtrain: \u001b[0mWARNING ⚠️ /mnt/linuxlab/home/ncorcoran1/Oyster_Orientation_Model/REU_Oyster_2024_Improved-2/train/images/images27_jpg.rf.95183c0c86181a1538808d16926613c7.jpg: ignoring corrupt image/label: non-normalized or out of bounds coordinates [      1.056]\n",
      "\u001b[34m\u001b[1mtrain: \u001b[0mWARNING ⚠️ /mnt/linuxlab/home/ncorcoran1/Oyster_Orientation_Model/REU_Oyster_2024_Improved-2/train/images/images27_jpg.rf.c2f3fbda2b86a146658f3244c54e2392.jpg: ignoring corrupt image/label: non-normalized or out of bounds coordinates [     1.0763]\n",
      "\u001b[34m\u001b[1mtrain: \u001b[0mWARNING ⚠️ /mnt/linuxlab/home/ncorcoran1/Oyster_Orientation_Model/REU_Oyster_2024_Improved-2/train/images/images80_jpg.rf.0a976a9d94ac43f7580894349f08b4ce.jpg: ignoring corrupt image/label: non-normalized or out of bounds coordinates [     1.0084       1.163]\n",
      "\u001b[34m\u001b[1mtrain: \u001b[0mWARNING ⚠️ /mnt/linuxlab/home/ncorcoran1/Oyster_Orientation_Model/REU_Oyster_2024_Improved-2/train/images/images80_jpg.rf.c4f3b77247b12085195f70c4a7f6821c.jpg: ignoring corrupt image/label: non-normalized or out of bounds coordinates [     1.0084       1.163]\n",
      "\u001b[34m\u001b[1mtrain: \u001b[0mWARNING ⚠️ /mnt/linuxlab/home/ncorcoran1/Oyster_Orientation_Model/REU_Oyster_2024_Improved-2/train/images/images80_jpg.rf.cde3a5064adc6b9b286db5dc3ff88ead.jpg: ignoring corrupt image/label: non-normalized or out of bounds coordinates [     1.0084       1.163]\n"
     ]
    },
    {
     "name": "stderr",
     "output_type": "stream",
     "text": [
      "\n",
      "\u001b[34m\u001b[1mval: \u001b[0mScanning /mnt/linuxlab/home/ncorcoran1/Oyster_Orientation_Model/REU_Oyster_2024_Improved-2/valid/labels.cache... 282 images, 249 backgrounds, 0 corrupt: 100%|██████████| 282/282 [00:00<?, ?it/s]\u001b[0m\n"
     ]
    },
    {
     "name": "stdout",
     "output_type": "stream",
     "text": [
      "Plotting labels to oyster_logs/model_yolov8m/labels.jpg... \n",
      "\u001b[34m\u001b[1moptimizer:\u001b[0m 'optimizer=auto' found, ignoring 'lr0=0.01' and 'momentum=0.937' and determining best 'optimizer', 'lr0' and 'momentum' automatically... \n",
      "\u001b[34m\u001b[1moptimizer:\u001b[0m SGD(lr=0.01, momentum=0.9) with parameter groups 77 weight(decay=0.0), 84 weight(decay=0.0005), 83 bias(decay=0.0)\n",
      "\u001b[34m\u001b[1mTensorBoard: \u001b[0mmodel graph visualization added ✅\n",
      "Image sizes 640 train, 640 val\n",
      "Using 8 dataloader workers\n",
      "Logging results to \u001b[1moyster_logs/model_yolov8m\u001b[0m\n",
      "Starting training for 200 epochs...\n",
      "\n",
      "      Epoch    GPU_mem   box_loss   cls_loss   dfl_loss  Instances       Size\n"
     ]
    },
    {
     "name": "stderr",
     "output_type": "stream",
     "text": [
      "      1/200      12.7G       1.74      2.151      1.904        113        640: 100%|██████████| 487/487 [01:25<00:00,  5.67it/s]\n",
      "                 Class     Images  Instances      Box(P          R      mAP50  mAP50-95): 100%|██████████| 9/9 [00:01<00:00,  8.36it/s]"
     ]
    },
    {
     "name": "stdout",
     "output_type": "stream",
     "text": [
      "                   all        282        482       0.47       0.37       0.31      0.165\n"
     ]
    },
    {
     "name": "stderr",
     "output_type": "stream",
     "text": [
      "\n"
     ]
    },
    {
     "name": "stdout",
     "output_type": "stream",
     "text": [
      "\n",
      "      Epoch    GPU_mem   box_loss   cls_loss   dfl_loss  Instances       Size\n"
     ]
    },
    {
     "name": "stderr",
     "output_type": "stream",
     "text": [
      "      2/200      12.3G      1.552      1.647       1.72        203        640: 100%|██████████| 487/487 [01:21<00:00,  5.98it/s]\n",
      "                 Class     Images  Instances      Box(P          R      mAP50  mAP50-95): 100%|██████████| 9/9 [00:01<00:00,  8.83it/s]\n"
     ]
    },
    {
     "name": "stdout",
     "output_type": "stream",
     "text": [
      "                   all        282        482      0.513      0.347      0.377      0.211\n",
      "\n",
      "      Epoch    GPU_mem   box_loss   cls_loss   dfl_loss  Instances       Size\n"
     ]
    },
    {
     "name": "stderr",
     "output_type": "stream",
     "text": [
      "      3/200      12.7G      1.569      1.617      1.719         83        640: 100%|██████████| 487/487 [01:19<00:00,  6.13it/s]\n",
      "                 Class     Images  Instances      Box(P          R      mAP50  mAP50-95): 100%|██████████| 9/9 [00:00<00:00,  9.14it/s]\n"
     ]
    },
    {
     "name": "stdout",
     "output_type": "stream",
     "text": [
      "                   all        282        482      0.542      0.312      0.339      0.201\n",
      "\n",
      "      Epoch    GPU_mem   box_loss   cls_loss   dfl_loss  Instances       Size\n"
     ]
    },
    {
     "name": "stderr",
     "output_type": "stream",
     "text": [
      "      4/200      12.3G      1.591      1.641      1.738        131        640: 100%|██████████| 487/487 [01:20<00:00,  6.08it/s]\n",
      "                 Class     Images  Instances      Box(P          R      mAP50  mAP50-95): 100%|██████████| 9/9 [00:01<00:00,  8.57it/s]\n"
     ]
    },
    {
     "name": "stdout",
     "output_type": "stream",
     "text": [
      "                   all        282        482      0.495      0.446      0.427       0.25\n",
      "\n",
      "      Epoch    GPU_mem   box_loss   cls_loss   dfl_loss  Instances       Size\n"
     ]
    },
    {
     "name": "stderr",
     "output_type": "stream",
     "text": [
      "      5/200      12.3G      1.556      1.589      1.723        360        640: 100%|██████████| 487/487 [01:19<00:00,  6.09it/s]\n",
      "                 Class     Images  Instances      Box(P          R      mAP50  mAP50-95): 100%|██████████| 9/9 [00:00<00:00,  9.15it/s]"
     ]
    },
    {
     "name": "stdout",
     "output_type": "stream",
     "text": [
      "                   all        282        482      0.664      0.412      0.489       0.29\n"
     ]
    },
    {
     "name": "stderr",
     "output_type": "stream",
     "text": [
      "\n"
     ]
    },
    {
     "name": "stdout",
     "output_type": "stream",
     "text": [
      "\n",
      "      Epoch    GPU_mem   box_loss   cls_loss   dfl_loss  Instances       Size\n"
     ]
    },
    {
     "name": "stderr",
     "output_type": "stream",
     "text": [
      "      6/200      12.8G      1.512      1.511      1.697        154        640: 100%|██████████| 487/487 [01:19<00:00,  6.10it/s]\n",
      "                 Class     Images  Instances      Box(P          R      mAP50  mAP50-95): 100%|██████████| 9/9 [00:00<00:00,  9.07it/s]"
     ]
    },
    {
     "name": "stdout",
     "output_type": "stream",
     "text": [
      "                   all        282        482      0.506      0.531      0.503      0.298\n"
     ]
    },
    {
     "name": "stderr",
     "output_type": "stream",
     "text": [
      "\n"
     ]
    },
    {
     "name": "stdout",
     "output_type": "stream",
     "text": [
      "\n",
      "      Epoch    GPU_mem   box_loss   cls_loss   dfl_loss  Instances       Size\n"
     ]
    },
    {
     "name": "stderr",
     "output_type": "stream",
     "text": [
      "      7/200      12.2G      1.476      1.425      1.662        102        640: 100%|██████████| 487/487 [01:21<00:00,  5.95it/s]\n",
      "                 Class     Images  Instances      Box(P          R      mAP50  mAP50-95): 100%|██████████| 9/9 [00:00<00:00,  9.22it/s]"
     ]
    },
    {
     "name": "stdout",
     "output_type": "stream",
     "text": [
      "                   all        282        482      0.771      0.425      0.542      0.337\n"
     ]
    },
    {
     "name": "stderr",
     "output_type": "stream",
     "text": [
      "\n"
     ]
    },
    {
     "name": "stdout",
     "output_type": "stream",
     "text": [
      "\n",
      "      Epoch    GPU_mem   box_loss   cls_loss   dfl_loss  Instances       Size\n"
     ]
    },
    {
     "name": "stderr",
     "output_type": "stream",
     "text": [
      "      8/200      12.8G      1.444      1.383      1.636        235        640: 100%|██████████| 487/487 [01:19<00:00,  6.14it/s]\n",
      "                 Class     Images  Instances      Box(P          R      mAP50  mAP50-95): 100%|██████████| 9/9 [00:00<00:00,  9.36it/s]"
     ]
    },
    {
     "name": "stdout",
     "output_type": "stream",
     "text": [
      "                   all        282        482      0.696      0.473      0.571      0.362\n"
     ]
    },
    {
     "name": "stderr",
     "output_type": "stream",
     "text": [
      "\n"
     ]
    },
    {
     "name": "stdout",
     "output_type": "stream",
     "text": [
      "\n",
      "      Epoch    GPU_mem   box_loss   cls_loss   dfl_loss  Instances       Size\n"
     ]
    },
    {
     "name": "stderr",
     "output_type": "stream",
     "text": [
      "      9/200      12.8G      1.405      1.307      1.612        147        640: 100%|██████████| 487/487 [01:19<00:00,  6.11it/s]\n",
      "                 Class     Images  Instances      Box(P          R      mAP50  mAP50-95): 100%|██████████| 9/9 [00:00<00:00,  9.33it/s]"
     ]
    },
    {
     "name": "stdout",
     "output_type": "stream",
     "text": [
      "                   all        282        482      0.711      0.534      0.646      0.416\n"
     ]
    },
    {
     "name": "stderr",
     "output_type": "stream",
     "text": [
      "\n"
     ]
    },
    {
     "name": "stdout",
     "output_type": "stream",
     "text": [
      "\n",
      "      Epoch    GPU_mem   box_loss   cls_loss   dfl_loss  Instances       Size\n"
     ]
    },
    {
     "name": "stderr",
     "output_type": "stream",
     "text": [
      "     10/200      12.3G      1.383      1.263      1.594        129        640: 100%|██████████| 487/487 [01:19<00:00,  6.10it/s]\n",
      "                 Class     Images  Instances      Box(P          R      mAP50  mAP50-95): 100%|██████████| 9/9 [00:00<00:00,  9.39it/s]"
     ]
    },
    {
     "name": "stdout",
     "output_type": "stream",
     "text": [
      "                   all        282        482      0.603      0.581      0.617      0.399\n"
     ]
    },
    {
     "name": "stderr",
     "output_type": "stream",
     "text": [
      "\n"
     ]
    },
    {
     "name": "stdout",
     "output_type": "stream",
     "text": [
      "\n",
      "      Epoch    GPU_mem   box_loss   cls_loss   dfl_loss  Instances       Size\n"
     ]
    },
    {
     "name": "stderr",
     "output_type": "stream",
     "text": [
      "     11/200      12.3G      1.359      1.219      1.567        142        640: 100%|██████████| 487/487 [01:20<00:00,  6.03it/s]\n",
      "                 Class     Images  Instances      Box(P          R      mAP50  mAP50-95): 100%|██████████| 9/9 [00:01<00:00,  8.14it/s]"
     ]
    },
    {
     "name": "stdout",
     "output_type": "stream",
     "text": [
      "                   all        282        482      0.826      0.549      0.666      0.434\n"
     ]
    },
    {
     "name": "stderr",
     "output_type": "stream",
     "text": [
      "\n"
     ]
    },
    {
     "name": "stdout",
     "output_type": "stream",
     "text": [
      "\n",
      "      Epoch    GPU_mem   box_loss   cls_loss   dfl_loss  Instances       Size\n"
     ]
    },
    {
     "name": "stderr",
     "output_type": "stream",
     "text": [
      "     12/200      12.3G      1.341      1.186      1.556        112        640: 100%|██████████| 487/487 [01:19<00:00,  6.10it/s]\n",
      "                 Class     Images  Instances      Box(P          R      mAP50  mAP50-95): 100%|██████████| 9/9 [00:00<00:00,  9.47it/s]"
     ]
    },
    {
     "name": "stdout",
     "output_type": "stream",
     "text": [
      "                   all        282        482      0.721       0.58      0.679      0.451\n"
     ]
    },
    {
     "name": "stderr",
     "output_type": "stream",
     "text": [
      "\n"
     ]
    },
    {
     "name": "stdout",
     "output_type": "stream",
     "text": [
      "\n",
      "      Epoch    GPU_mem   box_loss   cls_loss   dfl_loss  Instances       Size\n"
     ]
    },
    {
     "name": "stderr",
     "output_type": "stream",
     "text": [
      "     13/200      11.9G      1.308      1.138      1.531         92        640: 100%|██████████| 487/487 [01:21<00:00,  6.00it/s]\n",
      "                 Class     Images  Instances      Box(P          R      mAP50  mAP50-95): 100%|██████████| 9/9 [00:00<00:00,  9.06it/s]"
     ]
    },
    {
     "name": "stdout",
     "output_type": "stream",
     "text": [
      "                   all        282        482      0.734      0.594      0.679       0.46\n"
     ]
    },
    {
     "name": "stderr",
     "output_type": "stream",
     "text": [
      "\n"
     ]
    },
    {
     "name": "stdout",
     "output_type": "stream",
     "text": [
      "\n",
      "      Epoch    GPU_mem   box_loss   cls_loss   dfl_loss  Instances       Size\n"
     ]
    },
    {
     "name": "stderr",
     "output_type": "stream",
     "text": [
      "     14/200      12.2G      1.292      1.112      1.521        167        640: 100%|██████████| 487/487 [01:19<00:00,  6.14it/s]\n",
      "                 Class     Images  Instances      Box(P          R      mAP50  mAP50-95): 100%|██████████| 9/9 [00:00<00:00,  9.11it/s]"
     ]
    },
    {
     "name": "stdout",
     "output_type": "stream",
     "text": [
      "                   all        282        482      0.723      0.592      0.684      0.454\n"
     ]
    },
    {
     "name": "stderr",
     "output_type": "stream",
     "text": [
      "\n"
     ]
    },
    {
     "name": "stdout",
     "output_type": "stream",
     "text": [
      "\n",
      "      Epoch    GPU_mem   box_loss   cls_loss   dfl_loss  Instances       Size\n"
     ]
    },
    {
     "name": "stderr",
     "output_type": "stream",
     "text": [
      "     15/200      13.4G      1.269      1.085      1.498        129        640: 100%|██████████| 487/487 [01:18<00:00,  6.19it/s]\n",
      "                 Class     Images  Instances      Box(P          R      mAP50  mAP50-95): 100%|██████████| 9/9 [00:00<00:00,  9.23it/s]"
     ]
    },
    {
     "name": "stdout",
     "output_type": "stream",
     "text": [
      "                   all        282        482      0.809      0.654      0.757      0.507\n"
     ]
    },
    {
     "name": "stderr",
     "output_type": "stream",
     "text": [
      "\n"
     ]
    },
    {
     "name": "stdout",
     "output_type": "stream",
     "text": [
      "\n",
      "      Epoch    GPU_mem   box_loss   cls_loss   dfl_loss  Instances       Size\n"
     ]
    },
    {
     "name": "stderr",
     "output_type": "stream",
     "text": [
      "     16/200      11.9G      1.251      1.052      1.487        140        640: 100%|██████████| 487/487 [01:23<00:00,  5.84it/s]\n",
      "                 Class     Images  Instances      Box(P          R      mAP50  mAP50-95): 100%|██████████| 9/9 [00:00<00:00,  9.38it/s]"
     ]
    },
    {
     "name": "stdout",
     "output_type": "stream",
     "text": [
      "                   all        282        482       0.74      0.688      0.713      0.466\n"
     ]
    },
    {
     "name": "stderr",
     "output_type": "stream",
     "text": [
      "\n"
     ]
    },
    {
     "name": "stdout",
     "output_type": "stream",
     "text": [
      "\n",
      "      Epoch    GPU_mem   box_loss   cls_loss   dfl_loss  Instances       Size\n"
     ]
    },
    {
     "name": "stderr",
     "output_type": "stream",
     "text": [
      "     17/200      12.6G      1.237      1.037      1.479        123        640: 100%|██████████| 487/487 [01:19<00:00,  6.10it/s]\n",
      "                 Class     Images  Instances      Box(P          R      mAP50  mAP50-95): 100%|██████████| 9/9 [00:01<00:00,  8.98it/s]"
     ]
    },
    {
     "name": "stdout",
     "output_type": "stream",
     "text": [
      "                   all        282        482      0.707      0.657      0.711      0.464\n"
     ]
    },
    {
     "name": "stderr",
     "output_type": "stream",
     "text": [
      "\n"
     ]
    },
    {
     "name": "stdout",
     "output_type": "stream",
     "text": [
      "\n",
      "      Epoch    GPU_mem   box_loss   cls_loss   dfl_loss  Instances       Size\n"
     ]
    },
    {
     "name": "stderr",
     "output_type": "stream",
     "text": [
      "     18/200      12.6G      1.218      1.009      1.457        199        640: 100%|██████████| 487/487 [01:20<00:00,  6.08it/s]\n",
      "                 Class     Images  Instances      Box(P          R      mAP50  mAP50-95): 100%|██████████| 9/9 [00:01<00:00,  8.80it/s]"
     ]
    },
    {
     "name": "stdout",
     "output_type": "stream",
     "text": [
      "                   all        282        482      0.755      0.675       0.73      0.501\n"
     ]
    },
    {
     "name": "stderr",
     "output_type": "stream",
     "text": [
      "\n"
     ]
    },
    {
     "name": "stdout",
     "output_type": "stream",
     "text": [
      "\n",
      "      Epoch    GPU_mem   box_loss   cls_loss   dfl_loss  Instances       Size\n"
     ]
    },
    {
     "name": "stderr",
     "output_type": "stream",
     "text": [
      "     19/200      12.8G      1.193     0.9772      1.447        100        640: 100%|██████████| 487/487 [01:19<00:00,  6.11it/s]\n",
      "                 Class     Images  Instances      Box(P          R      mAP50  mAP50-95): 100%|██████████| 9/9 [00:00<00:00,  9.33it/s]"
     ]
    },
    {
     "name": "stdout",
     "output_type": "stream",
     "text": [
      "                   all        282        482      0.846      0.617      0.741      0.511\n"
     ]
    },
    {
     "name": "stderr",
     "output_type": "stream",
     "text": [
      "\n"
     ]
    },
    {
     "name": "stdout",
     "output_type": "stream",
     "text": [
      "\n",
      "      Epoch    GPU_mem   box_loss   cls_loss   dfl_loss  Instances       Size\n"
     ]
    },
    {
     "name": "stderr",
     "output_type": "stream",
     "text": [
      "     20/200      12.3G      1.184     0.9626      1.433        109        640: 100%|██████████| 487/487 [01:19<00:00,  6.10it/s]\n",
      "                 Class     Images  Instances      Box(P          R      mAP50  mAP50-95): 100%|██████████| 9/9 [00:00<00:00,  9.16it/s]"
     ]
    },
    {
     "name": "stdout",
     "output_type": "stream",
     "text": [
      "                   all        282        482      0.757      0.661      0.753      0.522\n"
     ]
    },
    {
     "name": "stderr",
     "output_type": "stream",
     "text": [
      "\n"
     ]
    },
    {
     "name": "stdout",
     "output_type": "stream",
     "text": [
      "\n",
      "      Epoch    GPU_mem   box_loss   cls_loss   dfl_loss  Instances       Size\n"
     ]
    },
    {
     "name": "stderr",
     "output_type": "stream",
     "text": [
      "     21/200      12.2G      1.166     0.9432      1.422        195        640: 100%|██████████| 487/487 [01:19<00:00,  6.11it/s]\n",
      "                 Class     Images  Instances      Box(P          R      mAP50  mAP50-95): 100%|██████████| 9/9 [00:01<00:00,  8.87it/s]"
     ]
    },
    {
     "name": "stdout",
     "output_type": "stream",
     "text": [
      "                   all        282        482      0.801      0.645      0.759      0.512\n"
     ]
    },
    {
     "name": "stderr",
     "output_type": "stream",
     "text": [
      "\n"
     ]
    },
    {
     "name": "stdout",
     "output_type": "stream",
     "text": [
      "\n",
      "      Epoch    GPU_mem   box_loss   cls_loss   dfl_loss  Instances       Size\n"
     ]
    },
    {
     "name": "stderr",
     "output_type": "stream",
     "text": [
      "     22/200      13.1G       1.15     0.9211       1.41        143        640: 100%|██████████| 487/487 [01:20<00:00,  6.08it/s]\n",
      "                 Class     Images  Instances      Box(P          R      mAP50  mAP50-95): 100%|██████████| 9/9 [00:00<00:00,  9.23it/s]"
     ]
    },
    {
     "name": "stdout",
     "output_type": "stream",
     "text": [
      "                   all        282        482      0.808      0.656      0.781      0.547\n"
     ]
    },
    {
     "name": "stderr",
     "output_type": "stream",
     "text": [
      "\n"
     ]
    },
    {
     "name": "stdout",
     "output_type": "stream",
     "text": [
      "\n",
      "      Epoch    GPU_mem   box_loss   cls_loss   dfl_loss  Instances       Size\n"
     ]
    },
    {
     "name": "stderr",
     "output_type": "stream",
     "text": [
      "     23/200      12.3G      1.142     0.9033      1.397        201        640: 100%|██████████| 487/487 [01:21<00:00,  6.01it/s]\n",
      "                 Class     Images  Instances      Box(P          R      mAP50  mAP50-95): 100%|██████████| 9/9 [00:00<00:00,  9.43it/s]"
     ]
    },
    {
     "name": "stdout",
     "output_type": "stream",
     "text": [
      "                   all        282        482      0.791      0.697      0.795      0.538\n"
     ]
    },
    {
     "name": "stderr",
     "output_type": "stream",
     "text": [
      "\n"
     ]
    },
    {
     "name": "stdout",
     "output_type": "stream",
     "text": [
      "\n",
      "      Epoch    GPU_mem   box_loss   cls_loss   dfl_loss  Instances       Size\n"
     ]
    },
    {
     "name": "stderr",
     "output_type": "stream",
     "text": [
      "     24/200      12.2G      1.114     0.8807      1.382         93        640: 100%|██████████| 487/487 [01:20<00:00,  6.08it/s]\n",
      "                 Class     Images  Instances      Box(P          R      mAP50  mAP50-95): 100%|██████████| 9/9 [00:00<00:00,  9.42it/s]"
     ]
    },
    {
     "name": "stdout",
     "output_type": "stream",
     "text": [
      "                   all        282        482      0.798      0.724      0.811      0.565\n"
     ]
    },
    {
     "name": "stderr",
     "output_type": "stream",
     "text": [
      "\n"
     ]
    },
    {
     "name": "stdout",
     "output_type": "stream",
     "text": [
      "\n",
      "      Epoch    GPU_mem   box_loss   cls_loss   dfl_loss  Instances       Size\n"
     ]
    },
    {
     "name": "stderr",
     "output_type": "stream",
     "text": [
      "     25/200      12.7G      1.117     0.8719      1.383        160        640: 100%|██████████| 487/487 [01:19<00:00,  6.09it/s]\n",
      "                 Class     Images  Instances      Box(P          R      mAP50  mAP50-95): 100%|██████████| 9/9 [00:00<00:00,  9.30it/s]"
     ]
    },
    {
     "name": "stdout",
     "output_type": "stream",
     "text": [
      "                   all        282        482      0.768      0.754      0.808       0.57\n"
     ]
    },
    {
     "name": "stderr",
     "output_type": "stream",
     "text": [
      "\n"
     ]
    },
    {
     "name": "stdout",
     "output_type": "stream",
     "text": [
      "\n",
      "      Epoch    GPU_mem   box_loss   cls_loss   dfl_loss  Instances       Size\n"
     ]
    },
    {
     "name": "stderr",
     "output_type": "stream",
     "text": [
      "     26/200      12.2G      1.097     0.8655      1.374        135        640: 100%|██████████| 487/487 [01:20<00:00,  6.05it/s]\n",
      "                 Class     Images  Instances      Box(P          R      mAP50  mAP50-95): 100%|██████████| 9/9 [00:00<00:00,  9.34it/s]"
     ]
    },
    {
     "name": "stdout",
     "output_type": "stream",
     "text": [
      "                   all        282        482      0.759      0.794      0.841      0.587\n"
     ]
    },
    {
     "name": "stderr",
     "output_type": "stream",
     "text": [
      "\n"
     ]
    },
    {
     "name": "stdout",
     "output_type": "stream",
     "text": [
      "\n",
      "      Epoch    GPU_mem   box_loss   cls_loss   dfl_loss  Instances       Size\n"
     ]
    },
    {
     "name": "stderr",
     "output_type": "stream",
     "text": [
      "     27/200      12.7G      1.089     0.8529      1.364        139        640: 100%|██████████| 487/487 [01:20<00:00,  6.07it/s]\n",
      "                 Class     Images  Instances      Box(P          R      mAP50  mAP50-95): 100%|██████████| 9/9 [00:00<00:00,  9.60it/s]"
     ]
    },
    {
     "name": "stdout",
     "output_type": "stream",
     "text": [
      "                   all        282        482      0.832      0.762       0.86      0.596\n"
     ]
    },
    {
     "name": "stderr",
     "output_type": "stream",
     "text": [
      "\n"
     ]
    },
    {
     "name": "stdout",
     "output_type": "stream",
     "text": [
      "\n",
      "      Epoch    GPU_mem   box_loss   cls_loss   dfl_loss  Instances       Size\n"
     ]
    },
    {
     "name": "stderr",
     "output_type": "stream",
     "text": [
      "     28/200      12.2G      1.067      0.822      1.346         88        640: 100%|██████████| 487/487 [01:19<00:00,  6.11it/s]\n",
      "                 Class     Images  Instances      Box(P          R      mAP50  mAP50-95): 100%|██████████| 9/9 [00:01<00:00,  8.84it/s]"
     ]
    },
    {
     "name": "stdout",
     "output_type": "stream",
     "text": [
      "                   all        282        482      0.844      0.797      0.849      0.602\n"
     ]
    },
    {
     "name": "stderr",
     "output_type": "stream",
     "text": [
      "\n"
     ]
    },
    {
     "name": "stdout",
     "output_type": "stream",
     "text": [
      "\n",
      "      Epoch    GPU_mem   box_loss   cls_loss   dfl_loss  Instances       Size\n"
     ]
    },
    {
     "name": "stderr",
     "output_type": "stream",
     "text": [
      "     29/200      12.6G      1.059     0.8004      1.332        145        640: 100%|██████████| 487/487 [01:19<00:00,  6.12it/s]\n",
      "                 Class     Images  Instances      Box(P          R      mAP50  mAP50-95): 100%|██████████| 9/9 [00:00<00:00,  9.07it/s]"
     ]
    },
    {
     "name": "stdout",
     "output_type": "stream",
     "text": [
      "                   all        282        482       0.78      0.736       0.83      0.578\n"
     ]
    },
    {
     "name": "stderr",
     "output_type": "stream",
     "text": [
      "\n"
     ]
    },
    {
     "name": "stdout",
     "output_type": "stream",
     "text": [
      "\n",
      "      Epoch    GPU_mem   box_loss   cls_loss   dfl_loss  Instances       Size\n"
     ]
    },
    {
     "name": "stderr",
     "output_type": "stream",
     "text": [
      "     30/200      11.9G      1.048     0.8066      1.331        149        640: 100%|██████████| 487/487 [01:20<00:00,  6.09it/s]\n",
      "                 Class     Images  Instances      Box(P          R      mAP50  mAP50-95): 100%|██████████| 9/9 [00:01<00:00,  8.57it/s]"
     ]
    },
    {
     "name": "stdout",
     "output_type": "stream",
     "text": [
      "                   all        282        482      0.834      0.778      0.843      0.617\n"
     ]
    },
    {
     "name": "stderr",
     "output_type": "stream",
     "text": [
      "\n"
     ]
    },
    {
     "name": "stdout",
     "output_type": "stream",
     "text": [
      "\n",
      "      Epoch    GPU_mem   box_loss   cls_loss   dfl_loss  Instances       Size\n"
     ]
    },
    {
     "name": "stderr",
     "output_type": "stream",
     "text": [
      "     31/200      12.6G      1.037     0.7908      1.318        252        640: 100%|██████████| 487/487 [01:19<00:00,  6.09it/s]\n",
      "                 Class     Images  Instances      Box(P          R      mAP50  mAP50-95): 100%|██████████| 9/9 [00:00<00:00,  9.66it/s]"
     ]
    },
    {
     "name": "stdout",
     "output_type": "stream",
     "text": [
      "                   all        282        482      0.869      0.751      0.836      0.595\n"
     ]
    },
    {
     "name": "stderr",
     "output_type": "stream",
     "text": [
      "\n"
     ]
    },
    {
     "name": "stdout",
     "output_type": "stream",
     "text": [
      "\n",
      "      Epoch    GPU_mem   box_loss   cls_loss   dfl_loss  Instances       Size\n"
     ]
    },
    {
     "name": "stderr",
     "output_type": "stream",
     "text": [
      "     32/200      12.4G      1.029     0.7821      1.313        131        640: 100%|██████████| 487/487 [01:20<00:00,  6.06it/s]\n",
      "                 Class     Images  Instances      Box(P          R      mAP50  mAP50-95): 100%|██████████| 9/9 [00:00<00:00,  9.21it/s]"
     ]
    },
    {
     "name": "stdout",
     "output_type": "stream",
     "text": [
      "                   all        282        482      0.828      0.748      0.849      0.605\n"
     ]
    },
    {
     "name": "stderr",
     "output_type": "stream",
     "text": [
      "\n"
     ]
    },
    {
     "name": "stdout",
     "output_type": "stream",
     "text": [
      "\n",
      "      Epoch    GPU_mem   box_loss   cls_loss   dfl_loss  Instances       Size\n"
     ]
    },
    {
     "name": "stderr",
     "output_type": "stream",
     "text": [
      "     33/200      12.3G       1.02     0.7751      1.309         98        640: 100%|██████████| 487/487 [01:20<00:00,  6.02it/s]\n",
      "                 Class     Images  Instances      Box(P          R      mAP50  mAP50-95): 100%|██████████| 9/9 [00:00<00:00,  9.69it/s]"
     ]
    },
    {
     "name": "stdout",
     "output_type": "stream",
     "text": [
      "                   all        282        482      0.861      0.756      0.848      0.612\n"
     ]
    },
    {
     "name": "stderr",
     "output_type": "stream",
     "text": [
      "\n"
     ]
    },
    {
     "name": "stdout",
     "output_type": "stream",
     "text": [
      "\n",
      "      Epoch    GPU_mem   box_loss   cls_loss   dfl_loss  Instances       Size\n"
     ]
    },
    {
     "name": "stderr",
     "output_type": "stream",
     "text": [
      "     34/200      12.2G      1.011     0.7616        1.3        124        640: 100%|██████████| 487/487 [01:20<00:00,  6.03it/s]\n",
      "                 Class     Images  Instances      Box(P          R      mAP50  mAP50-95): 100%|██████████| 9/9 [00:00<00:00,  9.75it/s]"
     ]
    },
    {
     "name": "stdout",
     "output_type": "stream",
     "text": [
      "                   all        282        482      0.898      0.764      0.881      0.634\n"
     ]
    },
    {
     "name": "stderr",
     "output_type": "stream",
     "text": [
      "\n"
     ]
    },
    {
     "name": "stdout",
     "output_type": "stream",
     "text": [
      "\n",
      "      Epoch    GPU_mem   box_loss   cls_loss   dfl_loss  Instances       Size\n"
     ]
    },
    {
     "name": "stderr",
     "output_type": "stream",
     "text": [
      "     35/200      12.3G      1.001     0.7456      1.289        165        640: 100%|██████████| 487/487 [01:20<00:00,  6.08it/s]\n",
      "                 Class     Images  Instances      Box(P          R      mAP50  mAP50-95): 100%|██████████| 9/9 [00:00<00:00,  9.55it/s]"
     ]
    },
    {
     "name": "stdout",
     "output_type": "stream",
     "text": [
      "                   all        282        482       0.84      0.803      0.878      0.628\n"
     ]
    },
    {
     "name": "stderr",
     "output_type": "stream",
     "text": [
      "\n"
     ]
    },
    {
     "name": "stdout",
     "output_type": "stream",
     "text": [
      "\n",
      "      Epoch    GPU_mem   box_loss   cls_loss   dfl_loss  Instances       Size\n"
     ]
    },
    {
     "name": "stderr",
     "output_type": "stream",
     "text": [
      "     36/200      12.1G     0.9891      0.743      1.287        129        640: 100%|██████████| 487/487 [01:20<00:00,  6.02it/s]\n",
      "                 Class     Images  Instances      Box(P          R      mAP50  mAP50-95): 100%|██████████| 9/9 [00:00<00:00,  9.53it/s]"
     ]
    },
    {
     "name": "stdout",
     "output_type": "stream",
     "text": [
      "                   all        282        482      0.824      0.782       0.86      0.612\n"
     ]
    },
    {
     "name": "stderr",
     "output_type": "stream",
     "text": [
      "\n"
     ]
    },
    {
     "name": "stdout",
     "output_type": "stream",
     "text": [
      "\n",
      "      Epoch    GPU_mem   box_loss   cls_loss   dfl_loss  Instances       Size\n"
     ]
    },
    {
     "name": "stderr",
     "output_type": "stream",
     "text": [
      "     37/200      12.2G     0.9813     0.7357      1.283        183        640: 100%|██████████| 487/487 [01:19<00:00,  6.13it/s]\n",
      "                 Class     Images  Instances      Box(P          R      mAP50  mAP50-95): 100%|██████████| 9/9 [00:00<00:00,  9.50it/s]"
     ]
    },
    {
     "name": "stdout",
     "output_type": "stream",
     "text": [
      "                   all        282        482       0.87      0.766       0.86      0.619\n"
     ]
    },
    {
     "name": "stderr",
     "output_type": "stream",
     "text": [
      "\n"
     ]
    },
    {
     "name": "stdout",
     "output_type": "stream",
     "text": [
      "\n",
      "      Epoch    GPU_mem   box_loss   cls_loss   dfl_loss  Instances       Size\n"
     ]
    },
    {
     "name": "stderr",
     "output_type": "stream",
     "text": [
      "     38/200      12.2G     0.9659     0.7218      1.271        144        640: 100%|██████████| 487/487 [01:22<00:00,  5.92it/s]\n",
      "                 Class     Images  Instances      Box(P          R      mAP50  mAP50-95): 100%|██████████| 9/9 [00:01<00:00,  8.85it/s]"
     ]
    },
    {
     "name": "stdout",
     "output_type": "stream",
     "text": [
      "                   all        282        482      0.874      0.768      0.857       0.62\n"
     ]
    },
    {
     "name": "stderr",
     "output_type": "stream",
     "text": [
      "\n"
     ]
    },
    {
     "name": "stdout",
     "output_type": "stream",
     "text": [
      "\n",
      "      Epoch    GPU_mem   box_loss   cls_loss   dfl_loss  Instances       Size\n"
     ]
    },
    {
     "name": "stderr",
     "output_type": "stream",
     "text": [
      "     39/200      12.4G     0.9643      0.717      1.264        113        640: 100%|██████████| 487/487 [01:19<00:00,  6.15it/s]\n",
      "                 Class     Images  Instances      Box(P          R      mAP50  mAP50-95): 100%|██████████| 9/9 [00:00<00:00,  9.20it/s]"
     ]
    },
    {
     "name": "stdout",
     "output_type": "stream",
     "text": [
      "                   all        282        482      0.885      0.759      0.852      0.597\n"
     ]
    },
    {
     "name": "stderr",
     "output_type": "stream",
     "text": [
      "\n"
     ]
    },
    {
     "name": "stdout",
     "output_type": "stream",
     "text": [
      "\n",
      "      Epoch    GPU_mem   box_loss   cls_loss   dfl_loss  Instances       Size\n"
     ]
    },
    {
     "name": "stderr",
     "output_type": "stream",
     "text": [
      "     40/200      12.5G     0.9631      0.714      1.259        119        640: 100%|██████████| 487/487 [01:20<00:00,  6.08it/s]\n",
      "                 Class     Images  Instances      Box(P          R      mAP50  mAP50-95): 100%|██████████| 9/9 [00:00<00:00,  9.54it/s]"
     ]
    },
    {
     "name": "stdout",
     "output_type": "stream",
     "text": [
      "                   all        282        482      0.822      0.846      0.878      0.636\n"
     ]
    },
    {
     "name": "stderr",
     "output_type": "stream",
     "text": [
      "\n"
     ]
    },
    {
     "name": "stdout",
     "output_type": "stream",
     "text": [
      "\n",
      "      Epoch    GPU_mem   box_loss   cls_loss   dfl_loss  Instances       Size\n"
     ]
    },
    {
     "name": "stderr",
     "output_type": "stream",
     "text": [
      "     41/200      12.8G     0.9483     0.7033      1.248        130        640: 100%|██████████| 487/487 [01:20<00:00,  6.08it/s]\n",
      "                 Class     Images  Instances      Box(P          R      mAP50  mAP50-95): 100%|██████████| 9/9 [00:00<00:00,  9.09it/s]"
     ]
    },
    {
     "name": "stdout",
     "output_type": "stream",
     "text": [
      "                   all        282        482      0.854      0.823      0.883       0.64\n"
     ]
    },
    {
     "name": "stderr",
     "output_type": "stream",
     "text": [
      "\n"
     ]
    },
    {
     "name": "stdout",
     "output_type": "stream",
     "text": [
      "\n",
      "      Epoch    GPU_mem   box_loss   cls_loss   dfl_loss  Instances       Size\n"
     ]
    },
    {
     "name": "stderr",
     "output_type": "stream",
     "text": [
      "     42/200      12.4G     0.9396     0.6917      1.248        153        640: 100%|██████████| 487/487 [01:18<00:00,  6.17it/s]\n",
      "                 Class     Images  Instances      Box(P          R      mAP50  mAP50-95): 100%|██████████| 9/9 [00:01<00:00,  8.87it/s]"
     ]
    },
    {
     "name": "stdout",
     "output_type": "stream",
     "text": [
      "                   all        282        482      0.855      0.815      0.882      0.634\n"
     ]
    },
    {
     "name": "stderr",
     "output_type": "stream",
     "text": [
      "\n"
     ]
    },
    {
     "name": "stdout",
     "output_type": "stream",
     "text": [
      "\n",
      "      Epoch    GPU_mem   box_loss   cls_loss   dfl_loss  Instances       Size\n"
     ]
    },
    {
     "name": "stderr",
     "output_type": "stream",
     "text": [
      "     43/200      12.6G     0.9269     0.6876       1.24        109        640: 100%|██████████| 487/487 [01:20<00:00,  6.05it/s]\n",
      "                 Class     Images  Instances      Box(P          R      mAP50  mAP50-95): 100%|██████████| 9/9 [00:00<00:00,  9.32it/s]"
     ]
    },
    {
     "name": "stdout",
     "output_type": "stream",
     "text": [
      "                   all        282        482      0.908      0.735      0.876       0.64\n"
     ]
    },
    {
     "name": "stderr",
     "output_type": "stream",
     "text": [
      "\n"
     ]
    },
    {
     "name": "stdout",
     "output_type": "stream",
     "text": [
      "\n",
      "      Epoch    GPU_mem   box_loss   cls_loss   dfl_loss  Instances       Size\n"
     ]
    },
    {
     "name": "stderr",
     "output_type": "stream",
     "text": [
      "     44/200      12.7G     0.9248     0.6796      1.239        133        640: 100%|██████████| 487/487 [01:19<00:00,  6.14it/s]\n",
      "                 Class     Images  Instances      Box(P          R      mAP50  mAP50-95): 100%|██████████| 9/9 [00:00<00:00,  9.66it/s]"
     ]
    },
    {
     "name": "stdout",
     "output_type": "stream",
     "text": [
      "                   all        282        482      0.822      0.828      0.871      0.645\n"
     ]
    },
    {
     "name": "stderr",
     "output_type": "stream",
     "text": [
      "\n"
     ]
    },
    {
     "name": "stdout",
     "output_type": "stream",
     "text": [
      "\n",
      "      Epoch    GPU_mem   box_loss   cls_loss   dfl_loss  Instances       Size\n"
     ]
    },
    {
     "name": "stderr",
     "output_type": "stream",
     "text": [
      "     45/200      13.1G     0.9146     0.6768      1.234        128        640: 100%|██████████| 487/487 [01:19<00:00,  6.11it/s]\n",
      "                 Class     Images  Instances      Box(P          R      mAP50  mAP50-95): 100%|██████████| 9/9 [00:00<00:00, 10.00it/s]"
     ]
    },
    {
     "name": "stdout",
     "output_type": "stream",
     "text": [
      "                   all        282        482      0.883      0.819      0.883       0.65\n"
     ]
    },
    {
     "name": "stderr",
     "output_type": "stream",
     "text": [
      "\n"
     ]
    },
    {
     "name": "stdout",
     "output_type": "stream",
     "text": [
      "\n",
      "      Epoch    GPU_mem   box_loss   cls_loss   dfl_loss  Instances       Size\n"
     ]
    },
    {
     "name": "stderr",
     "output_type": "stream",
     "text": [
      "     46/200      12.7G     0.9194     0.6731      1.231        166        640: 100%|██████████| 487/487 [01:20<00:00,  6.05it/s]\n",
      "                 Class     Images  Instances      Box(P          R      mAP50  mAP50-95): 100%|██████████| 9/9 [00:00<00:00,  9.60it/s]"
     ]
    },
    {
     "name": "stdout",
     "output_type": "stream",
     "text": [
      "                   all        282        482      0.873      0.845      0.886      0.644\n"
     ]
    },
    {
     "name": "stderr",
     "output_type": "stream",
     "text": [
      "\n"
     ]
    },
    {
     "name": "stdout",
     "output_type": "stream",
     "text": [
      "\n",
      "      Epoch    GPU_mem   box_loss   cls_loss   dfl_loss  Instances       Size\n"
     ]
    },
    {
     "name": "stderr",
     "output_type": "stream",
     "text": [
      "     47/200      12.3G     0.8991     0.6568      1.214        188        640: 100%|██████████| 487/487 [01:20<00:00,  6.05it/s]\n",
      "                 Class     Images  Instances      Box(P          R      mAP50  mAP50-95): 100%|██████████| 9/9 [00:00<00:00,  9.61it/s]"
     ]
    },
    {
     "name": "stdout",
     "output_type": "stream",
     "text": [
      "                   all        282        482       0.86       0.85       0.88      0.655\n"
     ]
    },
    {
     "name": "stderr",
     "output_type": "stream",
     "text": [
      "\n"
     ]
    },
    {
     "name": "stdout",
     "output_type": "stream",
     "text": [
      "\n",
      "      Epoch    GPU_mem   box_loss   cls_loss   dfl_loss  Instances       Size\n"
     ]
    },
    {
     "name": "stderr",
     "output_type": "stream",
     "text": [
      "     48/200      12.2G        0.9     0.6609      1.223         91        640: 100%|██████████| 487/487 [01:20<00:00,  6.08it/s]\n",
      "                 Class     Images  Instances      Box(P          R      mAP50  mAP50-95): 100%|██████████| 9/9 [00:00<00:00,  9.44it/s]"
     ]
    },
    {
     "name": "stdout",
     "output_type": "stream",
     "text": [
      "                   all        282        482      0.836      0.833      0.881      0.648\n"
     ]
    },
    {
     "name": "stderr",
     "output_type": "stream",
     "text": [
      "\n"
     ]
    },
    {
     "name": "stdout",
     "output_type": "stream",
     "text": [
      "\n",
      "      Epoch    GPU_mem   box_loss   cls_loss   dfl_loss  Instances       Size\n"
     ]
    },
    {
     "name": "stderr",
     "output_type": "stream",
     "text": [
      "     49/200      12.7G     0.8878     0.6545      1.213        112        640: 100%|██████████| 487/487 [01:19<00:00,  6.15it/s]\n",
      "                 Class     Images  Instances      Box(P          R      mAP50  mAP50-95): 100%|██████████| 9/9 [00:00<00:00,  9.21it/s]"
     ]
    },
    {
     "name": "stdout",
     "output_type": "stream",
     "text": [
      "                   all        282        482      0.853      0.818      0.875      0.642\n"
     ]
    },
    {
     "name": "stderr",
     "output_type": "stream",
     "text": [
      "\n"
     ]
    },
    {
     "name": "stdout",
     "output_type": "stream",
     "text": [
      "\n",
      "      Epoch    GPU_mem   box_loss   cls_loss   dfl_loss  Instances       Size\n"
     ]
    },
    {
     "name": "stderr",
     "output_type": "stream",
     "text": [
      "     50/200      12.6G     0.8903     0.6527      1.214        126        640: 100%|██████████| 487/487 [01:19<00:00,  6.12it/s]\n",
      "                 Class     Images  Instances      Box(P          R      mAP50  mAP50-95): 100%|██████████| 9/9 [00:00<00:00,  9.20it/s]"
     ]
    },
    {
     "name": "stdout",
     "output_type": "stream",
     "text": [
      "                   all        282        482      0.818      0.837      0.873      0.638\n"
     ]
    },
    {
     "name": "stderr",
     "output_type": "stream",
     "text": [
      "\n"
     ]
    },
    {
     "name": "stdout",
     "output_type": "stream",
     "text": [
      "\n",
      "      Epoch    GPU_mem   box_loss   cls_loss   dfl_loss  Instances       Size\n"
     ]
    },
    {
     "name": "stderr",
     "output_type": "stream",
     "text": [
      "     51/200      12.3G     0.8778     0.6392      1.206        125        640: 100%|██████████| 487/487 [01:19<00:00,  6.10it/s]\n",
      "                 Class     Images  Instances      Box(P          R      mAP50  mAP50-95): 100%|██████████| 9/9 [00:00<00:00,  9.77it/s]"
     ]
    },
    {
     "name": "stdout",
     "output_type": "stream",
     "text": [
      "                   all        282        482      0.829       0.84      0.874      0.645\n"
     ]
    },
    {
     "name": "stderr",
     "output_type": "stream",
     "text": [
      "\n"
     ]
    },
    {
     "name": "stdout",
     "output_type": "stream",
     "text": [
      "\n",
      "      Epoch    GPU_mem   box_loss   cls_loss   dfl_loss  Instances       Size\n"
     ]
    },
    {
     "name": "stderr",
     "output_type": "stream",
     "text": [
      "     52/200      12.3G     0.8725     0.6339      1.194        105        640: 100%|██████████| 487/487 [01:20<00:00,  6.06it/s]\n",
      "                 Class     Images  Instances      Box(P          R      mAP50  mAP50-95): 100%|██████████| 9/9 [00:00<00:00,  9.62it/s]"
     ]
    },
    {
     "name": "stdout",
     "output_type": "stream",
     "text": [
      "                   all        282        482      0.824      0.804      0.867      0.653\n"
     ]
    },
    {
     "name": "stderr",
     "output_type": "stream",
     "text": [
      "\n"
     ]
    },
    {
     "name": "stdout",
     "output_type": "stream",
     "text": [
      "\n",
      "      Epoch    GPU_mem   box_loss   cls_loss   dfl_loss  Instances       Size\n"
     ]
    },
    {
     "name": "stderr",
     "output_type": "stream",
     "text": [
      "     53/200      12.3G     0.8665     0.6325      1.196        113        640: 100%|██████████| 487/487 [01:19<00:00,  6.15it/s]\n",
      "                 Class     Images  Instances      Box(P          R      mAP50  mAP50-95): 100%|██████████| 9/9 [00:00<00:00,  9.29it/s]"
     ]
    },
    {
     "name": "stdout",
     "output_type": "stream",
     "text": [
      "                   all        282        482      0.802      0.822      0.864      0.637\n"
     ]
    },
    {
     "name": "stderr",
     "output_type": "stream",
     "text": [
      "\n"
     ]
    },
    {
     "name": "stdout",
     "output_type": "stream",
     "text": [
      "\n",
      "      Epoch    GPU_mem   box_loss   cls_loss   dfl_loss  Instances       Size\n"
     ]
    },
    {
     "name": "stderr",
     "output_type": "stream",
     "text": [
      "     54/200      12.3G     0.8625     0.6293      1.194        124        640: 100%|██████████| 487/487 [01:20<00:00,  6.05it/s]\n",
      "                 Class     Images  Instances      Box(P          R      mAP50  mAP50-95): 100%|██████████| 9/9 [00:00<00:00,  9.79it/s]"
     ]
    },
    {
     "name": "stdout",
     "output_type": "stream",
     "text": [
      "                   all        282        482      0.869      0.767      0.888      0.659\n"
     ]
    },
    {
     "name": "stderr",
     "output_type": "stream",
     "text": [
      "\n"
     ]
    },
    {
     "name": "stdout",
     "output_type": "stream",
     "text": [
      "\n",
      "      Epoch    GPU_mem   box_loss   cls_loss   dfl_loss  Instances       Size\n"
     ]
    },
    {
     "name": "stderr",
     "output_type": "stream",
     "text": [
      "     55/200      11.8G     0.8572      0.623       1.19        101        640: 100%|██████████| 487/487 [01:20<00:00,  6.06it/s]\n",
      "                 Class     Images  Instances      Box(P          R      mAP50  mAP50-95): 100%|██████████| 9/9 [00:00<00:00,  9.79it/s]"
     ]
    },
    {
     "name": "stdout",
     "output_type": "stream",
     "text": [
      "                   all        282        482      0.868      0.807      0.883      0.661\n"
     ]
    },
    {
     "name": "stderr",
     "output_type": "stream",
     "text": [
      "\n"
     ]
    },
    {
     "name": "stdout",
     "output_type": "stream",
     "text": [
      "\n",
      "      Epoch    GPU_mem   box_loss   cls_loss   dfl_loss  Instances       Size\n"
     ]
    },
    {
     "name": "stderr",
     "output_type": "stream",
     "text": [
      "     56/200      12.3G     0.8601     0.6284      1.185        148        640: 100%|██████████| 487/487 [01:20<00:00,  6.06it/s]\n",
      "                 Class     Images  Instances      Box(P          R      mAP50  mAP50-95): 100%|██████████| 9/9 [00:00<00:00,  9.60it/s]"
     ]
    },
    {
     "name": "stdout",
     "output_type": "stream",
     "text": [
      "                   all        282        482      0.885      0.833      0.888      0.652\n"
     ]
    },
    {
     "name": "stderr",
     "output_type": "stream",
     "text": [
      "\n"
     ]
    },
    {
     "name": "stdout",
     "output_type": "stream",
     "text": [
      "\n",
      "      Epoch    GPU_mem   box_loss   cls_loss   dfl_loss  Instances       Size\n"
     ]
    },
    {
     "name": "stderr",
     "output_type": "stream",
     "text": [
      "     57/200      13.5G     0.8489     0.6123      1.177        142        640: 100%|██████████| 487/487 [01:19<00:00,  6.10it/s]\n",
      "                 Class     Images  Instances      Box(P          R      mAP50  mAP50-95): 100%|██████████| 9/9 [00:00<00:00,  9.53it/s]"
     ]
    },
    {
     "name": "stdout",
     "output_type": "stream",
     "text": [
      "                   all        282        482      0.851      0.816      0.884      0.642\n"
     ]
    },
    {
     "name": "stderr",
     "output_type": "stream",
     "text": [
      "\n"
     ]
    },
    {
     "name": "stdout",
     "output_type": "stream",
     "text": [
      "\n",
      "      Epoch    GPU_mem   box_loss   cls_loss   dfl_loss  Instances       Size\n"
     ]
    },
    {
     "name": "stderr",
     "output_type": "stream",
     "text": [
      "     58/200      12.2G     0.8394     0.6099      1.175        210        640: 100%|██████████| 487/487 [01:20<00:00,  6.07it/s]\n",
      "                 Class     Images  Instances      Box(P          R      mAP50  mAP50-95): 100%|██████████| 9/9 [00:00<00:00,  9.07it/s]"
     ]
    },
    {
     "name": "stdout",
     "output_type": "stream",
     "text": [
      "                   all        282        482      0.886      0.824      0.886      0.644\n"
     ]
    },
    {
     "name": "stderr",
     "output_type": "stream",
     "text": [
      "\n"
     ]
    },
    {
     "name": "stdout",
     "output_type": "stream",
     "text": [
      "\n",
      "      Epoch    GPU_mem   box_loss   cls_loss   dfl_loss  Instances       Size\n"
     ]
    },
    {
     "name": "stderr",
     "output_type": "stream",
     "text": [
      "     59/200      12.8G     0.8371     0.6048      1.171        143        640: 100%|██████████| 487/487 [01:22<00:00,  5.89it/s]\n",
      "                 Class     Images  Instances      Box(P          R      mAP50  mAP50-95): 100%|██████████| 9/9 [00:00<00:00,  9.71it/s]"
     ]
    },
    {
     "name": "stdout",
     "output_type": "stream",
     "text": [
      "                   all        282        482      0.854      0.807      0.879      0.652\n"
     ]
    },
    {
     "name": "stderr",
     "output_type": "stream",
     "text": [
      "\n"
     ]
    },
    {
     "name": "stdout",
     "output_type": "stream",
     "text": [
      "\n",
      "      Epoch    GPU_mem   box_loss   cls_loss   dfl_loss  Instances       Size\n"
     ]
    },
    {
     "name": "stderr",
     "output_type": "stream",
     "text": [
      "     60/200      12.2G     0.8324     0.6028      1.171        139        640: 100%|██████████| 487/487 [01:21<00:00,  6.00it/s]\n",
      "                 Class     Images  Instances      Box(P          R      mAP50  mAP50-95): 100%|██████████| 9/9 [00:00<00:00,  9.09it/s]"
     ]
    },
    {
     "name": "stdout",
     "output_type": "stream",
     "text": [
      "                   all        282        482      0.811      0.881       0.89      0.662\n"
     ]
    },
    {
     "name": "stderr",
     "output_type": "stream",
     "text": [
      "\n"
     ]
    },
    {
     "name": "stdout",
     "output_type": "stream",
     "text": [
      "\n",
      "      Epoch    GPU_mem   box_loss   cls_loss   dfl_loss  Instances       Size\n"
     ]
    },
    {
     "name": "stderr",
     "output_type": "stream",
     "text": [
      "     61/200      12.2G     0.8205     0.5974      1.163        105        640: 100%|██████████| 487/487 [01:22<00:00,  5.87it/s]\n",
      "                 Class     Images  Instances      Box(P          R      mAP50  mAP50-95): 100%|██████████| 9/9 [00:00<00:00,  9.09it/s]"
     ]
    },
    {
     "name": "stdout",
     "output_type": "stream",
     "text": [
      "                   all        282        482      0.843      0.827      0.898      0.675\n"
     ]
    },
    {
     "name": "stderr",
     "output_type": "stream",
     "text": [
      "\n"
     ]
    },
    {
     "name": "stdout",
     "output_type": "stream",
     "text": [
      "\n",
      "      Epoch    GPU_mem   box_loss   cls_loss   dfl_loss  Instances       Size\n"
     ]
    },
    {
     "name": "stderr",
     "output_type": "stream",
     "text": [
      "     62/200      12.3G      0.821     0.5914      1.164        206        640: 100%|██████████| 487/487 [01:21<00:00,  5.97it/s]\n",
      "                 Class     Images  Instances      Box(P          R      mAP50  mAP50-95): 100%|██████████| 9/9 [00:00<00:00,  9.06it/s]"
     ]
    },
    {
     "name": "stdout",
     "output_type": "stream",
     "text": [
      "                   all        282        482       0.85       0.86      0.894      0.662\n"
     ]
    },
    {
     "name": "stderr",
     "output_type": "stream",
     "text": [
      "\n"
     ]
    },
    {
     "name": "stdout",
     "output_type": "stream",
     "text": [
      "\n",
      "      Epoch    GPU_mem   box_loss   cls_loss   dfl_loss  Instances       Size\n"
     ]
    },
    {
     "name": "stderr",
     "output_type": "stream",
     "text": [
      "     63/200      12.8G     0.8124     0.5892      1.159        168        640: 100%|██████████| 487/487 [01:21<00:00,  5.99it/s]\n",
      "                 Class     Images  Instances      Box(P          R      mAP50  mAP50-95): 100%|██████████| 9/9 [00:00<00:00,  9.73it/s]"
     ]
    },
    {
     "name": "stdout",
     "output_type": "stream",
     "text": [
      "                   all        282        482      0.875      0.824      0.887      0.654\n"
     ]
    },
    {
     "name": "stderr",
     "output_type": "stream",
     "text": [
      "\n"
     ]
    },
    {
     "name": "stdout",
     "output_type": "stream",
     "text": [
      "\n",
      "      Epoch    GPU_mem   box_loss   cls_loss   dfl_loss  Instances       Size\n"
     ]
    },
    {
     "name": "stderr",
     "output_type": "stream",
     "text": [
      "     64/200      12.4G     0.8173     0.5893       1.16        154        640: 100%|██████████| 487/487 [01:21<00:00,  5.99it/s]\n",
      "                 Class     Images  Instances      Box(P          R      mAP50  mAP50-95): 100%|██████████| 9/9 [00:00<00:00,  9.21it/s]"
     ]
    },
    {
     "name": "stdout",
     "output_type": "stream",
     "text": [
      "                   all        282        482      0.851      0.811      0.873      0.639\n"
     ]
    },
    {
     "name": "stderr",
     "output_type": "stream",
     "text": [
      "\n"
     ]
    },
    {
     "name": "stdout",
     "output_type": "stream",
     "text": [
      "\n",
      "      Epoch    GPU_mem   box_loss   cls_loss   dfl_loss  Instances       Size\n"
     ]
    },
    {
     "name": "stderr",
     "output_type": "stream",
     "text": [
      "     65/200      12.7G     0.8099     0.5882      1.159        204        640: 100%|██████████| 487/487 [01:21<00:00,  6.00it/s]\n",
      "                 Class     Images  Instances      Box(P          R      mAP50  mAP50-95): 100%|██████████| 9/9 [00:00<00:00,  9.25it/s]"
     ]
    },
    {
     "name": "stdout",
     "output_type": "stream",
     "text": [
      "                   all        282        482      0.845      0.836       0.88      0.649\n"
     ]
    },
    {
     "name": "stderr",
     "output_type": "stream",
     "text": [
      "\n"
     ]
    },
    {
     "name": "stdout",
     "output_type": "stream",
     "text": [
      "\n",
      "      Epoch    GPU_mem   box_loss   cls_loss   dfl_loss  Instances       Size\n"
     ]
    },
    {
     "name": "stderr",
     "output_type": "stream",
     "text": [
      "     66/200      12.2G     0.8021     0.5814      1.152        109        640: 100%|██████████| 487/487 [01:20<00:00,  6.08it/s]\n",
      "                 Class     Images  Instances      Box(P          R      mAP50  mAP50-95): 100%|██████████| 9/9 [00:00<00:00,  9.86it/s]"
     ]
    },
    {
     "name": "stdout",
     "output_type": "stream",
     "text": [
      "                   all        282        482       0.87      0.843      0.885      0.664\n"
     ]
    },
    {
     "name": "stderr",
     "output_type": "stream",
     "text": [
      "\n"
     ]
    },
    {
     "name": "stdout",
     "output_type": "stream",
     "text": [
      "\n",
      "      Epoch    GPU_mem   box_loss   cls_loss   dfl_loss  Instances       Size\n"
     ]
    },
    {
     "name": "stderr",
     "output_type": "stream",
     "text": [
      "     67/200      12.3G     0.8048     0.5801      1.152        160        640: 100%|██████████| 487/487 [01:20<00:00,  6.06it/s]\n",
      "                 Class     Images  Instances      Box(P          R      mAP50  mAP50-95): 100%|██████████| 9/9 [00:00<00:00,  9.65it/s]"
     ]
    },
    {
     "name": "stdout",
     "output_type": "stream",
     "text": [
      "                   all        282        482      0.885      0.821       0.88      0.664\n"
     ]
    },
    {
     "name": "stderr",
     "output_type": "stream",
     "text": [
      "\n"
     ]
    },
    {
     "name": "stdout",
     "output_type": "stream",
     "text": [
      "\n",
      "      Epoch    GPU_mem   box_loss   cls_loss   dfl_loss  Instances       Size\n"
     ]
    },
    {
     "name": "stderr",
     "output_type": "stream",
     "text": [
      "     68/200      12.3G     0.8002     0.5757      1.144        147        640: 100%|██████████| 487/487 [01:20<00:00,  6.02it/s]\n",
      "                 Class     Images  Instances      Box(P          R      mAP50  mAP50-95): 100%|██████████| 9/9 [00:00<00:00,  9.85it/s]"
     ]
    },
    {
     "name": "stdout",
     "output_type": "stream",
     "text": [
      "                   all        282        482      0.821      0.873      0.884      0.675\n"
     ]
    },
    {
     "name": "stderr",
     "output_type": "stream",
     "text": [
      "\n"
     ]
    },
    {
     "name": "stdout",
     "output_type": "stream",
     "text": [
      "\n",
      "      Epoch    GPU_mem   box_loss   cls_loss   dfl_loss  Instances       Size\n"
     ]
    },
    {
     "name": "stderr",
     "output_type": "stream",
     "text": [
      "     69/200      12.3G     0.7869     0.5697      1.141        149        640: 100%|██████████| 487/487 [01:19<00:00,  6.15it/s]\n",
      "                 Class     Images  Instances      Box(P          R      mAP50  mAP50-95): 100%|██████████| 9/9 [00:00<00:00,  9.66it/s]"
     ]
    },
    {
     "name": "stdout",
     "output_type": "stream",
     "text": [
      "                   all        282        482      0.844      0.873      0.886      0.672\n"
     ]
    },
    {
     "name": "stderr",
     "output_type": "stream",
     "text": [
      "\n"
     ]
    },
    {
     "name": "stdout",
     "output_type": "stream",
     "text": [
      "\n",
      "      Epoch    GPU_mem   box_loss   cls_loss   dfl_loss  Instances       Size\n"
     ]
    },
    {
     "name": "stderr",
     "output_type": "stream",
     "text": [
      "     70/200      12.7G     0.7893     0.5715      1.141        112        640: 100%|██████████| 487/487 [01:20<00:00,  6.06it/s]\n",
      "                 Class     Images  Instances      Box(P          R      mAP50  mAP50-95): 100%|██████████| 9/9 [00:00<00:00,  9.77it/s]"
     ]
    },
    {
     "name": "stdout",
     "output_type": "stream",
     "text": [
      "                   all        282        482      0.819      0.889      0.887      0.675\n"
     ]
    },
    {
     "name": "stderr",
     "output_type": "stream",
     "text": [
      "\n"
     ]
    },
    {
     "name": "stdout",
     "output_type": "stream",
     "text": [
      "\n",
      "      Epoch    GPU_mem   box_loss   cls_loss   dfl_loss  Instances       Size\n"
     ]
    },
    {
     "name": "stderr",
     "output_type": "stream",
     "text": [
      "     71/200      12.7G     0.7822     0.5674       1.14        140        640: 100%|██████████| 487/487 [01:22<00:00,  5.92it/s]\n",
      "                 Class     Images  Instances      Box(P          R      mAP50  mAP50-95): 100%|██████████| 9/9 [00:00<00:00,  9.39it/s]"
     ]
    },
    {
     "name": "stdout",
     "output_type": "stream",
     "text": [
      "                   all        282        482      0.862      0.852      0.891      0.667\n"
     ]
    },
    {
     "name": "stderr",
     "output_type": "stream",
     "text": [
      "\n"
     ]
    },
    {
     "name": "stdout",
     "output_type": "stream",
     "text": [
      "\n",
      "      Epoch    GPU_mem   box_loss   cls_loss   dfl_loss  Instances       Size\n"
     ]
    },
    {
     "name": "stderr",
     "output_type": "stream",
     "text": [
      "     72/200      13.3G     0.7811     0.5662      1.137        165        640: 100%|██████████| 487/487 [01:18<00:00,  6.17it/s]\n",
      "                 Class     Images  Instances      Box(P          R      mAP50  mAP50-95): 100%|██████████| 9/9 [00:00<00:00,  9.67it/s]"
     ]
    },
    {
     "name": "stdout",
     "output_type": "stream",
     "text": [
      "                   all        282        482      0.853      0.882      0.896      0.672\n"
     ]
    },
    {
     "name": "stderr",
     "output_type": "stream",
     "text": [
      "\n"
     ]
    },
    {
     "name": "stdout",
     "output_type": "stream",
     "text": [
      "\n",
      "      Epoch    GPU_mem   box_loss   cls_loss   dfl_loss  Instances       Size\n"
     ]
    },
    {
     "name": "stderr",
     "output_type": "stream",
     "text": [
      "     73/200      13.3G     0.7814      0.564      1.134        194        640: 100%|██████████| 487/487 [01:19<00:00,  6.15it/s]\n",
      "                 Class     Images  Instances      Box(P          R      mAP50  mAP50-95): 100%|██████████| 9/9 [00:00<00:00,  9.21it/s]"
     ]
    },
    {
     "name": "stdout",
     "output_type": "stream",
     "text": [
      "                   all        282        482      0.864      0.888      0.905      0.673\n"
     ]
    },
    {
     "name": "stderr",
     "output_type": "stream",
     "text": [
      "\n"
     ]
    },
    {
     "name": "stdout",
     "output_type": "stream",
     "text": [
      "\n",
      "      Epoch    GPU_mem   box_loss   cls_loss   dfl_loss  Instances       Size\n"
     ]
    },
    {
     "name": "stderr",
     "output_type": "stream",
     "text": [
      "     74/200      12.8G     0.7737     0.5608      1.131        135        640: 100%|██████████| 487/487 [01:20<00:00,  6.04it/s]\n",
      "                 Class     Images  Instances      Box(P          R      mAP50  mAP50-95): 100%|██████████| 9/9 [00:00<00:00,  9.59it/s]"
     ]
    },
    {
     "name": "stdout",
     "output_type": "stream",
     "text": [
      "                   all        282        482      0.885      0.855      0.896      0.667\n"
     ]
    },
    {
     "name": "stderr",
     "output_type": "stream",
     "text": [
      "\n"
     ]
    },
    {
     "name": "stdout",
     "output_type": "stream",
     "text": [
      "\n",
      "      Epoch    GPU_mem   box_loss   cls_loss   dfl_loss  Instances       Size\n"
     ]
    },
    {
     "name": "stderr",
     "output_type": "stream",
     "text": [
      "     75/200      12.4G     0.7746     0.5557      1.124        115        640: 100%|██████████| 487/487 [01:20<00:00,  6.03it/s]\n",
      "                 Class     Images  Instances      Box(P          R      mAP50  mAP50-95): 100%|██████████| 9/9 [00:00<00:00,  9.46it/s]"
     ]
    },
    {
     "name": "stdout",
     "output_type": "stream",
     "text": [
      "                   all        282        482      0.889       0.86      0.884      0.664\n"
     ]
    },
    {
     "name": "stderr",
     "output_type": "stream",
     "text": [
      "\n"
     ]
    },
    {
     "name": "stdout",
     "output_type": "stream",
     "text": [
      "\n",
      "      Epoch    GPU_mem   box_loss   cls_loss   dfl_loss  Instances       Size\n"
     ]
    },
    {
     "name": "stderr",
     "output_type": "stream",
     "text": [
      "     76/200      12.4G     0.7609     0.5491      1.119        113        640: 100%|██████████| 487/487 [01:20<00:00,  6.04it/s]\n",
      "                 Class     Images  Instances      Box(P          R      mAP50  mAP50-95): 100%|██████████| 9/9 [00:00<00:00,  9.82it/s]"
     ]
    },
    {
     "name": "stdout",
     "output_type": "stream",
     "text": [
      "                   all        282        482       0.87      0.861      0.895      0.673\n"
     ]
    },
    {
     "name": "stderr",
     "output_type": "stream",
     "text": [
      "\n"
     ]
    },
    {
     "name": "stdout",
     "output_type": "stream",
     "text": [
      "\n",
      "      Epoch    GPU_mem   box_loss   cls_loss   dfl_loss  Instances       Size\n"
     ]
    },
    {
     "name": "stderr",
     "output_type": "stream",
     "text": [
      "     77/200      12.9G     0.7648     0.5516      1.125        244        640: 100%|██████████| 487/487 [01:21<00:00,  5.94it/s]\n",
      "                 Class     Images  Instances      Box(P          R      mAP50  mAP50-95): 100%|██████████| 9/9 [00:00<00:00,  9.67it/s]"
     ]
    },
    {
     "name": "stdout",
     "output_type": "stream",
     "text": [
      "                   all        282        482      0.876      0.861      0.889      0.668\n"
     ]
    },
    {
     "name": "stderr",
     "output_type": "stream",
     "text": [
      "\n"
     ]
    },
    {
     "name": "stdout",
     "output_type": "stream",
     "text": [
      "\n",
      "      Epoch    GPU_mem   box_loss   cls_loss   dfl_loss  Instances       Size\n"
     ]
    },
    {
     "name": "stderr",
     "output_type": "stream",
     "text": [
      "     78/200      12.8G     0.7587     0.5427       1.12         91        640: 100%|██████████| 487/487 [01:20<00:00,  6.03it/s]\n",
      "                 Class     Images  Instances      Box(P          R      mAP50  mAP50-95): 100%|██████████| 9/9 [00:00<00:00,  9.77it/s]"
     ]
    },
    {
     "name": "stdout",
     "output_type": "stream",
     "text": [
      "                   all        282        482      0.866      0.867      0.884      0.669\n"
     ]
    },
    {
     "name": "stderr",
     "output_type": "stream",
     "text": [
      "\n"
     ]
    },
    {
     "name": "stdout",
     "output_type": "stream",
     "text": [
      "\n",
      "      Epoch    GPU_mem   box_loss   cls_loss   dfl_loss  Instances       Size\n"
     ]
    },
    {
     "name": "stderr",
     "output_type": "stream",
     "text": [
      "     79/200      12.7G     0.7629     0.5478      1.119        104        640: 100%|██████████| 487/487 [01:20<00:00,  6.02it/s]\n",
      "                 Class     Images  Instances      Box(P          R      mAP50  mAP50-95): 100%|██████████| 9/9 [00:00<00:00,  9.74it/s]"
     ]
    },
    {
     "name": "stdout",
     "output_type": "stream",
     "text": [
      "                   all        282        482       0.89      0.834      0.888       0.67\n"
     ]
    },
    {
     "name": "stderr",
     "output_type": "stream",
     "text": [
      "\n"
     ]
    },
    {
     "name": "stdout",
     "output_type": "stream",
     "text": [
      "\n",
      "      Epoch    GPU_mem   box_loss   cls_loss   dfl_loss  Instances       Size\n"
     ]
    },
    {
     "name": "stderr",
     "output_type": "stream",
     "text": [
      "     80/200      12.8G     0.7477     0.5364      1.113        154        640: 100%|██████████| 487/487 [01:22<00:00,  5.89it/s]\n",
      "                 Class     Images  Instances      Box(P          R      mAP50  mAP50-95): 100%|██████████| 9/9 [00:00<00:00, 10.06it/s]"
     ]
    },
    {
     "name": "stdout",
     "output_type": "stream",
     "text": [
      "                   all        282        482      0.911       0.83      0.897      0.678\n"
     ]
    },
    {
     "name": "stderr",
     "output_type": "stream",
     "text": [
      "\n"
     ]
    },
    {
     "name": "stdout",
     "output_type": "stream",
     "text": [
      "\n",
      "      Epoch    GPU_mem   box_loss   cls_loss   dfl_loss  Instances       Size\n"
     ]
    },
    {
     "name": "stderr",
     "output_type": "stream",
     "text": [
      "     81/200      12.2G     0.7437     0.5347      1.111        176        640: 100%|██████████| 487/487 [01:20<00:00,  6.06it/s]\n",
      "                 Class     Images  Instances      Box(P          R      mAP50  mAP50-95): 100%|██████████| 9/9 [00:00<00:00,  9.55it/s]"
     ]
    },
    {
     "name": "stdout",
     "output_type": "stream",
     "text": [
      "                   all        282        482       0.86      0.888      0.899      0.676\n"
     ]
    },
    {
     "name": "stderr",
     "output_type": "stream",
     "text": [
      "\n"
     ]
    },
    {
     "name": "stdout",
     "output_type": "stream",
     "text": [
      "\n",
      "      Epoch    GPU_mem   box_loss   cls_loss   dfl_loss  Instances       Size\n"
     ]
    },
    {
     "name": "stderr",
     "output_type": "stream",
     "text": [
      "     82/200      12.6G     0.7459      0.537      1.109        119        640: 100%|██████████| 487/487 [01:19<00:00,  6.09it/s]\n",
      "                 Class     Images  Instances      Box(P          R      mAP50  mAP50-95): 100%|██████████| 9/9 [00:00<00:00,  9.98it/s]"
     ]
    },
    {
     "name": "stdout",
     "output_type": "stream",
     "text": [
      "                   all        282        482       0.88      0.887      0.899      0.681\n"
     ]
    },
    {
     "name": "stderr",
     "output_type": "stream",
     "text": [
      "\n"
     ]
    },
    {
     "name": "stdout",
     "output_type": "stream",
     "text": [
      "\n",
      "      Epoch    GPU_mem   box_loss   cls_loss   dfl_loss  Instances       Size\n"
     ]
    },
    {
     "name": "stderr",
     "output_type": "stream",
     "text": [
      "     83/200      12.7G     0.7445     0.5359      1.114        214        640: 100%|██████████| 487/487 [01:19<00:00,  6.11it/s]\n",
      "                 Class     Images  Instances      Box(P          R      mAP50  mAP50-95): 100%|██████████| 9/9 [00:00<00:00,  9.94it/s]"
     ]
    },
    {
     "name": "stdout",
     "output_type": "stream",
     "text": [
      "                   all        282        482      0.897       0.87      0.898       0.68\n"
     ]
    },
    {
     "name": "stderr",
     "output_type": "stream",
     "text": [
      "\n"
     ]
    },
    {
     "name": "stdout",
     "output_type": "stream",
     "text": [
      "\n",
      "      Epoch    GPU_mem   box_loss   cls_loss   dfl_loss  Instances       Size\n"
     ]
    },
    {
     "name": "stderr",
     "output_type": "stream",
     "text": [
      "     84/200      12.4G     0.7403     0.5308      1.105        122        640: 100%|██████████| 487/487 [01:20<00:00,  6.08it/s]\n",
      "                 Class     Images  Instances      Box(P          R      mAP50  mAP50-95): 100%|██████████| 9/9 [00:00<00:00,  9.81it/s]"
     ]
    },
    {
     "name": "stdout",
     "output_type": "stream",
     "text": [
      "                   all        282        482      0.863       0.89      0.896      0.681\n"
     ]
    },
    {
     "name": "stderr",
     "output_type": "stream",
     "text": [
      "\n"
     ]
    },
    {
     "name": "stdout",
     "output_type": "stream",
     "text": [
      "\n",
      "      Epoch    GPU_mem   box_loss   cls_loss   dfl_loss  Instances       Size\n"
     ]
    },
    {
     "name": "stderr",
     "output_type": "stream",
     "text": [
      "     85/200      12.3G     0.7338      0.531      1.102        120        640: 100%|██████████| 487/487 [01:19<00:00,  6.13it/s]\n",
      "                 Class     Images  Instances      Box(P          R      mAP50  mAP50-95): 100%|██████████| 9/9 [00:00<00:00,  9.26it/s]"
     ]
    },
    {
     "name": "stdout",
     "output_type": "stream",
     "text": [
      "                   all        282        482      0.879      0.875      0.896      0.681\n"
     ]
    },
    {
     "name": "stderr",
     "output_type": "stream",
     "text": [
      "\n"
     ]
    },
    {
     "name": "stdout",
     "output_type": "stream",
     "text": [
      "\n",
      "      Epoch    GPU_mem   box_loss   cls_loss   dfl_loss  Instances       Size\n"
     ]
    },
    {
     "name": "stderr",
     "output_type": "stream",
     "text": [
      "     86/200      12.8G     0.7344     0.5299      1.107        112        640: 100%|██████████| 487/487 [01:20<00:00,  6.07it/s]\n",
      "                 Class     Images  Instances      Box(P          R      mAP50  mAP50-95): 100%|██████████| 9/9 [00:00<00:00,  9.63it/s]"
     ]
    },
    {
     "name": "stdout",
     "output_type": "stream",
     "text": [
      "                   all        282        482      0.856      0.894      0.898      0.683\n"
     ]
    },
    {
     "name": "stderr",
     "output_type": "stream",
     "text": [
      "\n"
     ]
    },
    {
     "name": "stdout",
     "output_type": "stream",
     "text": [
      "\n",
      "      Epoch    GPU_mem   box_loss   cls_loss   dfl_loss  Instances       Size\n"
     ]
    },
    {
     "name": "stderr",
     "output_type": "stream",
     "text": [
      "     87/200      12.2G     0.7224     0.5171      1.095        133        640: 100%|██████████| 487/487 [01:20<00:00,  6.04it/s]\n",
      "                 Class     Images  Instances      Box(P          R      mAP50  mAP50-95): 100%|██████████| 9/9 [00:00<00:00,  9.89it/s]"
     ]
    },
    {
     "name": "stdout",
     "output_type": "stream",
     "text": [
      "                   all        282        482      0.877      0.865      0.899      0.682\n"
     ]
    },
    {
     "name": "stderr",
     "output_type": "stream",
     "text": [
      "\n"
     ]
    },
    {
     "name": "stdout",
     "output_type": "stream",
     "text": [
      "\n",
      "      Epoch    GPU_mem   box_loss   cls_loss   dfl_loss  Instances       Size\n"
     ]
    },
    {
     "name": "stderr",
     "output_type": "stream",
     "text": [
      "     88/200      12.3G     0.7303     0.5271      1.098         94        640: 100%|██████████| 487/487 [01:19<00:00,  6.10it/s]\n",
      "                 Class     Images  Instances      Box(P          R      mAP50  mAP50-95): 100%|██████████| 9/9 [00:00<00:00,  9.78it/s]"
     ]
    },
    {
     "name": "stdout",
     "output_type": "stream",
     "text": [
      "                   all        282        482      0.873      0.861      0.896      0.681\n"
     ]
    },
    {
     "name": "stderr",
     "output_type": "stream",
     "text": [
      "\n"
     ]
    },
    {
     "name": "stdout",
     "output_type": "stream",
     "text": [
      "\n",
      "      Epoch    GPU_mem   box_loss   cls_loss   dfl_loss  Instances       Size\n"
     ]
    },
    {
     "name": "stderr",
     "output_type": "stream",
     "text": [
      "     89/200      12.4G     0.7229     0.5211        1.1        233        640: 100%|██████████| 487/487 [01:19<00:00,  6.14it/s]\n",
      "                 Class     Images  Instances      Box(P          R      mAP50  mAP50-95): 100%|██████████| 9/9 [00:00<00:00,  9.85it/s]"
     ]
    },
    {
     "name": "stdout",
     "output_type": "stream",
     "text": [
      "                   all        282        482      0.892       0.85      0.891      0.676\n"
     ]
    },
    {
     "name": "stderr",
     "output_type": "stream",
     "text": [
      "\n"
     ]
    },
    {
     "name": "stdout",
     "output_type": "stream",
     "text": [
      "\n",
      "      Epoch    GPU_mem   box_loss   cls_loss   dfl_loss  Instances       Size\n"
     ]
    },
    {
     "name": "stderr",
     "output_type": "stream",
     "text": [
      "     90/200      12.8G     0.7176      0.515      1.092        100        640: 100%|██████████| 487/487 [01:21<00:00,  5.99it/s]\n",
      "                 Class     Images  Instances      Box(P          R      mAP50  mAP50-95): 100%|██████████| 9/9 [00:00<00:00,  9.35it/s]"
     ]
    },
    {
     "name": "stdout",
     "output_type": "stream",
     "text": [
      "                   all        282        482       0.88      0.852      0.893      0.682\n"
     ]
    },
    {
     "name": "stderr",
     "output_type": "stream",
     "text": [
      "\n"
     ]
    },
    {
     "name": "stdout",
     "output_type": "stream",
     "text": [
      "\n",
      "      Epoch    GPU_mem   box_loss   cls_loss   dfl_loss  Instances       Size\n"
     ]
    },
    {
     "name": "stderr",
     "output_type": "stream",
     "text": [
      "     91/200      12.3G     0.7129     0.5115      1.091        202        640: 100%|██████████| 487/487 [01:20<00:00,  6.08it/s]\n",
      "                 Class     Images  Instances      Box(P          R      mAP50  mAP50-95): 100%|██████████| 9/9 [00:00<00:00,  9.36it/s]"
     ]
    },
    {
     "name": "stdout",
     "output_type": "stream",
     "text": [
      "                   all        282        482      0.886      0.838      0.891      0.685\n"
     ]
    },
    {
     "name": "stderr",
     "output_type": "stream",
     "text": [
      "\n"
     ]
    },
    {
     "name": "stdout",
     "output_type": "stream",
     "text": [
      "\n",
      "      Epoch    GPU_mem   box_loss   cls_loss   dfl_loss  Instances       Size\n"
     ]
    },
    {
     "name": "stderr",
     "output_type": "stream",
     "text": [
      "     92/200      12.3G     0.7145      0.509      1.088        100        640: 100%|██████████| 487/487 [01:20<00:00,  6.07it/s]\n",
      "                 Class     Images  Instances      Box(P          R      mAP50  mAP50-95): 100%|██████████| 9/9 [00:00<00:00,  9.45it/s]"
     ]
    },
    {
     "name": "stdout",
     "output_type": "stream",
     "text": [
      "                   all        282        482      0.844      0.853      0.888      0.684\n"
     ]
    },
    {
     "name": "stderr",
     "output_type": "stream",
     "text": [
      "\n"
     ]
    },
    {
     "name": "stdout",
     "output_type": "stream",
     "text": [
      "\n",
      "      Epoch    GPU_mem   box_loss   cls_loss   dfl_loss  Instances       Size\n"
     ]
    },
    {
     "name": "stderr",
     "output_type": "stream",
     "text": [
      "     93/200      12.8G     0.7085     0.5142      1.094        128        640: 100%|██████████| 487/487 [01:18<00:00,  6.19it/s]\n",
      "                 Class     Images  Instances      Box(P          R      mAP50  mAP50-95): 100%|██████████| 9/9 [00:00<00:00,  9.99it/s]"
     ]
    },
    {
     "name": "stdout",
     "output_type": "stream",
     "text": [
      "                   all        282        482      0.833      0.861      0.887      0.684\n"
     ]
    },
    {
     "name": "stderr",
     "output_type": "stream",
     "text": [
      "\n"
     ]
    },
    {
     "name": "stdout",
     "output_type": "stream",
     "text": [
      "\n",
      "      Epoch    GPU_mem   box_loss   cls_loss   dfl_loss  Instances       Size\n"
     ]
    },
    {
     "name": "stderr",
     "output_type": "stream",
     "text": [
      "     94/200      12.3G     0.7069      0.512      1.092         96        640: 100%|██████████| 487/487 [01:19<00:00,  6.15it/s]\n",
      "                 Class     Images  Instances      Box(P          R      mAP50  mAP50-95): 100%|██████████| 9/9 [00:00<00:00,  9.84it/s]"
     ]
    },
    {
     "name": "stdout",
     "output_type": "stream",
     "text": [
      "                   all        282        482      0.856      0.865      0.896      0.691\n"
     ]
    },
    {
     "name": "stderr",
     "output_type": "stream",
     "text": [
      "\n"
     ]
    },
    {
     "name": "stdout",
     "output_type": "stream",
     "text": [
      "\n",
      "      Epoch    GPU_mem   box_loss   cls_loss   dfl_loss  Instances       Size\n"
     ]
    },
    {
     "name": "stderr",
     "output_type": "stream",
     "text": [
      "     95/200      12.3G     0.6982     0.5035      1.085        102        640: 100%|██████████| 487/487 [01:20<00:00,  6.08it/s]\n",
      "                 Class     Images  Instances      Box(P          R      mAP50  mAP50-95): 100%|██████████| 9/9 [00:00<00:00,  9.89it/s]"
     ]
    },
    {
     "name": "stdout",
     "output_type": "stream",
     "text": [
      "                   all        282        482      0.866      0.859      0.898      0.698\n"
     ]
    },
    {
     "name": "stderr",
     "output_type": "stream",
     "text": [
      "\n"
     ]
    },
    {
     "name": "stdout",
     "output_type": "stream",
     "text": [
      "\n",
      "      Epoch    GPU_mem   box_loss   cls_loss   dfl_loss  Instances       Size\n"
     ]
    },
    {
     "name": "stderr",
     "output_type": "stream",
     "text": [
      "     96/200      12.6G     0.6963     0.4962      1.083        120        640: 100%|██████████| 487/487 [01:19<00:00,  6.15it/s]\n",
      "                 Class     Images  Instances      Box(P          R      mAP50  mAP50-95): 100%|██████████| 9/9 [00:00<00:00,  9.74it/s]"
     ]
    },
    {
     "name": "stdout",
     "output_type": "stream",
     "text": [
      "                   all        282        482      0.865      0.871      0.901      0.703\n"
     ]
    },
    {
     "name": "stderr",
     "output_type": "stream",
     "text": [
      "\n"
     ]
    },
    {
     "name": "stdout",
     "output_type": "stream",
     "text": [
      "\n",
      "      Epoch    GPU_mem   box_loss   cls_loss   dfl_loss  Instances       Size\n"
     ]
    },
    {
     "name": "stderr",
     "output_type": "stream",
     "text": [
      "     97/200      12.3G     0.7008     0.4956      1.083        271        640: 100%|██████████| 487/487 [01:20<00:00,  6.07it/s]\n",
      "                 Class     Images  Instances      Box(P          R      mAP50  mAP50-95): 100%|██████████| 9/9 [00:00<00:00,  9.70it/s]"
     ]
    },
    {
     "name": "stdout",
     "output_type": "stream",
     "text": [
      "                   all        282        482      0.882      0.852      0.898      0.694\n"
     ]
    },
    {
     "name": "stderr",
     "output_type": "stream",
     "text": [
      "\n"
     ]
    },
    {
     "name": "stdout",
     "output_type": "stream",
     "text": [
      "\n",
      "      Epoch    GPU_mem   box_loss   cls_loss   dfl_loss  Instances       Size\n"
     ]
    },
    {
     "name": "stderr",
     "output_type": "stream",
     "text": [
      "     98/200      12.3G     0.6998     0.4983      1.083        135        640: 100%|██████████| 487/487 [01:21<00:00,  5.95it/s]\n",
      "                 Class     Images  Instances      Box(P          R      mAP50  mAP50-95): 100%|██████████| 9/9 [00:00<00:00,  9.28it/s]"
     ]
    },
    {
     "name": "stdout",
     "output_type": "stream",
     "text": [
      "                   all        282        482      0.889      0.848      0.898      0.698\n"
     ]
    },
    {
     "name": "stderr",
     "output_type": "stream",
     "text": [
      "\n"
     ]
    },
    {
     "name": "stdout",
     "output_type": "stream",
     "text": [
      "\n",
      "      Epoch    GPU_mem   box_loss   cls_loss   dfl_loss  Instances       Size\n"
     ]
    },
    {
     "name": "stderr",
     "output_type": "stream",
     "text": [
      "     99/200      11.9G     0.6878     0.4941      1.083        163        640: 100%|██████████| 487/487 [01:20<00:00,  6.06it/s]\n",
      "                 Class     Images  Instances      Box(P          R      mAP50  mAP50-95): 100%|██████████| 9/9 [00:00<00:00,  9.89it/s]"
     ]
    },
    {
     "name": "stdout",
     "output_type": "stream",
     "text": [
      "                   all        282        482      0.864      0.878      0.897      0.701\n"
     ]
    },
    {
     "name": "stderr",
     "output_type": "stream",
     "text": [
      "\n"
     ]
    },
    {
     "name": "stdout",
     "output_type": "stream",
     "text": [
      "\n",
      "      Epoch    GPU_mem   box_loss   cls_loss   dfl_loss  Instances       Size\n"
     ]
    },
    {
     "name": "stderr",
     "output_type": "stream",
     "text": [
      "    100/200      12.2G      0.684     0.4914      1.075        141        640: 100%|██████████| 487/487 [01:20<00:00,  6.02it/s]\n",
      "                 Class     Images  Instances      Box(P          R      mAP50  mAP50-95): 100%|██████████| 9/9 [00:00<00:00,  9.61it/s]"
     ]
    },
    {
     "name": "stdout",
     "output_type": "stream",
     "text": [
      "                   all        282        482      0.874      0.875        0.9      0.702\n"
     ]
    },
    {
     "name": "stderr",
     "output_type": "stream",
     "text": [
      "\n"
     ]
    },
    {
     "name": "stdout",
     "output_type": "stream",
     "text": [
      "\n",
      "      Epoch    GPU_mem   box_loss   cls_loss   dfl_loss  Instances       Size\n"
     ]
    },
    {
     "name": "stderr",
     "output_type": "stream",
     "text": [
      "    101/200      12.3G     0.6828     0.4849      1.073         79        640: 100%|██████████| 487/487 [01:21<00:00,  5.99it/s]\n",
      "                 Class     Images  Instances      Box(P          R      mAP50  mAP50-95): 100%|██████████| 9/9 [00:00<00:00, 10.02it/s]"
     ]
    },
    {
     "name": "stdout",
     "output_type": "stream",
     "text": [
      "                   all        282        482      0.897      0.858        0.9      0.699\n"
     ]
    },
    {
     "name": "stderr",
     "output_type": "stream",
     "text": [
      "\n"
     ]
    },
    {
     "name": "stdout",
     "output_type": "stream",
     "text": [
      "\n",
      "      Epoch    GPU_mem   box_loss   cls_loss   dfl_loss  Instances       Size\n"
     ]
    },
    {
     "name": "stderr",
     "output_type": "stream",
     "text": [
      "    102/200      12.8G     0.6797     0.4902      1.073        173        640: 100%|██████████| 487/487 [01:21<00:00,  5.94it/s]\n",
      "                 Class     Images  Instances      Box(P          R      mAP50  mAP50-95): 100%|██████████| 9/9 [00:00<00:00,  9.63it/s]"
     ]
    },
    {
     "name": "stdout",
     "output_type": "stream",
     "text": [
      "                   all        282        482      0.869      0.879      0.898      0.698\n"
     ]
    },
    {
     "name": "stderr",
     "output_type": "stream",
     "text": [
      "\n"
     ]
    },
    {
     "name": "stdout",
     "output_type": "stream",
     "text": [
      "\n",
      "      Epoch    GPU_mem   box_loss   cls_loss   dfl_loss  Instances       Size\n"
     ]
    },
    {
     "name": "stderr",
     "output_type": "stream",
     "text": [
      "    103/200      12.3G     0.6818     0.4865      1.073        128        640: 100%|██████████| 487/487 [01:20<00:00,  6.03it/s]\n",
      "                 Class     Images  Instances      Box(P          R      mAP50  mAP50-95): 100%|██████████| 9/9 [00:00<00:00,  9.44it/s]"
     ]
    },
    {
     "name": "stdout",
     "output_type": "stream",
     "text": [
      "                   all        282        482      0.874      0.881        0.9        0.7\n"
     ]
    },
    {
     "name": "stderr",
     "output_type": "stream",
     "text": [
      "\n"
     ]
    },
    {
     "name": "stdout",
     "output_type": "stream",
     "text": [
      "\n",
      "      Epoch    GPU_mem   box_loss   cls_loss   dfl_loss  Instances       Size\n"
     ]
    },
    {
     "name": "stderr",
     "output_type": "stream",
     "text": [
      "    104/200      13.1G     0.6764     0.4842      1.072        101        640: 100%|██████████| 487/487 [01:20<00:00,  6.05it/s]\n",
      "                 Class     Images  Instances      Box(P          R      mAP50  mAP50-95): 100%|██████████| 9/9 [00:00<00:00,  9.66it/s]"
     ]
    },
    {
     "name": "stdout",
     "output_type": "stream",
     "text": [
      "                   all        282        482      0.863      0.885        0.9      0.696\n"
     ]
    },
    {
     "name": "stderr",
     "output_type": "stream",
     "text": [
      "\n"
     ]
    },
    {
     "name": "stdout",
     "output_type": "stream",
     "text": [
      "\n",
      "      Epoch    GPU_mem   box_loss   cls_loss   dfl_loss  Instances       Size\n"
     ]
    },
    {
     "name": "stderr",
     "output_type": "stream",
     "text": [
      "    105/200      12.3G     0.6744     0.4816      1.072         86        640: 100%|██████████| 487/487 [01:19<00:00,  6.10it/s]\n",
      "                 Class     Images  Instances      Box(P          R      mAP50  mAP50-95): 100%|██████████| 9/9 [00:00<00:00,  9.56it/s]"
     ]
    },
    {
     "name": "stdout",
     "output_type": "stream",
     "text": [
      "                   all        282        482      0.863      0.881      0.898      0.694\n"
     ]
    },
    {
     "name": "stderr",
     "output_type": "stream",
     "text": [
      "\n"
     ]
    },
    {
     "name": "stdout",
     "output_type": "stream",
     "text": [
      "\n",
      "      Epoch    GPU_mem   box_loss   cls_loss   dfl_loss  Instances       Size\n"
     ]
    },
    {
     "name": "stderr",
     "output_type": "stream",
     "text": [
      "    106/200      12.3G     0.6712     0.4814      1.066        118        640: 100%|██████████| 487/487 [01:19<00:00,  6.10it/s]\n",
      "                 Class     Images  Instances      Box(P          R      mAP50  mAP50-95): 100%|██████████| 9/9 [00:00<00:00,  9.57it/s]"
     ]
    },
    {
     "name": "stdout",
     "output_type": "stream",
     "text": [
      "                   all        282        482      0.875      0.878      0.901      0.694\n"
     ]
    },
    {
     "name": "stderr",
     "output_type": "stream",
     "text": [
      "\n"
     ]
    },
    {
     "name": "stdout",
     "output_type": "stream",
     "text": [
      "\n",
      "      Epoch    GPU_mem   box_loss   cls_loss   dfl_loss  Instances       Size\n"
     ]
    },
    {
     "name": "stderr",
     "output_type": "stream",
     "text": [
      "    107/200      12.4G     0.6668     0.4769      1.063        121        640: 100%|██████████| 487/487 [01:18<00:00,  6.19it/s]\n",
      "                 Class     Images  Instances      Box(P          R      mAP50  mAP50-95): 100%|██████████| 9/9 [00:00<00:00,  9.79it/s]"
     ]
    },
    {
     "name": "stdout",
     "output_type": "stream",
     "text": [
      "                   all        282        482      0.878      0.878        0.9      0.694\n"
     ]
    },
    {
     "name": "stderr",
     "output_type": "stream",
     "text": [
      "\n"
     ]
    },
    {
     "name": "stdout",
     "output_type": "stream",
     "text": [
      "\n",
      "      Epoch    GPU_mem   box_loss   cls_loss   dfl_loss  Instances       Size\n"
     ]
    },
    {
     "name": "stderr",
     "output_type": "stream",
     "text": [
      "    108/200      12.2G     0.6668     0.4793      1.066        218        640: 100%|██████████| 487/487 [01:19<00:00,  6.13it/s]\n",
      "                 Class     Images  Instances      Box(P          R      mAP50  mAP50-95): 100%|██████████| 9/9 [00:00<00:00,  9.33it/s]"
     ]
    },
    {
     "name": "stdout",
     "output_type": "stream",
     "text": [
      "                   all        282        482      0.878      0.864        0.9      0.697\n"
     ]
    },
    {
     "name": "stderr",
     "output_type": "stream",
     "text": [
      "\n"
     ]
    },
    {
     "name": "stdout",
     "output_type": "stream",
     "text": [
      "\n",
      "      Epoch    GPU_mem   box_loss   cls_loss   dfl_loss  Instances       Size\n"
     ]
    },
    {
     "name": "stderr",
     "output_type": "stream",
     "text": [
      "    109/200      12.7G     0.6653     0.4774      1.065        173        640: 100%|██████████| 487/487 [01:19<00:00,  6.13it/s]\n",
      "                 Class     Images  Instances      Box(P          R      mAP50  mAP50-95): 100%|██████████| 9/9 [00:00<00:00,  9.61it/s]"
     ]
    },
    {
     "name": "stdout",
     "output_type": "stream",
     "text": [
      "                   all        282        482      0.886      0.856        0.9      0.699\n"
     ]
    },
    {
     "name": "stderr",
     "output_type": "stream",
     "text": [
      "\n"
     ]
    },
    {
     "name": "stdout",
     "output_type": "stream",
     "text": [
      "\n",
      "      Epoch    GPU_mem   box_loss   cls_loss   dfl_loss  Instances       Size\n"
     ]
    },
    {
     "name": "stderr",
     "output_type": "stream",
     "text": [
      "    110/200      12.3G     0.6616     0.4761      1.062        177        640: 100%|██████████| 487/487 [01:19<00:00,  6.09it/s]\n",
      "                 Class     Images  Instances      Box(P          R      mAP50  mAP50-95): 100%|██████████| 9/9 [00:00<00:00,  9.49it/s]"
     ]
    },
    {
     "name": "stdout",
     "output_type": "stream",
     "text": [
      "                   all        282        482      0.896      0.847        0.9      0.699\n"
     ]
    },
    {
     "name": "stderr",
     "output_type": "stream",
     "text": [
      "\n"
     ]
    },
    {
     "name": "stdout",
     "output_type": "stream",
     "text": [
      "\n",
      "      Epoch    GPU_mem   box_loss   cls_loss   dfl_loss  Instances       Size\n"
     ]
    },
    {
     "name": "stderr",
     "output_type": "stream",
     "text": [
      "    111/200      13.2G     0.6545     0.4678      1.053        217        640: 100%|██████████| 487/487 [01:19<00:00,  6.10it/s]\n",
      "                 Class     Images  Instances      Box(P          R      mAP50  mAP50-95): 100%|██████████| 9/9 [00:00<00:00,  9.90it/s]"
     ]
    },
    {
     "name": "stdout",
     "output_type": "stream",
     "text": [
      "                   all        282        482       0.89      0.848      0.899      0.697\n"
     ]
    },
    {
     "name": "stderr",
     "output_type": "stream",
     "text": [
      "\n"
     ]
    },
    {
     "name": "stdout",
     "output_type": "stream",
     "text": [
      "\n",
      "      Epoch    GPU_mem   box_loss   cls_loss   dfl_loss  Instances       Size\n"
     ]
    },
    {
     "name": "stderr",
     "output_type": "stream",
     "text": [
      "    112/200      12.3G     0.6563     0.4723      1.059        117        640: 100%|██████████| 487/487 [01:19<00:00,  6.12it/s]\n",
      "                 Class     Images  Instances      Box(P          R      mAP50  mAP50-95): 100%|██████████| 9/9 [00:00<00:00,  9.54it/s]"
     ]
    },
    {
     "name": "stdout",
     "output_type": "stream",
     "text": [
      "                   all        282        482      0.865      0.867      0.898      0.698\n"
     ]
    },
    {
     "name": "stderr",
     "output_type": "stream",
     "text": [
      "\n"
     ]
    },
    {
     "name": "stdout",
     "output_type": "stream",
     "text": [
      "\n",
      "      Epoch    GPU_mem   box_loss   cls_loss   dfl_loss  Instances       Size\n"
     ]
    },
    {
     "name": "stderr",
     "output_type": "stream",
     "text": [
      "    113/200      12.2G     0.6517     0.4673      1.057        142        640: 100%|██████████| 487/487 [01:19<00:00,  6.09it/s]\n",
      "                 Class     Images  Instances      Box(P          R      mAP50  mAP50-95): 100%|██████████| 9/9 [00:00<00:00,  9.65it/s]"
     ]
    },
    {
     "name": "stdout",
     "output_type": "stream",
     "text": [
      "                   all        282        482      0.864      0.873      0.899        0.7\n"
     ]
    },
    {
     "name": "stderr",
     "output_type": "stream",
     "text": [
      "\n"
     ]
    },
    {
     "name": "stdout",
     "output_type": "stream",
     "text": [
      "\n",
      "      Epoch    GPU_mem   box_loss   cls_loss   dfl_loss  Instances       Size\n"
     ]
    },
    {
     "name": "stderr",
     "output_type": "stream",
     "text": [
      "    114/200      12.8G     0.6499     0.4632      1.057        143        640: 100%|██████████| 487/487 [01:19<00:00,  6.09it/s]\n",
      "                 Class     Images  Instances      Box(P          R      mAP50  mAP50-95): 100%|██████████| 9/9 [00:00<00:00,  9.93it/s]"
     ]
    },
    {
     "name": "stdout",
     "output_type": "stream",
     "text": [
      "                   all        282        482      0.866      0.883      0.899      0.701\n"
     ]
    },
    {
     "name": "stderr",
     "output_type": "stream",
     "text": [
      "\n"
     ]
    },
    {
     "name": "stdout",
     "output_type": "stream",
     "text": [
      "\n",
      "      Epoch    GPU_mem   box_loss   cls_loss   dfl_loss  Instances       Size\n"
     ]
    },
    {
     "name": "stderr",
     "output_type": "stream",
     "text": [
      "    115/200      12.2G     0.6468      0.464      1.056        211        640: 100%|██████████| 487/487 [01:20<00:00,  6.03it/s]\n",
      "                 Class     Images  Instances      Box(P          R      mAP50  mAP50-95): 100%|██████████| 9/9 [00:00<00:00,  9.81it/s]"
     ]
    },
    {
     "name": "stdout",
     "output_type": "stream",
     "text": [
      "                   all        282        482      0.863      0.878        0.9      0.699\n"
     ]
    },
    {
     "name": "stderr",
     "output_type": "stream",
     "text": [
      "\n"
     ]
    },
    {
     "name": "stdout",
     "output_type": "stream",
     "text": [
      "\n",
      "      Epoch    GPU_mem   box_loss   cls_loss   dfl_loss  Instances       Size\n"
     ]
    },
    {
     "name": "stderr",
     "output_type": "stream",
     "text": [
      "    116/200      12.5G     0.6433      0.462      1.053        111        640: 100%|██████████| 487/487 [01:20<00:00,  6.06it/s]\n",
      "                 Class     Images  Instances      Box(P          R      mAP50  mAP50-95): 100%|██████████| 9/9 [00:00<00:00,  9.80it/s]"
     ]
    },
    {
     "name": "stdout",
     "output_type": "stream",
     "text": [
      "                   all        282        482      0.908      0.843        0.9      0.699\n"
     ]
    },
    {
     "name": "stderr",
     "output_type": "stream",
     "text": [
      "\n"
     ]
    },
    {
     "name": "stdout",
     "output_type": "stream",
     "text": [
      "\u001b[34m\u001b[1mEarlyStopping: \u001b[0mTraining stopped early as no improvement observed in last 20 epochs. Best results observed at epoch 96, best model saved as best.pt.\n",
      "To update EarlyStopping(patience=20) pass a new patience value, i.e. `patience=300` or use `patience=0` to disable EarlyStopping.\n",
      "\n",
      "116 epochs completed in 2.719 hours.\n",
      "Optimizer stripped from oyster_logs/model_yolov8m/weights/last.pt, 52.1MB\n",
      "Optimizer stripped from oyster_logs/model_yolov8m/weights/best.pt, 52.1MB\n",
      "\n",
      "Validating oyster_logs/model_yolov8m/weights/best.pt...\n",
      "Ultralytics YOLOv8.2.103 🚀 Python-3.9.2 torch-1.10.1+cu113 CUDA:0 (NVIDIA GeForce RTX 4080, 16071MiB)\n",
      "Model summary (fused): 218 layers, 25,841,497 parameters, 0 gradients, 78.7 GFLOPs\n"
     ]
    },
    {
     "name": "stderr",
     "output_type": "stream",
     "text": [
      "                 Class     Images  Instances      Box(P          R      mAP50  mAP50-95): 100%|██████████| 9/9 [00:01<00:00,  7.45it/s]\n"
     ]
    },
    {
     "name": "stdout",
     "output_type": "stream",
     "text": [
      "                   all        282        482      0.865      0.871      0.901      0.702\n",
      " Oyster- Indeterminate         27        351      0.895      0.923      0.941      0.719\n",
      "         Oyster-Closed         22         37      0.795      0.838      0.849      0.668\n",
      "           Oyster-Open         29         94      0.906      0.851      0.914      0.719\n",
      "Speed: 0.3ms preprocess, 2.7ms inference, 0.0ms loss, 0.5ms postprocess per image\n",
      "Results saved to \u001b[1moyster_logs/model_yolov8m\u001b[0m\n"
     ]
    }
   ],
   "source": [
    "#train many smaller models:\n",
    "#this was trained on a RTX 4080.\n",
    "#I trained one model at a time over the course of several hours, you may train multiple\n",
    "#in a row if you have the time and watch a computer for a long time\n",
    "!PYTORCH_CUDA_ALLOC_CONF=max_split_size_mb:128 python OysterResearch.ipynb\n",
    "import torch\n",
    "from ultralytics import YOLO\n",
    "print(f\"Allocated Memory: {torch.cuda.memory_allocated() / 1024 / 1024:.2f} MB\")\n",
    "\n",
    "!export PYTORCH_CUDA_ALLOC_CONF=max_split_size_mb:32\n",
    "models = [\"yolov8m.pt\"] #\"yolov8n.pt\", \n",
    "#image size is 960 for everything except medium, for gpu mem alloc issues\n",
    "for m in models:\n",
    "    model = YOLO(m)\n",
    "    model.train(\n",
    "        data=dataset.location + \"/data.yaml\",\n",
    "        epochs=200,\n",
    "        imgsz=640,\n",
    "        batch=16,\n",
    "        patience=20,\n",
    "        amp=True,\n",
    "        optimize=True, #amp=True, cache=False\n",
    "        project=\"oyster_logs\",\n",
    "        name=f\"model_{m.split('.')[0]}\",\n",
    "        exist_ok=True\n",
    "    )\n"
   ]
  },
  {
   "cell_type": "code",
   "execution_count": 16,
   "id": "95e36da4-dce5-43f0-8733-17b8343aa0e3",
   "metadata": {},
   "outputs": [
    {
     "name": "stdout",
     "output_type": "stream",
     "text": [
      "Validating model: oyster_logs/model_yolov8m/weights/best.pt\n",
      "Ultralytics YOLOv8.2.103 🚀 Python-3.9.2 torch-1.10.1+cu113 CUDA:0 (NVIDIA GeForce RTX 4080, 16071MiB)\n",
      "Model summary (fused): 218 layers, 25,841,497 parameters, 0 gradients, 78.7 GFLOPs\n"
     ]
    },
    {
     "name": "stderr",
     "output_type": "stream",
     "text": [
      "\u001b[34m\u001b[1mval: \u001b[0mScanning /mnt/linuxlab/home/ncorcoran1/Oyster_Orientation_Model/REU_Oyster_2024_Improved-2/valid/labels.cache... 282 images, 249 backgrounds, 0 corrupt: 100%|██████████| 282/282 [00:00<?, ?it/s]\u001b[0m\n",
      "                 Class     Images  Instances      Box(P          R      mAP50  mAP50-95): 100%|██████████| 18/18 [00:01<00:00, 10.11it/s]\n"
     ]
    },
    {
     "name": "stdout",
     "output_type": "stream",
     "text": [
      "                   all        282        482      0.865      0.871      0.902      0.701\n",
      " Oyster- Indeterminate         27        351      0.895      0.924      0.941      0.718\n",
      "         Oyster-Closed         22         37      0.795      0.838       0.85      0.674\n",
      "           Oyster-Open         29         94      0.905      0.851      0.914      0.712\n",
      "Speed: 0.3ms preprocess, 4.8ms inference, 0.0ms loss, 0.2ms postprocess per image\n",
      "Results saved to \u001b[1mruns/detect/val18\u001b[0m\n",
      "Validating model: oyster_logs/model_yolov8s/weights/best.pt\n",
      "Ultralytics YOLOv8.2.103 🚀 Python-3.9.2 torch-1.10.1+cu113 CUDA:0 (NVIDIA GeForce RTX 4080, 16071MiB)\n",
      "Model summary (fused): 168 layers, 11,126,745 parameters, 0 gradients, 28.4 GFLOPs\n"
     ]
    },
    {
     "name": "stderr",
     "output_type": "stream",
     "text": [
      "\u001b[34m\u001b[1mval: \u001b[0mScanning /mnt/linuxlab/home/ncorcoran1/Oyster_Orientation_Model/REU_Oyster_2024_Improved-2/valid/labels.cache... 282 images, 249 backgrounds, 0 corrupt: 100%|██████████| 282/282 [00:00<?, ?it/s]\u001b[0m\n",
      "                 Class     Images  Instances      Box(P          R      mAP50  mAP50-95): 100%|██████████| 18/18 [00:02<00:00,  8.64it/s]\n"
     ]
    },
    {
     "name": "stdout",
     "output_type": "stream",
     "text": [
      "                   all        282        482       0.86      0.863      0.899      0.675\n",
      " Oyster- Indeterminate         27        351       0.92      0.895      0.929      0.706\n",
      "         Oyster-Closed         22         37      0.743      0.811       0.84      0.598\n",
      "           Oyster-Open         29         94      0.915      0.883       0.93       0.72\n",
      "Speed: 0.7ms preprocess, 4.8ms inference, 0.0ms loss, 0.3ms postprocess per image\n",
      "Results saved to \u001b[1mruns/detect/val19\u001b[0m\n",
      "Validating model: oyster_logs/model_yolov8n/weights/best.pt\n",
      "Ultralytics YOLOv8.2.103 🚀 Python-3.9.2 torch-1.10.1+cu113 CUDA:0 (NVIDIA GeForce RTX 4080, 16071MiB)\n",
      "Model summary (fused): 168 layers, 3,006,233 parameters, 0 gradients, 8.1 GFLOPs\n"
     ]
    },
    {
     "name": "stderr",
     "output_type": "stream",
     "text": [
      "\u001b[34m\u001b[1mval: \u001b[0mScanning /mnt/linuxlab/home/ncorcoran1/Oyster_Orientation_Model/REU_Oyster_2024_Improved-2/valid/labels.cache... 282 images, 249 backgrounds, 0 corrupt: 100%|██████████| 282/282 [00:00<?, ?it/s]\u001b[0m\n",
      "                 Class     Images  Instances      Box(P          R      mAP50  mAP50-95): 100%|██████████| 18/18 [00:01<00:00, 13.58it/s]\n"
     ]
    },
    {
     "name": "stdout",
     "output_type": "stream",
     "text": [
      "                   all        282        482      0.898       0.78      0.894      0.663\n",
      " Oyster- Indeterminate         27        351      0.879      0.843      0.925      0.663\n",
      "         Oyster-Closed         22         37      0.867      0.706       0.85      0.653\n",
      "           Oyster-Open         29         94      0.949      0.791      0.909      0.674\n",
      "Speed: 0.7ms preprocess, 1.9ms inference, 0.0ms loss, 0.5ms postprocess per image\n",
      "Results saved to \u001b[1mruns/detect/val20\u001b[0m\n"
     ]
    }
   ],
   "source": [
    "from ultralytics import YOLO\n",
    "import pandas as pd\n",
    "import os\n",
    "\n",
    "\n",
    "##Validate Your Model(s) on testing data\n",
    "\n",
    "# List of model paths (update with yours)\n",
    "model_paths = [\n",
    "    \"oyster_logs/model_yolov8m/weights/best.pt\",\n",
    "    \"oyster_logs/model_yolov8s/weights/best.pt\",\n",
    "    \"oyster_logs/model_yolov8n/weights/best.pt\"\n",
    "]\n",
    "\n",
    "# Location of your data.yaml file\n",
    "# Swap as needed, full path as was just copied/pasted from file explorer\n",
    "data_yaml = \"/mnt/linuxlab/home/ncorcoran1/Oyster_Orientation_Model/REU_Oyster_2024_Improved-2/data.yaml\"\n",
    "\n",
    "results_list = []\n",
    "count = 0\n",
    "names = [\"YOLOv8m\",\"YOLOv8s\",\"YOLOv8n\"]\n",
    "for path in model_paths:\n",
    "    \n",
    "    print(f\"Validating model: {path}\")\n",
    "    model = YOLO(path)\n",
    "    results = model.val(data=data_yaml, save=False)\n",
    "\n",
    "    results_list.append({\n",
    "        \"Run Name\": names[count],\n",
    "        \"Precision\": round(results.box.p.mean().item(), 3),\n",
    "        \"Recall\": round(results.box.r.mean().item(), 3),\n",
    "        \"mAP@0.5\": round(results.box.map50.mean().item(), 3),\n",
    "        \"mAP@0.5:0.95\": round(results.box.map.mean().item(), 3)\n",
    "    })\n",
    "    count+=1\n",
    "\n",
    "\n"
   ]
  },
  {
   "cell_type": "code",
   "execution_count": 18,
   "id": "46269f5f-7af4-4254-8f95-71e63b6e0675",
   "metadata": {},
   "outputs": [
    {
     "name": "stdout",
     "output_type": "stream",
     "text": [
      "\n",
      "📊 Model Comparison:\n",
      "  Run Name  Precision  Recall  mAP@0.5  mAP@0.5:0.95\n",
      "0  YOLOv8m      0.865   0.871    0.902         0.701\n",
      "1  YOLOv8s      0.860   0.863    0.899         0.675\n",
      "2  YOLOv8n      0.898   0.780    0.894         0.663\n"
     ]
    }
   ],
   "source": [
    "# Create and display DataFrame to neatly display metrics for all 3 models\n",
    "df = pd.DataFrame(results_list)\n",
    "df_sorted = df.sort_values(by=\"mAP@0.5\", ascending=False).reset_index(drop=True)\n",
    "print(\"\\n📊 Model Comparison:\")\n",
    "print(df_sorted)"
   ]
  },
  {
   "cell_type": "code",
   "execution_count": 12,
   "id": "fff3f7a7-a947-4f31-b34a-a95ad30c0a44",
   "metadata": {},
   "outputs": [
    {
     "name": "stdout",
     "output_type": "stream",
     "text": [
      "Evaluating: oyster_logs/model_yolov8m/weights/best.pt\n",
      "Ultralytics YOLOv8.2.103 🚀 Python-3.9.2 torch-1.10.1+cu113 CUDA:0 (NVIDIA GeForce RTX 4080, 16071MiB)\n",
      "Model summary (fused): 218 layers, 25,841,497 parameters, 0 gradients, 78.7 GFLOPs\n"
     ]
    },
    {
     "name": "stderr",
     "output_type": "stream",
     "text": [
      "\u001b[34m\u001b[1mval: \u001b[0mScanning /mnt/linuxlab/home/ncorcoran1/Oyster_Orientation_Model/REU_Oyster_2024_Improved-2/valid/labels.cache... 282 images, 249 backgrounds, 0 corrupt: 100%|██████████| 282/282 [00:00<?, ?it/s]\u001b[0m\n",
      "                 Class     Images  Instances      Box(P          R      mAP50  mAP50-95): 100%|██████████| 18/18 [00:01<00:00,  9.72it/s]\n"
     ]
    },
    {
     "name": "stdout",
     "output_type": "stream",
     "text": [
      "                   all        282        482      0.865      0.871      0.902      0.701\n",
      "Speed: 0.3ms preprocess, 4.8ms inference, 0.0ms loss, 0.2ms postprocess per image\n",
      "Results saved to \u001b[1mruns/detect/val7\u001b[0m\n",
      "Evaluating: oyster_logs/model_yolov8s/weights/best.pt\n",
      "Ultralytics YOLOv8.2.103 🚀 Python-3.9.2 torch-1.10.1+cu113 CUDA:0 (NVIDIA GeForce RTX 4080, 16071MiB)\n",
      "Model summary (fused): 168 layers, 11,126,745 parameters, 0 gradients, 28.4 GFLOPs\n"
     ]
    },
    {
     "name": "stderr",
     "output_type": "stream",
     "text": [
      "\u001b[34m\u001b[1mval: \u001b[0mScanning /mnt/linuxlab/home/ncorcoran1/Oyster_Orientation_Model/REU_Oyster_2024_Improved-2/valid/labels.cache... 282 images, 249 backgrounds, 0 corrupt: 100%|██████████| 282/282 [00:00<?, ?it/s]\u001b[0m\n",
      "                 Class     Images  Instances      Box(P          R      mAP50  mAP50-95): 100%|██████████| 18/18 [00:02<00:00,  8.15it/s]\n"
     ]
    },
    {
     "name": "stdout",
     "output_type": "stream",
     "text": [
      "                   all        282        482       0.86      0.863      0.899      0.675\n",
      "Speed: 0.7ms preprocess, 4.7ms inference, 0.0ms loss, 0.4ms postprocess per image\n",
      "Results saved to \u001b[1mruns/detect/val8\u001b[0m\n",
      "Evaluating: oyster_logs/model_yolov8n/weights/best.pt\n",
      "Ultralytics YOLOv8.2.103 🚀 Python-3.9.2 torch-1.10.1+cu113 CUDA:0 (NVIDIA GeForce RTX 4080, 16071MiB)\n",
      "Model summary (fused): 168 layers, 3,006,233 parameters, 0 gradients, 8.1 GFLOPs\n"
     ]
    },
    {
     "name": "stderr",
     "output_type": "stream",
     "text": [
      "\u001b[34m\u001b[1mval: \u001b[0mScanning /mnt/linuxlab/home/ncorcoran1/Oyster_Orientation_Model/REU_Oyster_2024_Improved-2/valid/labels.cache... 282 images, 249 backgrounds, 0 corrupt: 100%|██████████| 282/282 [00:00<?, ?it/s]\u001b[0m\n",
      "                 Class     Images  Instances      Box(P          R      mAP50  mAP50-95): 100%|██████████| 18/18 [00:01<00:00, 13.84it/s]\n"
     ]
    },
    {
     "name": "stdout",
     "output_type": "stream",
     "text": [
      "                   all        282        482      0.898       0.78      0.894      0.663\n",
      "Speed: 0.7ms preprocess, 1.9ms inference, 0.0ms loss, 0.3ms postprocess per image\n",
      "Results saved to \u001b[1mruns/detect/val9\u001b[0m\n",
      "\n",
      "📊 Model Comparison:\n",
      "  Run Name  Precision  Recall  mAP@0.5  mAP@0.5:0.95\n",
      "0  weights      0.865   0.871    0.902         0.701\n",
      "1  weights      0.860   0.863    0.899         0.675\n",
      "2  weights      0.898   0.780    0.894         0.663\n",
      "3  weights      0.865   0.871    0.902         0.701\n",
      "4  weights      0.860   0.863    0.899         0.675\n",
      "5  weights      0.898   0.780    0.894         0.663\n"
     ]
    }
   ],
   "source": [
    "# Evaluate ALL Models in specified path. Commented out, but could be useful if \n",
    "# further research and computer resources allow you to train many/for a long time\n",
    "\n",
    "# for path in model_paths:\n",
    "#     print(f\"Evaluating: {path}\")\n",
    "#     model = YOLO(path)\n",
    "# [\n",
    "#     # Validate the model\n",
    "#     results = model.val(data=data_yaml, save=False, verbose=False)\n",
    "\n",
    "#     # Collect results\n",
    "#     results_list.append({\n",
    "#         \"Run Name\": os.path.basename(os.path.dirname(path)),\n",
    "#         \"Precision\": round(results.box.p.mean().item(), 3),\n",
    "#         \"Recall\": round(results.box.r.mean().item(), 3),\n",
    "#         \"mAP@0.5\": round(results.box.map50.mean().item(), 3),\n",
    "#         \"mAP@0.5:0.95\": round(results.box.map.mean().item(), 3)\n",
    "#     })\n",
    "\n",
    "# # Show results as a DataFrame\n",
    "# df = pd.DataFrame(results_list)\n",
    "# print(\"\\n📊 Model Comparison:\")\n",
    "# print(df)"
   ]
  },
  {
   "cell_type": "code",
   "execution_count": null,
   "id": "7799985f-73f5-442b-bfb9-b7cd0d221005",
   "metadata": {},
   "outputs": [],
   "source": []
  },
  {
   "cell_type": "code",
   "execution_count": 9,
   "id": "afad4615-2304-4a25-a6d8-438b5183788d",
   "metadata": {},
   "outputs": [
    {
     "ename": "FileNotFoundError",
     "evalue": "[Errno 2] No such file or directory: 'runs\\\\detect\\\\trainX\\\\weights\\\\best.pt'",
     "output_type": "error",
     "traceback": [
      "\u001b[1;31m---------------------------------------------------------------------------\u001b[0m",
      "\u001b[1;31mFileNotFoundError\u001b[0m                         Traceback (most recent call last)",
      "Cell \u001b[1;32mIn[9], line 2\u001b[0m\n\u001b[0;32m      1\u001b[0m results_file \u001b[38;5;241m=\u001b[39m \u001b[38;5;124m\"\u001b[39m\u001b[38;5;124mOyster_Orientation_Model/oyster_logs/model_yolov8m/results.csv\u001b[39m\u001b[38;5;124m\"\u001b[39m\n\u001b[1;32m----> 2\u001b[0m model \u001b[38;5;241m=\u001b[39m \u001b[43mYOLO\u001b[49m\u001b[43m(\u001b[49m\u001b[38;5;124;43m\"\u001b[39;49m\u001b[38;5;124;43mruns/detect/trainX/weights/best.pt\u001b[39;49m\u001b[38;5;124;43m\"\u001b[39;49m\u001b[43m)\u001b[49m \u001b[38;5;66;03m#trainX should be replaced according to your runs/detect directory\u001b[39;00m\n\u001b[0;32m      3\u001b[0m results \u001b[38;5;241m=\u001b[39m model\u001b[38;5;241m.\u001b[39mpredict(\u001b[38;5;124m\"\u001b[39m\u001b[38;5;124mexample_file.png\u001b[39m\u001b[38;5;124m\"\u001b[39m)  \u001b[38;5;66;03m# Used on my home directory. Turn example_file.png --> Your_file.png\u001b[39;00m\n\u001b[0;32m      4\u001b[0m \u001b[38;5;66;03m#This allows you to test a specific file\u001b[39;00m\n\u001b[0;32m      5\u001b[0m \n\u001b[0;32m      6\u001b[0m \u001b[38;5;66;03m# Show the image with bounding boxes\u001b[39;00m\n",
      "File \u001b[1;32m~\\AppData\\Local\\Packages\\PythonSoftwareFoundation.Python.3.11_qbz5n2kfra8p0\\LocalCache\\local-packages\\Python311\\site-packages\\ultralytics\\models\\yolo\\model.py:23\u001b[0m, in \u001b[0;36mYOLO.__init__\u001b[1;34m(self, model, task, verbose)\u001b[0m\n\u001b[0;32m     20\u001b[0m     \u001b[38;5;28mself\u001b[39m\u001b[38;5;241m.\u001b[39m\u001b[38;5;18m__dict__\u001b[39m \u001b[38;5;241m=\u001b[39m new_instance\u001b[38;5;241m.\u001b[39m\u001b[38;5;18m__dict__\u001b[39m\n\u001b[0;32m     21\u001b[0m \u001b[38;5;28;01melse\u001b[39;00m:\n\u001b[0;32m     22\u001b[0m     \u001b[38;5;66;03m# Continue with default YOLO initialization\u001b[39;00m\n\u001b[1;32m---> 23\u001b[0m     \u001b[38;5;28;43msuper\u001b[39;49m\u001b[43m(\u001b[49m\u001b[43m)\u001b[49m\u001b[38;5;241;43m.\u001b[39;49m\u001b[38;5;21;43m__init__\u001b[39;49m\u001b[43m(\u001b[49m\u001b[43mmodel\u001b[49m\u001b[38;5;241;43m=\u001b[39;49m\u001b[43mmodel\u001b[49m\u001b[43m,\u001b[49m\u001b[43m \u001b[49m\u001b[43mtask\u001b[49m\u001b[38;5;241;43m=\u001b[39;49m\u001b[43mtask\u001b[49m\u001b[43m,\u001b[49m\u001b[43m \u001b[49m\u001b[43mverbose\u001b[49m\u001b[38;5;241;43m=\u001b[39;49m\u001b[43mverbose\u001b[49m\u001b[43m)\u001b[49m\n",
      "File \u001b[1;32m~\\AppData\\Local\\Packages\\PythonSoftwareFoundation.Python.3.11_qbz5n2kfra8p0\\LocalCache\\local-packages\\Python311\\site-packages\\ultralytics\\engine\\model.py:145\u001b[0m, in \u001b[0;36mModel.__init__\u001b[1;34m(self, model, task, verbose)\u001b[0m\n\u001b[0;32m    143\u001b[0m     \u001b[38;5;28mself\u001b[39m\u001b[38;5;241m.\u001b[39m_new(model, task\u001b[38;5;241m=\u001b[39mtask, verbose\u001b[38;5;241m=\u001b[39mverbose)\n\u001b[0;32m    144\u001b[0m \u001b[38;5;28;01melse\u001b[39;00m:\n\u001b[1;32m--> 145\u001b[0m     \u001b[38;5;28;43mself\u001b[39;49m\u001b[38;5;241;43m.\u001b[39;49m\u001b[43m_load\u001b[49m\u001b[43m(\u001b[49m\u001b[43mmodel\u001b[49m\u001b[43m,\u001b[49m\u001b[43m \u001b[49m\u001b[43mtask\u001b[49m\u001b[38;5;241;43m=\u001b[39;49m\u001b[43mtask\u001b[49m\u001b[43m)\u001b[49m\n",
      "File \u001b[1;32m~\\AppData\\Local\\Packages\\PythonSoftwareFoundation.Python.3.11_qbz5n2kfra8p0\\LocalCache\\local-packages\\Python311\\site-packages\\ultralytics\\engine\\model.py:285\u001b[0m, in \u001b[0;36mModel._load\u001b[1;34m(self, weights, task)\u001b[0m\n\u001b[0;32m    282\u001b[0m weights \u001b[38;5;241m=\u001b[39m checks\u001b[38;5;241m.\u001b[39mcheck_model_file_from_stem(weights)  \u001b[38;5;66;03m# add suffix, i.e. yolov8n -> yolov8n.pt\u001b[39;00m\n\u001b[0;32m    284\u001b[0m \u001b[38;5;28;01mif\u001b[39;00m Path(weights)\u001b[38;5;241m.\u001b[39msuffix \u001b[38;5;241m==\u001b[39m \u001b[38;5;124m\"\u001b[39m\u001b[38;5;124m.pt\u001b[39m\u001b[38;5;124m\"\u001b[39m:\n\u001b[1;32m--> 285\u001b[0m     \u001b[38;5;28mself\u001b[39m\u001b[38;5;241m.\u001b[39mmodel, \u001b[38;5;28mself\u001b[39m\u001b[38;5;241m.\u001b[39mckpt \u001b[38;5;241m=\u001b[39m \u001b[43mattempt_load_one_weight\u001b[49m\u001b[43m(\u001b[49m\u001b[43mweights\u001b[49m\u001b[43m)\u001b[49m\n\u001b[0;32m    286\u001b[0m     \u001b[38;5;28mself\u001b[39m\u001b[38;5;241m.\u001b[39mtask \u001b[38;5;241m=\u001b[39m \u001b[38;5;28mself\u001b[39m\u001b[38;5;241m.\u001b[39mmodel\u001b[38;5;241m.\u001b[39margs[\u001b[38;5;124m\"\u001b[39m\u001b[38;5;124mtask\u001b[39m\u001b[38;5;124m\"\u001b[39m]\n\u001b[0;32m    287\u001b[0m     \u001b[38;5;28mself\u001b[39m\u001b[38;5;241m.\u001b[39moverrides \u001b[38;5;241m=\u001b[39m \u001b[38;5;28mself\u001b[39m\u001b[38;5;241m.\u001b[39mmodel\u001b[38;5;241m.\u001b[39margs \u001b[38;5;241m=\u001b[39m \u001b[38;5;28mself\u001b[39m\u001b[38;5;241m.\u001b[39m_reset_ckpt_args(\u001b[38;5;28mself\u001b[39m\u001b[38;5;241m.\u001b[39mmodel\u001b[38;5;241m.\u001b[39margs)\n",
      "File \u001b[1;32m~\\AppData\\Local\\Packages\\PythonSoftwareFoundation.Python.3.11_qbz5n2kfra8p0\\LocalCache\\local-packages\\Python311\\site-packages\\ultralytics\\nn\\tasks.py:906\u001b[0m, in \u001b[0;36mattempt_load_one_weight\u001b[1;34m(weight, device, inplace, fuse)\u001b[0m\n\u001b[0;32m    904\u001b[0m \u001b[38;5;28;01mdef\u001b[39;00m \u001b[38;5;21mattempt_load_one_weight\u001b[39m(weight, device\u001b[38;5;241m=\u001b[39m\u001b[38;5;28;01mNone\u001b[39;00m, inplace\u001b[38;5;241m=\u001b[39m\u001b[38;5;28;01mTrue\u001b[39;00m, fuse\u001b[38;5;241m=\u001b[39m\u001b[38;5;28;01mFalse\u001b[39;00m):\n\u001b[0;32m    905\u001b[0m \u001b[38;5;250m    \u001b[39m\u001b[38;5;124;03m\"\"\"Loads a single model weights.\"\"\"\u001b[39;00m\n\u001b[1;32m--> 906\u001b[0m     ckpt, weight \u001b[38;5;241m=\u001b[39m \u001b[43mtorch_safe_load\u001b[49m\u001b[43m(\u001b[49m\u001b[43mweight\u001b[49m\u001b[43m)\u001b[49m  \u001b[38;5;66;03m# load ckpt\u001b[39;00m\n\u001b[0;32m    907\u001b[0m     args \u001b[38;5;241m=\u001b[39m {\u001b[38;5;241m*\u001b[39m\u001b[38;5;241m*\u001b[39mDEFAULT_CFG_DICT, \u001b[38;5;241m*\u001b[39m\u001b[38;5;241m*\u001b[39m(ckpt\u001b[38;5;241m.\u001b[39mget(\u001b[38;5;124m\"\u001b[39m\u001b[38;5;124mtrain_args\u001b[39m\u001b[38;5;124m\"\u001b[39m, {}))}  \u001b[38;5;66;03m# combine model and default args, preferring model args\u001b[39;00m\n\u001b[0;32m    908\u001b[0m     model \u001b[38;5;241m=\u001b[39m (ckpt\u001b[38;5;241m.\u001b[39mget(\u001b[38;5;124m\"\u001b[39m\u001b[38;5;124mema\u001b[39m\u001b[38;5;124m\"\u001b[39m) \u001b[38;5;129;01mor\u001b[39;00m ckpt[\u001b[38;5;124m\"\u001b[39m\u001b[38;5;124mmodel\u001b[39m\u001b[38;5;124m\"\u001b[39m])\u001b[38;5;241m.\u001b[39mto(device)\u001b[38;5;241m.\u001b[39mfloat()  \u001b[38;5;66;03m# FP32 model\u001b[39;00m\n",
      "File \u001b[1;32m~\\AppData\\Local\\Packages\\PythonSoftwareFoundation.Python.3.11_qbz5n2kfra8p0\\LocalCache\\local-packages\\Python311\\site-packages\\ultralytics\\nn\\tasks.py:833\u001b[0m, in \u001b[0;36mtorch_safe_load\u001b[1;34m(weight, safe_only)\u001b[0m\n\u001b[0;32m    831\u001b[0m                 ckpt \u001b[38;5;241m=\u001b[39m torch\u001b[38;5;241m.\u001b[39mload(f, pickle_module\u001b[38;5;241m=\u001b[39msafe_pickle)\n\u001b[0;32m    832\u001b[0m         \u001b[38;5;28;01melse\u001b[39;00m:\n\u001b[1;32m--> 833\u001b[0m             ckpt \u001b[38;5;241m=\u001b[39m \u001b[43mtorch\u001b[49m\u001b[38;5;241;43m.\u001b[39;49m\u001b[43mload\u001b[49m\u001b[43m(\u001b[49m\u001b[43mfile\u001b[49m\u001b[43m,\u001b[49m\u001b[43m \u001b[49m\u001b[43mmap_location\u001b[49m\u001b[38;5;241;43m=\u001b[39;49m\u001b[38;5;124;43m\"\u001b[39;49m\u001b[38;5;124;43mcpu\u001b[39;49m\u001b[38;5;124;43m\"\u001b[39;49m\u001b[43m)\u001b[49m\n\u001b[0;32m    835\u001b[0m \u001b[38;5;28;01mexcept\u001b[39;00m \u001b[38;5;167;01mModuleNotFoundError\u001b[39;00m \u001b[38;5;28;01mas\u001b[39;00m e:  \u001b[38;5;66;03m# e.name is missing module name\u001b[39;00m\n\u001b[0;32m    836\u001b[0m     \u001b[38;5;28;01mif\u001b[39;00m e\u001b[38;5;241m.\u001b[39mname \u001b[38;5;241m==\u001b[39m \u001b[38;5;124m\"\u001b[39m\u001b[38;5;124mmodels\u001b[39m\u001b[38;5;124m\"\u001b[39m:\n",
      "File \u001b[1;32m~\\AppData\\Local\\Packages\\PythonSoftwareFoundation.Python.3.11_qbz5n2kfra8p0\\LocalCache\\local-packages\\Python311\\site-packages\\ultralytics\\utils\\patches.py:86\u001b[0m, in \u001b[0;36mtorch_load\u001b[1;34m(*args, **kwargs)\u001b[0m\n\u001b[0;32m     83\u001b[0m \u001b[38;5;28;01mif\u001b[39;00m TORCH_1_13 \u001b[38;5;129;01mand\u001b[39;00m \u001b[38;5;124m\"\u001b[39m\u001b[38;5;124mweights_only\u001b[39m\u001b[38;5;124m\"\u001b[39m \u001b[38;5;129;01mnot\u001b[39;00m \u001b[38;5;129;01min\u001b[39;00m kwargs:\n\u001b[0;32m     84\u001b[0m     kwargs[\u001b[38;5;124m\"\u001b[39m\u001b[38;5;124mweights_only\u001b[39m\u001b[38;5;124m\"\u001b[39m] \u001b[38;5;241m=\u001b[39m \u001b[38;5;28;01mFalse\u001b[39;00m\n\u001b[1;32m---> 86\u001b[0m \u001b[38;5;28;01mreturn\u001b[39;00m \u001b[43m_torch_load\u001b[49m\u001b[43m(\u001b[49m\u001b[38;5;241;43m*\u001b[39;49m\u001b[43margs\u001b[49m\u001b[43m,\u001b[49m\u001b[43m \u001b[49m\u001b[38;5;241;43m*\u001b[39;49m\u001b[38;5;241;43m*\u001b[39;49m\u001b[43mkwargs\u001b[49m\u001b[43m)\u001b[49m\n",
      "File \u001b[1;32m~\\AppData\\Local\\Packages\\PythonSoftwareFoundation.Python.3.11_qbz5n2kfra8p0\\LocalCache\\local-packages\\Python311\\site-packages\\torch\\serialization.py:1479\u001b[0m, in \u001b[0;36mload\u001b[1;34m(f, map_location, pickle_module, weights_only, mmap, **pickle_load_args)\u001b[0m\n\u001b[0;32m   1476\u001b[0m \u001b[38;5;28;01mif\u001b[39;00m \u001b[38;5;124m\"\u001b[39m\u001b[38;5;124mencoding\u001b[39m\u001b[38;5;124m\"\u001b[39m \u001b[38;5;129;01mnot\u001b[39;00m \u001b[38;5;129;01min\u001b[39;00m pickle_load_args\u001b[38;5;241m.\u001b[39mkeys():\n\u001b[0;32m   1477\u001b[0m     pickle_load_args[\u001b[38;5;124m\"\u001b[39m\u001b[38;5;124mencoding\u001b[39m\u001b[38;5;124m\"\u001b[39m] \u001b[38;5;241m=\u001b[39m \u001b[38;5;124m\"\u001b[39m\u001b[38;5;124mutf-8\u001b[39m\u001b[38;5;124m\"\u001b[39m\n\u001b[1;32m-> 1479\u001b[0m \u001b[38;5;28;01mwith\u001b[39;00m \u001b[43m_open_file_like\u001b[49m\u001b[43m(\u001b[49m\u001b[43mf\u001b[49m\u001b[43m,\u001b[49m\u001b[43m \u001b[49m\u001b[38;5;124;43m\"\u001b[39;49m\u001b[38;5;124;43mrb\u001b[39;49m\u001b[38;5;124;43m\"\u001b[39;49m\u001b[43m)\u001b[49m \u001b[38;5;28;01mas\u001b[39;00m opened_file:\n\u001b[0;32m   1480\u001b[0m     \u001b[38;5;28;01mif\u001b[39;00m _is_zipfile(opened_file):\n\u001b[0;32m   1481\u001b[0m         \u001b[38;5;66;03m# The zipfile reader is going to advance the current file position.\u001b[39;00m\n\u001b[0;32m   1482\u001b[0m         \u001b[38;5;66;03m# If we want to actually tail call to torch.jit.load, we need to\u001b[39;00m\n\u001b[0;32m   1483\u001b[0m         \u001b[38;5;66;03m# reset back to the original position.\u001b[39;00m\n\u001b[0;32m   1484\u001b[0m         orig_position \u001b[38;5;241m=\u001b[39m opened_file\u001b[38;5;241m.\u001b[39mtell()\n",
      "File \u001b[1;32m~\\AppData\\Local\\Packages\\PythonSoftwareFoundation.Python.3.11_qbz5n2kfra8p0\\LocalCache\\local-packages\\Python311\\site-packages\\torch\\serialization.py:759\u001b[0m, in \u001b[0;36m_open_file_like\u001b[1;34m(name_or_buffer, mode)\u001b[0m\n\u001b[0;32m    757\u001b[0m \u001b[38;5;28;01mdef\u001b[39;00m \u001b[38;5;21m_open_file_like\u001b[39m(name_or_buffer: FileLike, mode: \u001b[38;5;28mstr\u001b[39m) \u001b[38;5;241m-\u001b[39m\u001b[38;5;241m>\u001b[39m _opener[IO[\u001b[38;5;28mbytes\u001b[39m]]:\n\u001b[0;32m    758\u001b[0m     \u001b[38;5;28;01mif\u001b[39;00m _is_path(name_or_buffer):\n\u001b[1;32m--> 759\u001b[0m         \u001b[38;5;28;01mreturn\u001b[39;00m \u001b[43m_open_file\u001b[49m\u001b[43m(\u001b[49m\u001b[43mname_or_buffer\u001b[49m\u001b[43m,\u001b[49m\u001b[43m \u001b[49m\u001b[43mmode\u001b[49m\u001b[43m)\u001b[49m\n\u001b[0;32m    760\u001b[0m     \u001b[38;5;28;01melse\u001b[39;00m:\n\u001b[0;32m    761\u001b[0m         \u001b[38;5;28;01mif\u001b[39;00m \u001b[38;5;124m\"\u001b[39m\u001b[38;5;124mw\u001b[39m\u001b[38;5;124m\"\u001b[39m \u001b[38;5;129;01min\u001b[39;00m mode:\n",
      "File \u001b[1;32m~\\AppData\\Local\\Packages\\PythonSoftwareFoundation.Python.3.11_qbz5n2kfra8p0\\LocalCache\\local-packages\\Python311\\site-packages\\torch\\serialization.py:740\u001b[0m, in \u001b[0;36m_open_file.__init__\u001b[1;34m(self, name, mode)\u001b[0m\n\u001b[0;32m    739\u001b[0m \u001b[38;5;28;01mdef\u001b[39;00m \u001b[38;5;21m__init__\u001b[39m(\u001b[38;5;28mself\u001b[39m, name: Union[\u001b[38;5;28mstr\u001b[39m, os\u001b[38;5;241m.\u001b[39mPathLike[\u001b[38;5;28mstr\u001b[39m]], mode: \u001b[38;5;28mstr\u001b[39m) \u001b[38;5;241m-\u001b[39m\u001b[38;5;241m>\u001b[39m \u001b[38;5;28;01mNone\u001b[39;00m:\n\u001b[1;32m--> 740\u001b[0m     \u001b[38;5;28msuper\u001b[39m()\u001b[38;5;241m.\u001b[39m\u001b[38;5;21m__init__\u001b[39m(\u001b[38;5;28;43mopen\u001b[39;49m\u001b[43m(\u001b[49m\u001b[43mname\u001b[49m\u001b[43m,\u001b[49m\u001b[43m \u001b[49m\u001b[43mmode\u001b[49m\u001b[43m)\u001b[49m)\n",
      "\u001b[1;31mFileNotFoundError\u001b[0m: [Errno 2] No such file or directory: 'runs\\\\detect\\\\trainX\\\\weights\\\\best.pt'"
     ]
    }
   ],
   "source": [
    "results_file = \"Oyster_Orientation_Model/oyster_logs/model_yolov8m/results.csv\"\n",
    "model = YOLO(\"runs/detect/trainX/weights/best.pt\") #trainX should be replaced according to your runs/detect directory\n",
    "results = model.predict(\"example_file.png\")  # Used on my home directory. Turn example_file.png --> Your_file.png\n",
    "#This allows you to test a specific file\n",
    "\n",
    "# Show the image with bounding boxes\n",
    "results[0].show()\n",
    "print(\"done\")"
   ]
  },
  {
   "cell_type": "code",
   "execution_count": 23,
   "id": "d44a72aa-9db4-416a-8797-49ae76b75ac0",
   "metadata": {},
   "outputs": [
    {
     "name": "stdout",
     "output_type": "stream",
     "text": [
      "/mnt/linuxlab/home/ncorcoran1/Oyster_Orientation_Model\n"
     ]
    },
    {
     "ename": "NameError",
     "evalue": "name 'dataset' is not defined",
     "output_type": "error",
     "traceback": [
      "\u001b[0;31m---------------------------------------------------------------------------\u001b[0m",
      "\u001b[0;31mNameError\u001b[0m                                 Traceback (most recent call last)",
      "Cell \u001b[0;32mIn[23], line 5\u001b[0m\n\u001b[1;32m      2\u001b[0m \u001b[38;5;28;01mimport\u001b[39;00m \u001b[38;5;21;01mos\u001b[39;00m\n\u001b[1;32m      4\u001b[0m \u001b[38;5;28mprint\u001b[39m(os\u001b[38;5;241m.\u001b[39mgetcwd())\n\u001b[0;32m----> 5\u001b[0m \u001b[38;5;28;01mwith\u001b[39;00m \u001b[38;5;28mopen\u001b[39m(\u001b[43mdataset\u001b[49m\u001b[38;5;241m.\u001b[39mlocation \u001b[38;5;241m+\u001b[39m \u001b[38;5;124m\"\u001b[39m\u001b[38;5;124m/data.yaml\u001b[39m\u001b[38;5;124m\"\u001b[39m, \u001b[38;5;124m\"\u001b[39m\u001b[38;5;124mr\u001b[39m\u001b[38;5;124m\"\u001b[39m) \u001b[38;5;28;01mas\u001b[39;00m f:\n\u001b[1;32m      6\u001b[0m     data_yaml \u001b[38;5;241m=\u001b[39m yaml\u001b[38;5;241m.\u001b[39msafe_load(f)\n\u001b[1;32m      8\u001b[0m \u001b[38;5;28mprint\u001b[39m(\u001b[38;5;124m\"\u001b[39m\u001b[38;5;124mClasses:\u001b[39m\u001b[38;5;124m\"\u001b[39m, data_yaml[\u001b[38;5;124m'\u001b[39m\u001b[38;5;124mnames\u001b[39m\u001b[38;5;124m'\u001b[39m])\n",
      "\u001b[0;31mNameError\u001b[0m: name 'dataset' is not defined"
     ]
    }
   ],
   "source": [
    "import yaml\n",
    "import os\n",
    "\n",
    "print(os.getcwd())\n",
    "with open(dataset.location + \"/data.yaml\", \"r\") as f:\n",
    "    data_yaml = yaml.safe_load(f)\n",
    "\n",
    "print(\"Classes:\", data_yaml['names'])\n",
    "\n",
    "for class_id, class_name in enumerate(data_yaml['names']):\n",
    "    print(f\"Class {class_id} ({class_name}):\")\n",
    "    !grep -c \" {class_id}\" ~/Oyster_Orientation_Model/REU_Oyster_2024_Improved-1/test/labels/*txt\n",
    "print(\"done\")"
   ]
  },
  {
   "cell_type": "code",
   "execution_count": 24,
   "id": "980870ff-8640-4f27-897e-0e6b051be7a7",
   "metadata": {},
   "outputs": [
    {
     "ename": "FileNotFoundError",
     "evalue": "[Errno 2] No such file or directory: '~/Oyster_Orientation_Model/oyster_logs/model_yolov8m/weights/best.pt'",
     "output_type": "error",
     "traceback": [
      "\u001b[0;31m---------------------------------------------------------------------------\u001b[0m",
      "\u001b[0;31mFileNotFoundError\u001b[0m                         Traceback (most recent call last)",
      "Cell \u001b[0;32mIn[24], line 3\u001b[0m\n\u001b[1;32m      1\u001b[0m \u001b[38;5;28;01mfrom\u001b[39;00m \u001b[38;5;21;01multralytics\u001b[39;00m \u001b[38;5;28;01mimport\u001b[39;00m YOLO\n\u001b[0;32m----> 3\u001b[0m model \u001b[38;5;241m=\u001b[39m \u001b[43mYOLO\u001b[49m\u001b[43m(\u001b[49m\u001b[38;5;124;43m\"\u001b[39;49m\u001b[38;5;124;43m~/Oyster_Orientation_Model/oyster_logs/model_yolov8m/weights/best.pt\u001b[39;49m\u001b[38;5;124;43m\"\u001b[39;49m\u001b[43m)\u001b[49m  \u001b[38;5;66;03m# or wherever your model is saved\u001b[39;00m\n\u001b[1;32m      4\u001b[0m \u001b[38;5;28mprint\u001b[39m(\u001b[38;5;124m\"\u001b[39m\u001b[38;5;124mGot Model\u001b[39m\u001b[38;5;124m\"\u001b[39m)\n\u001b[1;32m      6\u001b[0m metrics \u001b[38;5;241m=\u001b[39m model\u001b[38;5;241m.\u001b[39mval(data\u001b[38;5;241m=\u001b[39m\u001b[38;5;124m\"\u001b[39m\u001b[38;5;124mREU_Oyster_2024_Improved-2/data.yaml\u001b[39m\u001b[38;5;124m\"\u001b[39m, imgsz\u001b[38;5;241m=\u001b[39m\u001b[38;5;241m960\u001b[39m, batch\u001b[38;5;241m=\u001b[39m\u001b[38;5;241m16\u001b[39m)\n",
      "File \u001b[0;32m~/.local/lib/python3.9/site-packages/ultralytics/models/yolo/model.py:23\u001b[0m, in \u001b[0;36mYOLO.__init__\u001b[0;34m(self, model, task, verbose)\u001b[0m\n\u001b[1;32m     20\u001b[0m     \u001b[38;5;28mself\u001b[39m\u001b[38;5;241m.\u001b[39m\u001b[38;5;18m__dict__\u001b[39m \u001b[38;5;241m=\u001b[39m new_instance\u001b[38;5;241m.\u001b[39m\u001b[38;5;18m__dict__\u001b[39m\n\u001b[1;32m     21\u001b[0m \u001b[38;5;28;01melse\u001b[39;00m:\n\u001b[1;32m     22\u001b[0m     \u001b[38;5;66;03m# Continue with default YOLO initialization\u001b[39;00m\n\u001b[0;32m---> 23\u001b[0m     \u001b[38;5;28;43msuper\u001b[39;49m\u001b[43m(\u001b[49m\u001b[43m)\u001b[49m\u001b[38;5;241;43m.\u001b[39;49m\u001b[38;5;21;43m__init__\u001b[39;49m\u001b[43m(\u001b[49m\u001b[43mmodel\u001b[49m\u001b[38;5;241;43m=\u001b[39;49m\u001b[43mmodel\u001b[49m\u001b[43m,\u001b[49m\u001b[43m \u001b[49m\u001b[43mtask\u001b[49m\u001b[38;5;241;43m=\u001b[39;49m\u001b[43mtask\u001b[49m\u001b[43m,\u001b[49m\u001b[43m \u001b[49m\u001b[43mverbose\u001b[49m\u001b[38;5;241;43m=\u001b[39;49m\u001b[43mverbose\u001b[49m\u001b[43m)\u001b[49m\n",
      "File \u001b[0;32m~/.local/lib/python3.9/site-packages/ultralytics/engine/model.py:145\u001b[0m, in \u001b[0;36mModel.__init__\u001b[0;34m(self, model, task, verbose)\u001b[0m\n\u001b[1;32m    143\u001b[0m     \u001b[38;5;28mself\u001b[39m\u001b[38;5;241m.\u001b[39m_new(model, task\u001b[38;5;241m=\u001b[39mtask, verbose\u001b[38;5;241m=\u001b[39mverbose)\n\u001b[1;32m    144\u001b[0m \u001b[38;5;28;01melse\u001b[39;00m:\n\u001b[0;32m--> 145\u001b[0m     \u001b[38;5;28;43mself\u001b[39;49m\u001b[38;5;241;43m.\u001b[39;49m\u001b[43m_load\u001b[49m\u001b[43m(\u001b[49m\u001b[43mmodel\u001b[49m\u001b[43m,\u001b[49m\u001b[43m \u001b[49m\u001b[43mtask\u001b[49m\u001b[38;5;241;43m=\u001b[39;49m\u001b[43mtask\u001b[49m\u001b[43m)\u001b[49m\n",
      "File \u001b[0;32m~/.local/lib/python3.9/site-packages/ultralytics/engine/model.py:285\u001b[0m, in \u001b[0;36mModel._load\u001b[0;34m(self, weights, task)\u001b[0m\n\u001b[1;32m    282\u001b[0m weights \u001b[38;5;241m=\u001b[39m checks\u001b[38;5;241m.\u001b[39mcheck_model_file_from_stem(weights)  \u001b[38;5;66;03m# add suffix, i.e. yolov8n -> yolov8n.pt\u001b[39;00m\n\u001b[1;32m    284\u001b[0m \u001b[38;5;28;01mif\u001b[39;00m Path(weights)\u001b[38;5;241m.\u001b[39msuffix \u001b[38;5;241m==\u001b[39m \u001b[38;5;124m\"\u001b[39m\u001b[38;5;124m.pt\u001b[39m\u001b[38;5;124m\"\u001b[39m:\n\u001b[0;32m--> 285\u001b[0m     \u001b[38;5;28mself\u001b[39m\u001b[38;5;241m.\u001b[39mmodel, \u001b[38;5;28mself\u001b[39m\u001b[38;5;241m.\u001b[39mckpt \u001b[38;5;241m=\u001b[39m \u001b[43mattempt_load_one_weight\u001b[49m\u001b[43m(\u001b[49m\u001b[43mweights\u001b[49m\u001b[43m)\u001b[49m\n\u001b[1;32m    286\u001b[0m     \u001b[38;5;28mself\u001b[39m\u001b[38;5;241m.\u001b[39mtask \u001b[38;5;241m=\u001b[39m \u001b[38;5;28mself\u001b[39m\u001b[38;5;241m.\u001b[39mmodel\u001b[38;5;241m.\u001b[39margs[\u001b[38;5;124m\"\u001b[39m\u001b[38;5;124mtask\u001b[39m\u001b[38;5;124m\"\u001b[39m]\n\u001b[1;32m    287\u001b[0m     \u001b[38;5;28mself\u001b[39m\u001b[38;5;241m.\u001b[39moverrides \u001b[38;5;241m=\u001b[39m \u001b[38;5;28mself\u001b[39m\u001b[38;5;241m.\u001b[39mmodel\u001b[38;5;241m.\u001b[39margs \u001b[38;5;241m=\u001b[39m \u001b[38;5;28mself\u001b[39m\u001b[38;5;241m.\u001b[39m_reset_ckpt_args(\u001b[38;5;28mself\u001b[39m\u001b[38;5;241m.\u001b[39mmodel\u001b[38;5;241m.\u001b[39margs)\n",
      "File \u001b[0;32m~/.local/lib/python3.9/site-packages/ultralytics/nn/tasks.py:906\u001b[0m, in \u001b[0;36mattempt_load_one_weight\u001b[0;34m(weight, device, inplace, fuse)\u001b[0m\n\u001b[1;32m    904\u001b[0m \u001b[38;5;28;01mdef\u001b[39;00m \u001b[38;5;21mattempt_load_one_weight\u001b[39m(weight, device\u001b[38;5;241m=\u001b[39m\u001b[38;5;28;01mNone\u001b[39;00m, inplace\u001b[38;5;241m=\u001b[39m\u001b[38;5;28;01mTrue\u001b[39;00m, fuse\u001b[38;5;241m=\u001b[39m\u001b[38;5;28;01mFalse\u001b[39;00m):\n\u001b[1;32m    905\u001b[0m     \u001b[38;5;124;03m\"\"\"Loads a single model weights.\"\"\"\u001b[39;00m\n\u001b[0;32m--> 906\u001b[0m     ckpt, weight \u001b[38;5;241m=\u001b[39m \u001b[43mtorch_safe_load\u001b[49m\u001b[43m(\u001b[49m\u001b[43mweight\u001b[49m\u001b[43m)\u001b[49m  \u001b[38;5;66;03m# load ckpt\u001b[39;00m\n\u001b[1;32m    907\u001b[0m     args \u001b[38;5;241m=\u001b[39m {\u001b[38;5;241m*\u001b[39m\u001b[38;5;241m*\u001b[39mDEFAULT_CFG_DICT, \u001b[38;5;241m*\u001b[39m\u001b[38;5;241m*\u001b[39m(ckpt\u001b[38;5;241m.\u001b[39mget(\u001b[38;5;124m\"\u001b[39m\u001b[38;5;124mtrain_args\u001b[39m\u001b[38;5;124m\"\u001b[39m, {}))}  \u001b[38;5;66;03m# combine model and default args, preferring model args\u001b[39;00m\n\u001b[1;32m    908\u001b[0m     model \u001b[38;5;241m=\u001b[39m (ckpt\u001b[38;5;241m.\u001b[39mget(\u001b[38;5;124m\"\u001b[39m\u001b[38;5;124mema\u001b[39m\u001b[38;5;124m\"\u001b[39m) \u001b[38;5;129;01mor\u001b[39;00m ckpt[\u001b[38;5;124m\"\u001b[39m\u001b[38;5;124mmodel\u001b[39m\u001b[38;5;124m\"\u001b[39m])\u001b[38;5;241m.\u001b[39mto(device)\u001b[38;5;241m.\u001b[39mfloat()  \u001b[38;5;66;03m# FP32 model\u001b[39;00m\n",
      "File \u001b[0;32m~/.local/lib/python3.9/site-packages/ultralytics/nn/tasks.py:833\u001b[0m, in \u001b[0;36mtorch_safe_load\u001b[0;34m(weight, safe_only)\u001b[0m\n\u001b[1;32m    831\u001b[0m                 ckpt \u001b[38;5;241m=\u001b[39m torch\u001b[38;5;241m.\u001b[39mload(f, pickle_module\u001b[38;5;241m=\u001b[39msafe_pickle)\n\u001b[1;32m    832\u001b[0m         \u001b[38;5;28;01melse\u001b[39;00m:\n\u001b[0;32m--> 833\u001b[0m             ckpt \u001b[38;5;241m=\u001b[39m \u001b[43mtorch\u001b[49m\u001b[38;5;241;43m.\u001b[39;49m\u001b[43mload\u001b[49m\u001b[43m(\u001b[49m\u001b[43mfile\u001b[49m\u001b[43m,\u001b[49m\u001b[43m \u001b[49m\u001b[43mmap_location\u001b[49m\u001b[38;5;241;43m=\u001b[39;49m\u001b[38;5;124;43m\"\u001b[39;49m\u001b[38;5;124;43mcpu\u001b[39;49m\u001b[38;5;124;43m\"\u001b[39;49m\u001b[43m)\u001b[49m\n\u001b[1;32m    835\u001b[0m \u001b[38;5;28;01mexcept\u001b[39;00m \u001b[38;5;167;01mModuleNotFoundError\u001b[39;00m \u001b[38;5;28;01mas\u001b[39;00m e:  \u001b[38;5;66;03m# e.name is missing module name\u001b[39;00m\n\u001b[1;32m    836\u001b[0m     \u001b[38;5;28;01mif\u001b[39;00m e\u001b[38;5;241m.\u001b[39mname \u001b[38;5;241m==\u001b[39m \u001b[38;5;124m\"\u001b[39m\u001b[38;5;124mmodels\u001b[39m\u001b[38;5;124m\"\u001b[39m:\n",
      "File \u001b[0;32m~/.local/lib/python3.9/site-packages/ultralytics/utils/patches.py:86\u001b[0m, in \u001b[0;36mtorch_load\u001b[0;34m(*args, **kwargs)\u001b[0m\n\u001b[1;32m     83\u001b[0m \u001b[38;5;28;01mif\u001b[39;00m TORCH_1_13 \u001b[38;5;129;01mand\u001b[39;00m \u001b[38;5;124m\"\u001b[39m\u001b[38;5;124mweights_only\u001b[39m\u001b[38;5;124m\"\u001b[39m \u001b[38;5;129;01mnot\u001b[39;00m \u001b[38;5;129;01min\u001b[39;00m kwargs:\n\u001b[1;32m     84\u001b[0m     kwargs[\u001b[38;5;124m\"\u001b[39m\u001b[38;5;124mweights_only\u001b[39m\u001b[38;5;124m\"\u001b[39m] \u001b[38;5;241m=\u001b[39m \u001b[38;5;28;01mFalse\u001b[39;00m\n\u001b[0;32m---> 86\u001b[0m \u001b[38;5;28;01mreturn\u001b[39;00m \u001b[43m_torch_load\u001b[49m\u001b[43m(\u001b[49m\u001b[38;5;241;43m*\u001b[39;49m\u001b[43margs\u001b[49m\u001b[43m,\u001b[49m\u001b[43m \u001b[49m\u001b[38;5;241;43m*\u001b[39;49m\u001b[38;5;241;43m*\u001b[39;49m\u001b[43mkwargs\u001b[49m\u001b[43m)\u001b[49m\n",
      "File \u001b[0;32m~/.local/lib/python3.9/site-packages/torch/serialization.py:594\u001b[0m, in \u001b[0;36mload\u001b[0;34m(f, map_location, pickle_module, **pickle_load_args)\u001b[0m\n\u001b[1;32m    591\u001b[0m \u001b[38;5;28;01mif\u001b[39;00m \u001b[38;5;124m'\u001b[39m\u001b[38;5;124mencoding\u001b[39m\u001b[38;5;124m'\u001b[39m \u001b[38;5;129;01mnot\u001b[39;00m \u001b[38;5;129;01min\u001b[39;00m pickle_load_args\u001b[38;5;241m.\u001b[39mkeys():\n\u001b[1;32m    592\u001b[0m     pickle_load_args[\u001b[38;5;124m'\u001b[39m\u001b[38;5;124mencoding\u001b[39m\u001b[38;5;124m'\u001b[39m] \u001b[38;5;241m=\u001b[39m \u001b[38;5;124m'\u001b[39m\u001b[38;5;124mutf-8\u001b[39m\u001b[38;5;124m'\u001b[39m\n\u001b[0;32m--> 594\u001b[0m \u001b[38;5;28;01mwith\u001b[39;00m \u001b[43m_open_file_like\u001b[49m\u001b[43m(\u001b[49m\u001b[43mf\u001b[49m\u001b[43m,\u001b[49m\u001b[43m \u001b[49m\u001b[38;5;124;43m'\u001b[39;49m\u001b[38;5;124;43mrb\u001b[39;49m\u001b[38;5;124;43m'\u001b[39;49m\u001b[43m)\u001b[49m \u001b[38;5;28;01mas\u001b[39;00m opened_file:\n\u001b[1;32m    595\u001b[0m     \u001b[38;5;28;01mif\u001b[39;00m _is_zipfile(opened_file):\n\u001b[1;32m    596\u001b[0m         \u001b[38;5;66;03m# The zipfile reader is going to advance the current file position.\u001b[39;00m\n\u001b[1;32m    597\u001b[0m         \u001b[38;5;66;03m# If we want to actually tail call to torch.jit.load, we need to\u001b[39;00m\n\u001b[1;32m    598\u001b[0m         \u001b[38;5;66;03m# reset back to the original position.\u001b[39;00m\n\u001b[1;32m    599\u001b[0m         orig_position \u001b[38;5;241m=\u001b[39m opened_file\u001b[38;5;241m.\u001b[39mtell()\n",
      "File \u001b[0;32m~/.local/lib/python3.9/site-packages/torch/serialization.py:230\u001b[0m, in \u001b[0;36m_open_file_like\u001b[0;34m(name_or_buffer, mode)\u001b[0m\n\u001b[1;32m    228\u001b[0m \u001b[38;5;28;01mdef\u001b[39;00m \u001b[38;5;21m_open_file_like\u001b[39m(name_or_buffer, mode):\n\u001b[1;32m    229\u001b[0m     \u001b[38;5;28;01mif\u001b[39;00m _is_path(name_or_buffer):\n\u001b[0;32m--> 230\u001b[0m         \u001b[38;5;28;01mreturn\u001b[39;00m \u001b[43m_open_file\u001b[49m\u001b[43m(\u001b[49m\u001b[43mname_or_buffer\u001b[49m\u001b[43m,\u001b[49m\u001b[43m \u001b[49m\u001b[43mmode\u001b[49m\u001b[43m)\u001b[49m\n\u001b[1;32m    231\u001b[0m     \u001b[38;5;28;01melse\u001b[39;00m:\n\u001b[1;32m    232\u001b[0m         \u001b[38;5;28;01mif\u001b[39;00m \u001b[38;5;124m'\u001b[39m\u001b[38;5;124mw\u001b[39m\u001b[38;5;124m'\u001b[39m \u001b[38;5;129;01min\u001b[39;00m mode:\n",
      "File \u001b[0;32m~/.local/lib/python3.9/site-packages/torch/serialization.py:211\u001b[0m, in \u001b[0;36m_open_file.__init__\u001b[0;34m(self, name, mode)\u001b[0m\n\u001b[1;32m    210\u001b[0m \u001b[38;5;28;01mdef\u001b[39;00m \u001b[38;5;21m__init__\u001b[39m(\u001b[38;5;28mself\u001b[39m, name, mode):\n\u001b[0;32m--> 211\u001b[0m     \u001b[38;5;28msuper\u001b[39m(_open_file, \u001b[38;5;28mself\u001b[39m)\u001b[38;5;241m.\u001b[39m\u001b[38;5;21m__init__\u001b[39m(\u001b[38;5;28;43mopen\u001b[39;49m\u001b[43m(\u001b[49m\u001b[43mname\u001b[49m\u001b[43m,\u001b[49m\u001b[43m \u001b[49m\u001b[43mmode\u001b[49m\u001b[43m)\u001b[49m)\n",
      "\u001b[0;31mFileNotFoundError\u001b[0m: [Errno 2] No such file or directory: '~/Oyster_Orientation_Model/oyster_logs/model_yolov8m/weights/best.pt'"
     ]
    }
   ],
   "source": [
    "#Future user will need to change their code or their directory structure\n",
    "from ultralytics import YOLO\n",
    "\n",
    "model = YOLO(\"~/Oyster_Orientation_Model/oyster_logs/model_yolov8m/weights/best.pt\")  # or wherever your model is saved\n",
    "print(\"Got Model\")\n",
    "\n",
    "metrics = model.val(data=\"REU_Oyster_2024_Improved-2/data.yaml\", imgsz=960, batch=16)\n",
    "print(\"Got Metrics\")\n",
    "\n",
    "# View the results\n",
    "print(metrics)\n"
   ]
  },
  {
   "cell_type": "code",
   "execution_count": 22,
   "id": "1aa47454-98ab-498c-9c0d-9bc277658c9f",
   "metadata": {},
   "outputs": [
    {
     "ename": "NameError",
     "evalue": "name 'dataset' is not defined",
     "output_type": "error",
     "traceback": [
      "\u001b[0;31m---------------------------------------------------------------------------\u001b[0m",
      "\u001b[0;31mNameError\u001b[0m                                 Traceback (most recent call last)",
      "Cell \u001b[0;32mIn[22], line 6\u001b[0m\n\u001b[1;32m      3\u001b[0m \u001b[38;5;28;01mfrom\u001b[39;00m \u001b[38;5;21;01mglob\u001b[39;00m \u001b[38;5;28;01mimport\u001b[39;00m glob\n\u001b[1;32m      5\u001b[0m \u001b[38;5;66;03m# Define path to dataset YAML\u001b[39;00m\n\u001b[0;32m----> 6\u001b[0m yaml_path \u001b[38;5;241m=\u001b[39m os\u001b[38;5;241m.\u001b[39mpath\u001b[38;5;241m.\u001b[39mjoin(\u001b[43mdataset\u001b[49m\u001b[38;5;241m.\u001b[39mlocation, \u001b[38;5;124m\"\u001b[39m\u001b[38;5;124mdata.yaml\u001b[39m\u001b[38;5;124m\"\u001b[39m)\n\u001b[1;32m      8\u001b[0m \u001b[38;5;66;03m# Load class names from YAML\u001b[39;00m\n\u001b[1;32m      9\u001b[0m \u001b[38;5;28;01mwith\u001b[39;00m \u001b[38;5;28mopen\u001b[39m(yaml_path, \u001b[38;5;124m\"\u001b[39m\u001b[38;5;124mr\u001b[39m\u001b[38;5;124m\"\u001b[39m) \u001b[38;5;28;01mas\u001b[39;00m f:\n",
      "\u001b[0;31mNameError\u001b[0m: name 'dataset' is not defined"
     ]
    }
   ],
   "source": [
    "import yaml\n",
    "import os\n",
    "from glob import glob\n",
    "\n",
    "# Define path to dataset YAML\n",
    "yaml_path = os.path.join(dataset.location, \"data.yaml\")\n",
    "\n",
    "# Load class names from YAML\n",
    "with open(yaml_path, \"r\") as f:\n",
    "    data_yaml = yaml.safe_load(f)\n",
    "\n",
    "class_names = data_yaml['names']\n",
    "num_classes = len(class_names)\n",
    "\n",
    "# Set test label directory\n",
    "label_dir = os.path.join(dataset.location, \"test/labels\")\n",
    "label_files = glob(os.path.join(label_dir, \"*.txt\"))\n",
    "\n",
    "# Count instances per class\n",
    "class_counts = [0] * num_classes\n",
    "\n",
    "for label_file in label_files:\n",
    "    with open(label_file, \"r\") as f:\n",
    "        for line in f:\n",
    "            if line.strip():\n",
    "                class_id = int(line.split()[0])\n",
    "                if 0 <= class_id < num_classes:\n",
    "                    class_counts[class_id] += 1\n",
    "\n",
    "# Print results\n",
    "print(\"📊 Class Distribution in Test Set:\")\n",
    "for class_id, class_name in class_names.items():\n",
    "    print(f\"Class {class_id} ({class_name}): {class_counts[int(class_id)]} samples\")\n"
   ]
  }
 ],
 "metadata": {
  "kernelspec": {
   "display_name": "Python 3",
   "language": "python",
   "name": "python3"
  },
  "language_info": {
   "codemirror_mode": {
    "name": "ipython",
    "version": 3
   },
   "file_extension": ".py",
   "mimetype": "text/x-python",
   "name": "python",
   "nbconvert_exporter": "python",
   "pygments_lexer": "ipython3",
   "version": "3.11.9"
  }
 },
 "nbformat": 4,
 "nbformat_minor": 5
}
